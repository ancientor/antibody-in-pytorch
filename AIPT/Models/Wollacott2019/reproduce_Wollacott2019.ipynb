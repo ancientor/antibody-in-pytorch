{
 "cells": [
  {
   "cell_type": "code",
   "execution_count": 1,
   "metadata": {
    "execution": {
     "iopub.execute_input": "2020-03-11T00:10:30.236Z",
     "iopub.status.busy": "2020-03-11T00:10:30.229Z",
     "iopub.status.idle": "2020-03-11T00:10:31.526Z",
     "shell.execute_reply": "2020-03-11T00:10:31.529Z"
    }
   },
   "outputs": [],
   "source": [
    "import json\n",
    "import os\n",
    "import sys\n",
    "import warnings\n",
    "import pickle as pkl\n",
    "import numpy as np\n",
    "import torch\n",
    "import torch.nn as nn\n",
    "import torch.optim as optim\n",
    "import matplotlib.pyplot as plt\n",
    "from sklearn.metrics import roc_auc_score, roc_curve\n",
    "warnings.filterwarnings(\"ignore\")"
   ]
  },
  {
   "cell_type": "code",
   "execution_count": 2,
   "metadata": {
    "execution": {
     "iopub.execute_input": "2020-03-11T00:10:32.280Z",
     "iopub.status.busy": "2020-03-11T00:10:32.276Z",
     "iopub.status.idle": "2020-03-11T00:10:32.640Z",
     "shell.execute_reply": "2020-03-11T00:10:32.646Z"
    }
   },
   "outputs": [],
   "source": [
    "from AIPT.Benchmarks.OAS_dataset import OAS_data_loader\n",
    "from AIPT.Models.Wollacott2019 import Bi_LSTM\n",
    "from AIPT.Utils.model import Model\n",
    "from AIPT.Utils import loader"
   ]
  },
  {
   "cell_type": "code",
   "execution_count": 3,
   "metadata": {
    "execution": {
     "iopub.execute_input": "2020-03-11T00:10:33.705Z",
     "iopub.status.busy": "2020-03-11T00:10:33.701Z",
     "iopub.status.idle": "2020-03-11T00:10:33.712Z",
     "shell.execute_reply": "2020-03-11T00:10:33.716Z"
    }
   },
   "outputs": [],
   "source": [
    "def collate_fn(batch):\n",
    "    \"\"\"\n",
    "    Retrieve the labels for training \n",
    "    \"\"\"\n",
    "    return batch, [x for seq in batch for x in seq] "
   ]
  },
  {
   "cell_type": "markdown",
   "metadata": {},
   "source": [
    "# Parameters"
   ]
  },
  {
   "cell_type": "code",
   "execution_count": 4,
   "metadata": {
    "execution": {
     "iopub.execute_input": "2020-03-11T00:10:37.219Z",
     "iopub.status.busy": "2020-03-11T00:10:37.214Z",
     "iopub.status.idle": "2020-03-11T00:10:37.226Z",
     "shell.execute_reply": "2020-03-11T00:10:37.230Z"
    }
   },
   "outputs": [],
   "source": [
    "para_dict = {'epoch': 4,\n",
    "             'step_size': 10,\n",
    "             'batch_size': 8192,\n",
    "             'learning_rate': 0.01,\n",
    "             'gapped': True,\n",
    "             'embedding_dim': 64,\n",
    "             'hidden_dim': 64,\n",
    "             'fixed_len': False}\n",
    "datapath = '../../Benchmarks/OAS_dataset/data/'"
   ]
  },
  {
   "cell_type": "markdown",
   "metadata": {},
   "source": [
    "# Data Loader"
   ]
  },
  {
   "cell_type": "code",
   "execution_count": 5,
   "metadata": {
    "execution": {
     "iopub.execute_input": "2020-03-11T00:10:41.396Z",
     "iopub.status.busy": "2020-03-11T00:10:41.392Z",
     "iopub.status.idle": "2020-03-11T00:10:42.419Z",
     "shell.execute_reply": "2020-03-11T00:10:42.424Z"
    },
    "jupyter": {
     "outputs_hidden": false,
     "source_hidden": false
    },
    "nteract": {
     "transient": {
      "deleting": false
     }
    }
   },
   "outputs": [],
   "source": [
    "# Training data\n",
    "data = pkl.load(open(os.path.join(datapath,'Human_train_seq_full_length.csv.gz'), 'rb'))\n",
    "train_x = OAS_data_loader.encode_index(data=data['seq'].values, gapped=True)\n",
    "train_loader = torch.utils.data.DataLoader(train_x, collate_fn=OAS_data_loader.collate_fn)"
   ]
  },
  {
   "cell_type": "code",
   "execution_count": 17,
   "metadata": {
    "execution": {
     "iopub.execute_input": "2020-03-11T00:53:01.417Z",
     "iopub.status.busy": "2020-03-11T00:53:01.414Z",
     "iopub.status.idle": "2020-03-11T00:53:01.597Z",
     "shell.execute_reply": "2020-03-11T00:53:01.599Z"
    }
   },
   "outputs": [],
   "source": [
    "# Human test data\n",
    "test_data = pkl.load(open(os.path.join(datapath,'Human_test_seq_full_length.csv.gz'), 'rb'))\n",
    "test_x = OAS_data_loader.encode_index(data=test_data['seq'].values)\n",
    "human_test_loader = torch.utils.data.DataLoader(test_x, collate_fn=collate_fn)\n",
    "\n",
    "# Rabbit test data\n",
    "test_data = pkl.load(open(os.path.join(datapath,'Rabbit_test_seq_full_length.csv.gz'), 'rb'))\n",
    "test_x = OAS_data_loader.encode_index(data=test_data['seq'].values)\n",
    "rabbit_test_loader = torch.utils.data.DataLoader(test_x, collate_fn=collate_fn)\n",
    "\n",
    "# Mouse test data\n",
    "test_data = pkl.load(open(os.path.join(datapath,'Mouse_test_seq_full_length.csv.gz'), 'rb'))\n",
    "test_x = OAS_data_loader.encode_index(data=test_data['seq'].values)\n",
    "mouse_test_loader = torch.utils.data.DataLoader(test_x, collate_fn=collate_fn)\n",
    "\n",
    "# Rhesus test data\n",
    "test_data = pkl.load(open(os.path.join(datapath,'Rhesus_test_seq_full_length.csv.gz'), 'rb'))\n",
    "test_x = OAS_data_loader.encode_index(data=test_data['seq'].values)\n",
    "rhesus_test_loader = torch.utils.data.DataLoader(test_x, collate_fn=collate_fn)"
   ]
  },
  {
   "cell_type": "markdown",
   "metadata": {},
   "source": [
    "# Train & Test"
   ]
  },
  {
   "cell_type": "code",
   "execution_count": 10,
   "metadata": {
    "execution": {
     "iopub.execute_input": "2020-03-11T00:25:54.277Z",
     "iopub.status.busy": "2020-03-11T00:25:54.272Z",
     "iopub.status.idle": "2020-03-11T00:33:52.351Z",
     "shell.execute_reply": "2020-03-11T00:33:52.367Z"
    }
   },
   "outputs": [],
   "source": [
    "model = Bi_LSTM.LSTM_Bi(para_dict)\n",
    "model.fit(train_loader)\n",
    "output_human_train = model.predict(train_loader)"
   ]
  },
  {
   "cell_type": "markdown",
   "metadata": {},
   "source": [
    "# ROC curve"
   ]
  },
  {
   "cell_type": "code",
   "execution_count": 18,
   "metadata": {
    "execution": {
     "iopub.execute_input": "2020-03-11T00:53:08.093Z",
     "iopub.status.busy": "2020-03-11T00:53:08.088Z",
     "iopub.status.idle": "2020-03-11T00:54:17.588Z",
     "shell.execute_reply": "2020-03-11T00:54:17.604Z"
    },
    "scrolled": false
   },
   "outputs": [
    {
     "name": "stdout",
     "output_type": "stream",
     "text": [
      "AUC score for mouse:  0.993064\n",
      "AUC score for rabbit  1.0\n",
      "AUC score for rhesus  0.986144\n"
     ]
    },
    {
     "data": {
      "text/plain": [
       "<matplotlib.legend.Legend at 0x1a30989dd0>"
      ]
     },
     "execution_count": 18,
     "metadata": {},
     "output_type": "execute_result"
    },
    {
     "data": {
      "image/png": "[encoded data removed]",
      "text/plain": [
       "<Figure size 720x432 with 1 Axes>"
      ]
     },
     "metadata": {
      "needs_background": "light"
     },
     "output_type": "display_data"
    }
   ],
   "source": [
    "output_human = model.predict(human_test_loader)\n",
    "plt.figure(figsize=(10,6))\n",
    "\n",
    "# Mouse species roc curve\n",
    "output_mouse = model.predict(mouse_test_loader)\n",
    "label = [-1 if a < 1000 else 1 for a in range(2000)]\n",
    "output = np.concatenate((output_human, output_mouse), axis=0)\n",
    "mouse_fpr, mouse_tpr, _ = roc_curve(np.array(label), np.array(output))\n",
    "AUC_score_mouse = roc_auc_score(np.array(label), np.array(output))\n",
    "print('AUC score for mouse: ', AUC_score_mouse)\n",
    "plt.plot(mouse_fpr, mouse_tpr, 'r', label='mouse(AUC=' + str(AUC_score_mouse) + ')')\n",
    "\n",
    "# Rabbit species roc curve\n",
    "output_rabbit = model.predict(rabbit_test_loader)\n",
    "label = [-1 if a < 1000 else 1 for a in range(2000)]\n",
    "output = np.concatenate((output_human, output_rabbit), axis=0)\n",
    "rabbit_fpr, rabbit_tpr, _ = roc_curve(np.array(label), np.array(output))\n",
    "AUC_score_rabbit = roc_auc_score(np.array(label), np.array(output))\n",
    "print('AUC score for rabbit ', AUC_score_rabbit)\n",
    "plt.plot(rabbit_fpr, rabbit_tpr, 'g', label='rabbit(AUC=' + str(AUC_score_rabbit) + ')')\n",
    "\n",
    "# Rhesus species roc curve\n",
    "output_rhesus = model.predict(rhesus_test_loader)\n",
    "label = [-1 if a < 1000 else 1 for a in range(2000)]\n",
    "output = np.concatenate((output_human, output_rhesus), axis=0)\n",
    "rhesus_fpr, rhesus_tpr, _ = roc_curve(np.array(label), np.array(output))\n",
    "AUC_score_rhesus = roc_auc_score(np.array(label), np.array(output))\n",
    "print('AUC score for rhesus ', AUC_score_rhesus)\n",
    "plt.plot(rhesus_fpr, rhesus_tpr, 'b', label='rhesus(AUC=' + str(AUC_score_rhesus) + ')')\n",
    "\n",
    "plt.xlabel('False positive rate')\n",
    "plt.ylabel('True positive rate')\n",
    "plt.legend()"
   ]
  },
  {
   "cell_type": "markdown",
   "metadata": {},
   "source": [
    "Check out Figure 2(b) for the comparison"
   ]
  },
  {
   "cell_type": "markdown",
   "metadata": {},
   "source": [
    "# Histogram plot"
   ]
  },
  {
   "cell_type": "code",
   "execution_count": 19,
   "metadata": {
    "execution": {
     "iopub.execute_input": "2020-03-11T00:54:17.601Z",
     "iopub.status.busy": "2020-03-11T00:54:17.597Z",
     "iopub.status.idle": "2020-03-11T00:54:17.765Z",
     "shell.execute_reply": "2020-03-11T00:54:17.772Z"
    }
   },
   "outputs": [
    {
     "data": {
      "image/png": "[encoded data removed]",
      "text/plain": [
       "<Figure size 864x576 with 1 Axes>"
      ]
     },
     "metadata": {
      "needs_background": "light"
     },
     "output_type": "display_data"
    }
   ],
   "source": [
    "# Score Distribution\n",
    "\n",
    "plt.figure(figsize=(12,8))\n",
    "plt.hist(output_human_train, histtype='step', normed=True, color='red', label='Human_train')\n",
    "plt.hist(output_human, histtype='step', normed=True, color='orange', label='Human_test')\n",
    "plt.hist(output_rabbit, histtype='step', normed=True, color='blue', label='Rabbit')\n",
    "plt.hist(output_mouse, histtype='step', normed=True, color='green', label='Mouse')\n",
    "plt.hist(output_rhesus, histtype='step', normed=True, color='pink', label='Rhesus')\n",
    "plt.legend()\n",
    "plt.show()"
   ]
  },
  {
   "attachments": {},
   "cell_type": "markdown",
   "metadata": {},
   "source": [
    "Check out Figure 2(a) for the comparison"
   ]
  },
  {
   "cell_type": "code",
   "execution_count": null,
   "metadata": {},
   "outputs": [],
   "source": []
  }
 ],
 "metadata": {
  "kernel_info": {
   "name": "python3"
  },
  "kernelspec": {
   "display_name": "Python 3",
   "language": "python",
   "name": "python3"
  },
  "language_info": {
   "codemirror_mode": {
    "name": "ipython",
    "version": 3
   },
   "file_extension": ".py",
   "mimetype": "text/x-python",
   "name": "python",
   "nbconvert_exporter": "python",
   "pygments_lexer": "ipython3",
   "version": "3.7.6"
  },
  "nteract": {
   "version": "0.22.0"
  }
 },
 "nbformat": 4,
 "nbformat_minor": 1
}
