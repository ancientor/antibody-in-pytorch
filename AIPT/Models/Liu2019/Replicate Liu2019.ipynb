{
 "cells": [
  {
   "cell_type": "code",
   "execution_count": 1,
   "metadata": {
    "ExecuteTime": {
     "end_time": "2020-03-18T12:47:22.879982Z",
     "start_time": "2020-03-18T12:47:21.491308Z"
    },
    "collapsed": true
   },
   "outputs": [],
   "source": [
    "import torch\n",
    "import pandas as pd\n",
    "import numpy as np\n",
    "\n",
    "from AIPT.Benchmarks.Liu2019_enrichment.Liu2019_data_loader import train_test_loader, encode_data, dataset_split\n",
    "from AIPT.Models.Liu2019.CNNx1_regressor import CNN_regressor\n",
    "from AIPT.Models.Liu2019.DNN_regressor import DNN_regressor\n",
    "from AIPT.Models.Liu2019.CNNx2_regressor import CNNx2_regressor\n",
    "from AIPT.Models.Liu2019.CNNx1_classifier import CNN_classifier\n",
    "from AIPT.Models.Liu2019.DNN_classifier import DNN_classifier\n",
    "from AIPT.Models.Liu2019.CNNx2_classifier import CNNx2_classifier"
   ]
  },
  {
   "cell_type": "code",
   "execution_count": 2,
   "metadata": {
    "ExecuteTime": {
     "end_time": "2020-03-18T12:47:25.358614Z",
     "start_time": "2020-03-18T12:47:25.354041Z"
    },
    "collapsed": true
   },
   "outputs": [],
   "source": [
    "import os\n",
    "os.environ['CUDA_VISIBLE_DEVICES']='1'"
   ]
  },
  {
   "cell_type": "markdown",
   "metadata": {},
   "source": [
    "## prepare 4 data loaders (3 for regression + 1 for classification) "
   ]
  },
  {
   "cell_type": "code",
   "execution_count": 6,
   "metadata": {
    "ExecuteTime": {
     "end_time": "2020-03-18T12:48:48.629997Z",
     "start_time": "2020-03-18T12:48:15.635443Z"
    },
    "collapsed": true
   },
   "outputs": [],
   "source": [
    "traindat = pd.read_csv('cdr3s.table_Feb10.csv')\n",
    "classifier_loader, regressor_loader1, regressor_loader2, regressor_loader3 = dataset_split(traindat, \n",
    "                                                                                           batch_size = 128, \n",
    "                                                                                           nd_ratio = 0.001,\n",
    "                                                                                           random_seed = 10)"
   ]
  },
  {
   "cell_type": "markdown",
   "metadata": {
    "scrolled": true
   },
   "source": [
    "## ensemble model training"
   ]
  },
  {
   "cell_type": "markdown",
   "metadata": {
    "heading_collapsed": true
   },
   "source": [
    "### model prepare\n",
    "(optional, parameter set saved in ensemble_parameters.json)"
   ]
  },
  {
   "cell_type": "code",
   "execution_count": null,
   "metadata": {
    "ExecuteTime": {
     "end_time": "2020-03-15T11:54:46.327577Z",
     "start_time": "2020-03-15T11:54:46.313356Z"
    },
    "collapsed": true,
    "hidden": true
   },
   "outputs": [],
   "source": [
    "model_name_DNN = ['Seq_32_32']\n",
    "para_dict_DNN = {'seq_len':18,\n",
    "             'batch_size':100,\n",
    "              'model_name':'Seq_32_32_reg',\n",
    "              'epoch':80,\n",
    "              'learning_rate':0.01,\n",
    "              'fc_hidden_dim':32,\n",
    "              'dropout_rate':0.3,\n",
    "              'GPU': True}\n",
    "\n",
    "model_name_CNN = ['Seq_32x1_16', 'Seq_64x1_16', 'Seq_32x1_16_filt3']\n",
    "n_filters = [32, 64, 32]\n",
    "filter_sizes = [5,5,3]\n",
    "para_dict_CNN = {'batch_size':100,\n",
    "             'seq_len':18,\n",
    "             'epoch':80,\n",
    "             'learning_rate':0.01,\n",
    "             'step_size':20,\n",
    "             'n_filter':32,\n",
    "             'filter_size':5,\n",
    "             'fc_hidden_dim':16,\n",
    "             'stride':2,\n",
    "             'dropout_rate': 0.3,\n",
    "              'GPU': True}\n",
    "\n",
    "model_name_CNNx2 = ['Seq_32x2_16', 'Seq_embed_32x1_16']\n",
    "n_filter1s = [32, 8]\n",
    "n_filter2s = [64, 32]\n",
    "filter_size1s = [5,1]\n",
    "filter_size2s = [5,5]\n",
    "para_dict_CNNx2 = {'seq_len':18,\n",
    "              'batch_size':100,\n",
    "              'model_name':'Seq_32x2_16_reg',\n",
    "              'epoch':80,\n",
    "              'learning_rate':0.001,\n",
    "              'step_size':5,\n",
    "              'n_filter1':32,\n",
    "              'n_filter2':64,\n",
    "              'filter_size1':5,\n",
    "              'filter_size2':5,\n",
    "              'fc_hidden_dim':16,\n",
    "              'dropout_rate':0.5,\n",
    "              'GPU': True,\n",
    "              'stride':1}"
   ]
  },
  {
   "cell_type": "code",
   "execution_count": null,
   "metadata": {
    "ExecuteTime": {
     "end_time": "2020-03-15T11:55:03.115082Z",
     "start_time": "2020-03-15T11:55:03.101655Z"
    },
    "collapsed": true,
    "hidden": true
   },
   "outputs": [],
   "source": [
    "ensemble_class_params = [para_dict_DNN.copy()] + [para_dict_CNN.copy(), para_dict_CNN.copy(), para_dict_CNN.copy()] + [para_dict_CNNx2.copy(), para_dict_CNNx2.copy()] \n",
    "\n",
    "# model names\n",
    "model_names = model_name_DNN + model_name_CNN + model_name_CNNx2\n",
    "for i in range(6):\n",
    "    ensemble_class_params[i]['model_name'] = model_names[i] + '_class'\n",
    "    \n",
    "# filters for CNN\n",
    "cnt = 0\n",
    "for i in range(1, 4):\n",
    "    tmp_para_dict = ensemble_class_params[i]\n",
    "    tmp_para_dict['n_filters'] = n_filters[cnt]\n",
    "    tmp_para_dict['filter_sizes'] = filter_sizes[cnt]\n",
    "    ensemble_class_params[i] = tmp_para_dict\n",
    "    cnt += 1\n",
    "\n",
    "# filters for CNNx2\n",
    "cnt = 0\n",
    "for i in range(4, 6):\n",
    "    ensemble_class_params[i]['n_filter1'] = n_filter1s[cnt]\n",
    "    ensemble_class_params[i]['n_filter2'] = n_filter2s[cnt]\n",
    "    ensemble_class_params[i]['filter_size1'] = filter_size1s[cnt]\n",
    "    ensemble_class_params[i]['filter_size2'] = filter_size2s[cnt]\n",
    "    cnt += 1"
   ]
  },
  {
   "cell_type": "code",
   "execution_count": null,
   "metadata": {
    "ExecuteTime": {
     "end_time": "2020-03-15T11:55:21.666256Z",
     "start_time": "2020-03-15T11:55:21.657782Z"
    },
    "collapsed": true,
    "hidden": true
   },
   "outputs": [],
   "source": [
    "import copy\n",
    "ensemble_reg_params = copy.deepcopy(ensemble_class_params) + copy.deepcopy(ensemble_class_params) + copy.deepcopy(ensemble_class_params)\n",
    "\n",
    "cnt = 0\n",
    "for i in range(3):\n",
    "    for j in range(6):\n",
    "        ensemble_reg_params[cnt]['model_name'] = ensemble_reg_params[cnt]['model_name'].split('_class')[0] + '_reg' + str(i+1)\n",
    "        cnt+=1      \n",
    "        "
   ]
  },
  {
   "cell_type": "code",
   "execution_count": null,
   "metadata": {
    "ExecuteTime": {
     "end_time": "2020-03-15T11:55:25.074561Z",
     "start_time": "2020-03-15T11:55:25.068401Z"
    },
    "hidden": true
   },
   "outputs": [],
   "source": [
    "len(ensemble_class_params), len(ensemble_reg_params)"
   ]
  },
  {
   "cell_type": "code",
   "execution_count": null,
   "metadata": {
    "ExecuteTime": {
     "end_time": "2020-03-15T11:55:28.386864Z",
     "start_time": "2020-03-15T11:55:28.380320Z"
    },
    "hidden": true
   },
   "outputs": [],
   "source": [
    "[xx['model_name'] for xx in ensemble_reg_params]"
   ]
  },
  {
   "cell_type": "code",
   "execution_count": null,
   "metadata": {
    "ExecuteTime": {
     "end_time": "2020-03-15T11:55:37.228466Z",
     "start_time": "2020-03-15T11:55:37.224976Z"
    },
    "collapsed": true,
    "hidden": true,
    "scrolled": true
   },
   "outputs": [],
   "source": [
    "new_dict = {}\n",
    "for item in ensemble_class_params:\n",
    "    new_dict[item['model_name']] = item\n",
    "for item in ensemble_reg_params:\n",
    "    new_dict[item['model_name']] = item"
   ]
  },
  {
   "cell_type": "code",
   "execution_count": null,
   "metadata": {
    "ExecuteTime": {
     "end_time": "2020-03-15T11:55:38.756032Z",
     "start_time": "2020-03-15T11:55:38.749045Z"
    },
    "collapsed": true,
    "hidden": true
   },
   "outputs": [],
   "source": [
    "import json\n",
    "with open('ensemble_parameters.json', 'w') as f:\n",
    "    json.dump(new_dict, f, indent=2)"
   ]
  },
  {
   "cell_type": "markdown",
   "metadata": {
    "heading_collapsed": true
   },
   "source": [
    "### hyperparam screening\n",
    "(optional, previously selected params have been saved in ensemble_parameters.json)"
   ]
  },
  {
   "cell_type": "code",
   "execution_count": null,
   "metadata": {
    "ExecuteTime": {
     "end_time": "2020-03-15T11:58:02.976192Z",
     "start_time": "2020-03-15T11:58:02.968073Z"
    },
    "collapsed": true,
    "hidden": true
   },
   "outputs": [],
   "source": [
    "import json\n",
    "para_dict_store = json.load(open('ensemble_parameters.json', 'r'))\n",
    "model_architecture = ['Seq_32_32', 'Seq_32x1_16', 'Seq_64x1_16', \n",
    "                      'Seq_32x1_16_filt3', 'Seq_32x2_16', 'Seq_embed_32x1_16']\n",
    "ensemble_class_params = [para_dict_store[name + '_class'] for name in model_architecture]\n",
    "ensemble_reg_params = [para_dict_store[name + '_reg' + str(ii)] for ii in range(1,4) for name in model_architecture]"
   ]
  },
  {
   "cell_type": "code",
   "execution_count": null,
   "metadata": {
    "ExecuteTime": {
     "end_time": "2020-03-15T13:02:00.021517Z",
     "start_time": "2020-03-15T12:01:40.698558Z"
    },
    "hidden": true,
    "scrolled": true
   },
   "outputs": [],
   "source": [
    "## Hyperparameter screening for classifiers\n",
    "\n",
    "import pdb\n",
    "import os\n",
    "os.environ[\"CUDA_VISIBLE_DEVICES\"] = \"1\"\n",
    "#torch.cuda.set_device(1)\n",
    "\n",
    "lr = [0.001, 0.005, 0.0005, 0.01, 0.0001]\n",
    "dropout = [0.5, 0.3, 0.7]\n",
    "n_epoch = 20\n",
    "\n",
    "for k in range(len(ensemble_class_params)):\n",
    "    print('--------')\n",
    "    best_score = -1\n",
    "    best_lr = 0\n",
    "    best_dropout = 0\n",
    "    current_para_dict = ensemble_class_params[k].copy()\n",
    "    for i in range(len(lr)):\n",
    "        current_para_dict['learning_rate'] = lr[i]\n",
    "        for j in range(len(dropout)):\n",
    "            current_para_dict['dropout_rate'] = dropout[j]\n",
    "            current_para_dict['epoch'] = n_epoch\n",
    "            if k % 6 == 0:\n",
    "                test_model = DNN_classifier(current_para_dict)\n",
    "            if k % 6 in [1, 2, 3]:\n",
    "                test_model = CNN_classifier(current_para_dict)\n",
    "            if k % 6 in [4, 5]:\n",
    "                test_model = CNNx2_classifier(current_para_dict)\n",
    "            \n",
    "            test_model.fit(classifier_loader[0])\n",
    "            print('-- Train set results --')\n",
    "            output = test_model.predict(classifier_loader[0])\n",
    "            labels = np.concatenate([i for _, i in classifier_loader[0]])\n",
    "            mat, acc, mcc = test_model.evaluate(output, labels)\n",
    "            print('-- Test set results --')\n",
    "            output = test_model.predict(classifier_loader[1])\n",
    "            labels = np.concatenate([i for _, i in classifier_loader[1]])\n",
    "            mat, acc, mcc = test_model.evaluate(output, labels)\n",
    "            if mcc > best_score:\n",
    "                best_score = mcc\n",
    "                best_lr = lr[i]\n",
    "                best_dropout = dropout[j]\n",
    "            print('Current best param: {} {}'.format(str(best_lr), str(best_dropout)))\n",
    "            os.system('rm -r %s' % test_model.save_path)\n",
    "    # update best parameter in the ensemble param list\n",
    "    ensemble_class_params[k]['learning_rate'] = best_lr\n",
    "    ensemble_class_params[k]['dropout_rate'] = best_dropout"
   ]
  },
  {
   "cell_type": "code",
   "execution_count": null,
   "metadata": {
    "ExecuteTime": {
     "end_time": "2020-03-15T13:48:12.319268Z",
     "start_time": "2020-03-15T13:06:52.243098Z"
    },
    "hidden": true,
    "scrolled": true
   },
   "outputs": [],
   "source": [
    "## Hyperparameter screening for regressor\n",
    "\n",
    "import os\n",
    "os.environ[\"CUDA_VISIBLE_DEVICES\"] = \"1\"\n",
    "reg_data_loaders = [regressor_loader1, regressor_loader2, regressor_loader3]\n",
    "lr = [0.001, 0.005, 0.0005, 0.01, 0.0001]\n",
    "dropout = [0.3, 0.5, 0.7]\n",
    "\n",
    "for k in range(len(ensemble_reg_params)):\n",
    "    best_score = 0\n",
    "    best_lr = 0\n",
    "    best_dropout = 0\n",
    "    current_para_dict = ensemble_reg_params[k].copy()\n",
    "    m = int(np.floor(k / 6.0))\n",
    "    for i in range(len(lr)):\n",
    "        current_para_dict['learning_rate'] = lr[i]\n",
    "        for j in range(len(dropout)):\n",
    "            current_para_dict['dropout_rate'] = dropout[j]\n",
    "            current_para_dict['epoch'] = 5\n",
    "            current_para_dict['GPU'] = True\n",
    "            if k % 6 == 0:\n",
    "                test_model = DNN_regressor(current_para_dict)\n",
    "            if k % 6 in [1, 2, 3]:\n",
    "                test_model = CNN_regressor(current_para_dict)\n",
    "            if k % 6 in [4, 5]:\n",
    "                test_model = CNNx2_regressor(current_para_dict)\n",
    "            \n",
    "            test_model.fit(reg_data_loaders[m][0])\n",
    "            \n",
    "            print('-- Train set results --')\n",
    "            train_loader = reg_data_loaders[m][0]\n",
    "            output = test_model.predict(train_loader)\n",
    "            labels = np.concatenate([i for _, i in train_loader])\n",
    "            r2, mse = test_model.evaluate(output, labels)\n",
    "            print('-- Test set results --')\n",
    "            test_loader = reg_data_loaders[m][1]\n",
    "            output = test_model.predict(test_loader)\n",
    "            labels = np.concatenate([i for _, i in test_loader])\n",
    "            r2, mse = test_model.evaluate(output, labels)\n",
    "        \n",
    "            if r2 > best_score:\n",
    "                best_score = r2\n",
    "                best_lr = lr[i]\n",
    "                best_dropout = dropout[j]\n",
    "            print('Current best param: {} {}'.format(str(best_lr), str(best_dropout)))\n",
    "            os.system('rm -r %s' % test_model.save_path)\n",
    "            \n",
    "    # update best parameter in the ensemble param list\n",
    "    ensemble_reg_params[k]['learning_rate'] = best_lr\n",
    "    ensemble_reg_params[k]['dropout_rate'] = best_dropout\n",
    "            "
   ]
  },
  {
   "cell_type": "code",
   "execution_count": null,
   "metadata": {
    "ExecuteTime": {
     "end_time": "2020-03-15T13:52:31.463374Z",
     "start_time": "2020-03-15T13:52:31.440524Z"
    },
    "collapsed": true,
    "hidden": true
   },
   "outputs": [],
   "source": [
    "# save screened hyper parameters\n",
    "new_dict = {}\n",
    "for item in ensemble_class_params:\n",
    "    new_dict[item['model_name']] = item\n",
    "for item in ensemble_reg_params:\n",
    "    new_dict[item['model_name']] = item\n",
    "import json\n",
    "with open('ensemble_parameters.json', 'w') as f:\n",
    "    json.dump(new_dict, f, indent=2)"
   ]
  },
  {
   "cell_type": "markdown",
   "metadata": {
    "heading_collapsed": true
   },
   "source": [
    "### training"
   ]
  },
  {
   "cell_type": "code",
   "execution_count": null,
   "metadata": {
    "ExecuteTime": {
     "end_time": "2020-03-16T02:20:14.210352Z",
     "start_time": "2020-03-16T02:20:14.197151Z"
    },
    "collapsed": true,
    "hidden": true,
    "scrolled": true
   },
   "outputs": [],
   "source": [
    "import json\n",
    "para_dict_store = json.load(open('ensemble_parameters.json', 'r'))\n",
    "model_architecture = ['Seq_32_32', 'Seq_32x1_16', 'Seq_64x1_16', \n",
    "                      'Seq_32x1_16_filt3', 'Seq_32x2_16', 'Seq_embed_32x1_16']\n",
    "ensemble_class_params = [para_dict_store[name + '_class'] for name in model_architecture]\n",
    "ensemble_reg_params = [para_dict_store[name + '_reg' + str(ii)] for ii in range(1,4) for name in model_architecture]"
   ]
  },
  {
   "cell_type": "code",
   "execution_count": null,
   "metadata": {
    "ExecuteTime": {
     "end_time": "2020-03-15T14:11:55.771920Z",
     "start_time": "2020-03-15T13:55:56.875611Z"
    },
    "hidden": true,
    "scrolled": true
   },
   "outputs": [],
   "source": [
    "## Training 6 classifiers\n",
    "\n",
    "train_acc_store = []\n",
    "test_mcc_store = []\n",
    "train_mcc_store = []\n",
    "test_acc_store = []\n",
    "model_names_list = []\n",
    "\n",
    "for k in range(len(ensemble_class_params)):\n",
    "    current_para_dict = ensemble_class_params[k]\n",
    "    print('---- Processing %s -----' % current_para_dict['model_name'])\n",
    "    \n",
    "    if k % 6 == 0:\n",
    "        test_model = DNN_classifier(current_para_dict)\n",
    "    if k % 6 in [1, 2, 3]:\n",
    "        test_model = CNN_classifier(current_para_dict)\n",
    "    if k % 6 in [4, 5]:\n",
    "        test_model = CNNx2_classifier(current_para_dict)\n",
    "            \n",
    "    test_model.fit(classifier_loader[0])\n",
    "    \n",
    "    print('-- Train set results --')\n",
    "    output = test_model.predict(classifier_loader[0])\n",
    "    labels = np.concatenate([i for _, i in classifier_loader[0]])\n",
    "    mat, acc, mcc = test_model.evaluate(output, labels)\n",
    "    train_acc_store.append(acc)\n",
    "    train_mcc_store.append(mcc)\n",
    "    print('-- Test set results --')\n",
    "    output = test_model.predict(classifier_loader[1])\n",
    "    labels = np.concatenate([i for _, i in classifier_loader[1]])\n",
    "    mat, acc, mcc = test_model.evaluate(output, labels)\n",
    "    test_acc_store.append(acc)\n",
    "    test_mcc_store.append(mcc)\n",
    "    model_names_list.append(current_para_dict['model_name'])\n",
    "\n",
    "result_df = pd.DataFrame({'model_name': model_names_list,\n",
    "                          'train_acc': train_acc_store, 'train_mcc': train_mcc_store,\n",
    "                          'test_acc': test_acc_store, 'test_mcc': test_mcc_store})\n",
    "result_df.to_csv('classifier_log_March15.csv', index=None)"
   ]
  },
  {
   "cell_type": "code",
   "execution_count": null,
   "metadata": {
    "ExecuteTime": {
     "end_time": "2020-03-15T15:05:49.833844Z",
     "start_time": "2020-03-15T14:24:43.036458Z"
    },
    "hidden": true,
    "scrolled": true
   },
   "outputs": [],
   "source": [
    "## Training 18 regressors\n",
    "\n",
    "reg_data_loaders = [regressor_loader1, regressor_loader2, regressor_loader3]\n",
    "\n",
    "train_r2_store = []\n",
    "test_mse_store = []\n",
    "train_mse_store = []\n",
    "test_r2_store = []\n",
    "model_names_list = []\n",
    "\n",
    "for k in range(len(ensemble_reg_params)):\n",
    "    current_para_dict = ensemble_reg_params[k]\n",
    "    print('---- Processing %s -----' % current_para_dict['model_name'])\n",
    "    \n",
    "    if k % 6 == 0:\n",
    "        test_model = DNN_regressor(current_para_dict)\n",
    "    if k % 6 in [1, 2, 3]:\n",
    "        test_model = CNN_regressor(current_para_dict)\n",
    "    if k % 6 in [4, 5]:\n",
    "        current_para_dict['stride'] = 1\n",
    "        test_model = CNNx2_regressor(current_para_dict)\n",
    "    \n",
    "    m = int(np.floor(k / 6.0))\n",
    "    test_model.fit(reg_data_loaders[m][0])\n",
    "    \n",
    "    print('-- Train set results --')\n",
    "    output = test_model.predict(reg_data_loaders[m][0])\n",
    "    labels = np.concatenate([i for _, i in reg_data_loaders[m][0]])\n",
    "    r2, mse = test_model.evaluate(output, labels)\n",
    "    train_r2_store.append(r2)\n",
    "    train_mse_store.append(mse)\n",
    "    print('-- Test set results --')\n",
    "    output = test_model.predict(reg_data_loaders[m][1])\n",
    "    labels = np.concatenate([i for _, i in reg_data_loaders[m][1]])\n",
    "    r2, mse = test_model.evaluate(output, labels)\n",
    "    test_r2_store.append(r2)\n",
    "    test_mse_store.append(mse)\n",
    "    \n",
    "    model_names_list.append(current_para_dict['model_name'])\n",
    "    \n",
    "result_df = pd.DataFrame({'model_name': model_names_list,\n",
    "                          'train_r2': train_r2_store, 'train_mse': train_mse_store,\n",
    "                          'test_r2': test_r2_store, 'test_mse': test_mse_store})\n",
    "result_df.to_csv('regressor_log_March15.csv', index=None)"
   ]
  },
  {
   "cell_type": "markdown",
   "metadata": {},
   "source": [
    "### test ensemble model performance"
   ]
  },
  {
   "cell_type": "markdown",
   "metadata": {},
   "source": [
    "#### regressor ensemble performances\n",
    "replicating Figure 3B and 3E"
   ]
  },
  {
   "cell_type": "code",
   "execution_count": 3,
   "metadata": {
    "ExecuteTime": {
     "end_time": "2020-03-18T12:47:54.709211Z",
     "start_time": "2020-03-18T12:47:54.699333Z"
    },
    "collapsed": true
   },
   "outputs": [],
   "source": [
    "import json\n",
    "para_dict_store = json.load(open('ensemble_parameters.json', 'r'))\n",
    "model_architecture = ['Seq_32_32', 'Seq_32x1_16', 'Seq_64x1_16', \n",
    "                      'Seq_32x1_16_filt3', 'Seq_32x2_16', 'Seq_embed_32x1_16']\n",
    "ensemble_class_params = [para_dict_store[name + '_class'] for name in model_architecture]\n",
    "ensemble_reg_params = [para_dict_store[name + '_reg' + str(ii)] for ii in range(1,4) for name in model_architecture]"
   ]
  },
  {
   "cell_type": "code",
   "execution_count": 4,
   "metadata": {
    "ExecuteTime": {
     "end_time": "2020-03-18T12:48:05.736066Z",
     "start_time": "2020-03-18T12:48:03.356389Z"
    },
    "collapsed": true
   },
   "outputs": [],
   "source": [
    "ensemble_reg_models = []\n",
    "for k in range(len(ensemble_reg_params)):\n",
    "    current_para_dict = ensemble_reg_params[k]\n",
    "    if k % 6 == 0:\n",
    "        test_model = DNN_regressor(current_para_dict)\n",
    "    if k % 6 in [1, 2, 3]:\n",
    "        test_model = CNN_regressor(current_para_dict)\n",
    "    if k % 6 in [4, 5]:\n",
    "        test_model = CNNx2_regressor(current_para_dict)\n",
    "    test_model.net_init()    \n",
    "    test_model.load_model()\n",
    "    \n",
    "    ensemble_reg_models.append(test_model)"
   ]
  },
  {
   "cell_type": "code",
   "execution_count": 7,
   "metadata": {
    "ExecuteTime": {
     "end_time": "2020-03-18T12:49:01.037693Z",
     "start_time": "2020-03-18T12:48:58.861377Z"
    },
    "scrolled": true
   },
   "outputs": [
    {
     "name": "stdout",
     "output_type": "stream",
     "text": [
      "R2 score = 0.489\n",
      "MSE = 0.852\n",
      "R2 score = 0.530\n",
      "MSE = 0.784\n",
      "R2 score = 0.531\n",
      "MSE = 0.783\n",
      "R2 score = 0.542\n",
      "MSE = 0.765\n",
      "R2 score = 0.412\n",
      "MSE = 0.982\n",
      "R2 score = 0.447\n",
      "MSE = 0.922\n",
      "R2 score = 0.558\n",
      "MSE = 0.738\n",
      "R2 score = 0.569\n",
      "MSE = 0.720\n",
      "R2 score = 0.553\n",
      "MSE = 0.745\n",
      "R2 score = 0.557\n",
      "MSE = 0.739\n",
      "R2 score = 0.559\n",
      "MSE = 0.735\n",
      "R2 score = 0.481\n",
      "MSE = 0.866\n",
      "R2 score = 0.547\n",
      "MSE = 0.756\n",
      "R2 score = 0.570\n",
      "MSE = 0.718\n",
      "R2 score = 0.562\n",
      "MSE = 0.731\n",
      "R2 score = 0.573\n",
      "MSE = 0.713\n",
      "R2 score = 0.647\n",
      "MSE = 0.589\n",
      "R2 score = 0.456\n",
      "MSE = 0.908\n"
     ]
    }
   ],
   "source": [
    "test_loader = regressor_loader1[1]\n",
    "test_mse_store = []\n",
    "test_r2_store = []\n",
    "y_pred = []\n",
    "\n",
    "for k in range(len(ensemble_reg_params)):\n",
    "    test_model = ensemble_reg_models[k]\n",
    "    output = test_model.predict(test_loader)\n",
    "    labels = np.concatenate([i for _, i in test_loader])\n",
    "    r2, mse = test_model.evaluate(output, labels)\n",
    "    test_r2_store.append(r2)\n",
    "    test_mse_store.append(mse)\n",
    "    y_pred.append(output)"
   ]
  },
  {
   "cell_type": "code",
   "execution_count": 8,
   "metadata": {
    "ExecuteTime": {
     "end_time": "2020-03-18T12:49:10.136430Z",
     "start_time": "2020-03-18T12:49:10.126284Z"
    }
   },
   "outputs": [
    {
     "name": "stdout",
     "output_type": "stream",
     "text": [
      "R2 score = 0.590\n",
      "MSE = 0.684\n"
     ]
    }
   ],
   "source": [
    "y_pred_ensemble = np.mean(np.concatenate(y_pred, axis = 1), axis = 1)\n",
    "r2, mse = test_model.evaluate(y_pred_ensemble, labels)\n",
    "test_r2_store.append(r2)\n",
    "test_mse_store.append(mse)"
   ]
  },
  {
   "cell_type": "code",
   "execution_count": 9,
   "metadata": {
    "ExecuteTime": {
     "end_time": "2020-03-18T12:49:20.026367Z",
     "start_time": "2020-03-18T12:49:19.988063Z"
    }
   },
   "outputs": [
    {
     "data": {
      "text/html": [
       "<div>\n",
       "<style scoped>\n",
       "    .dataframe tbody tr th:only-of-type {\n",
       "        vertical-align: middle;\n",
       "    }\n",
       "\n",
       "    .dataframe tbody tr th {\n",
       "        vertical-align: top;\n",
       "    }\n",
       "\n",
       "    .dataframe thead th {\n",
       "        text-align: right;\n",
       "    }\n",
       "</style>\n",
       "<table border=\"1\" class=\"dataframe\">\n",
       "  <thead>\n",
       "    <tr style=\"text-align: right;\">\n",
       "      <th></th>\n",
       "      <th>model</th>\n",
       "      <th>R2</th>\n",
       "      <th>mse</th>\n",
       "    </tr>\n",
       "  </thead>\n",
       "  <tbody>\n",
       "    <tr>\n",
       "      <td>0</td>\n",
       "      <td>regressor</td>\n",
       "      <td>0.489470</td>\n",
       "      <td>0.851782</td>\n",
       "    </tr>\n",
       "    <tr>\n",
       "      <td>1</td>\n",
       "      <td>regressor</td>\n",
       "      <td>0.529980</td>\n",
       "      <td>0.784194</td>\n",
       "    </tr>\n",
       "    <tr>\n",
       "      <td>2</td>\n",
       "      <td>regressor</td>\n",
       "      <td>0.530689</td>\n",
       "      <td>0.783010</td>\n",
       "    </tr>\n",
       "    <tr>\n",
       "      <td>3</td>\n",
       "      <td>regressor</td>\n",
       "      <td>0.541738</td>\n",
       "      <td>0.764576</td>\n",
       "    </tr>\n",
       "    <tr>\n",
       "      <td>4</td>\n",
       "      <td>regressor</td>\n",
       "      <td>0.411719</td>\n",
       "      <td>0.981503</td>\n",
       "    </tr>\n",
       "  </tbody>\n",
       "</table>\n",
       "</div>"
      ],
      "text/plain": [
       "       model        R2       mse\n",
       "0  regressor  0.489470  0.851782\n",
       "1  regressor  0.529980  0.784194\n",
       "2  regressor  0.530689  0.783010\n",
       "3  regressor  0.541738  0.764576\n",
       "4  regressor  0.411719  0.981503"
      ]
     },
     "execution_count": 9,
     "metadata": {},
     "output_type": "execute_result"
    }
   ],
   "source": [
    "performance_df = pd.DataFrame({'model': ['regressor'] *18 + ['ensemble'],\n",
    "                               'R2': test_r2_store, 'mse': test_mse_store})\n",
    "#performance_df.to_csv('ensemble_performance_check.csv', index = None)\n",
    "performance_df.head()"
   ]
  },
  {
   "cell_type": "code",
   "execution_count": 10,
   "metadata": {
    "ExecuteTime": {
     "end_time": "2020-03-18T12:49:26.461643Z",
     "start_time": "2020-03-18T12:49:26.006343Z"
    }
   },
   "outputs": [
    {
     "data": {
      "text/plain": [
       "<matplotlib.axes._subplots.AxesSubplot at 0x7fb1fe10fc50>"
      ]
     },
     "execution_count": 10,
     "metadata": {},
     "output_type": "execute_result"
    },
    {
     "data": {
      "image/png": "[encoded data removed]",
      "text/plain": [
       "<Figure size 432x288 with 1 Axes>"
      ]
     },
     "metadata": {
      "needs_background": "light"
     },
     "output_type": "display_data"
    }
   ],
   "source": [
    "import seaborn as sns\n",
    "%matplotlib inline\n",
    "sns.boxplot(x=\"model\", y=\"R2\", data=performance_df)\n",
    "sns.swarmplot(x=\"model\", y=\"R2\", data=performance_df, color=\".25\")"
   ]
  },
  {
   "cell_type": "code",
   "execution_count": 11,
   "metadata": {
    "ExecuteTime": {
     "end_time": "2020-03-18T12:49:30.247685Z",
     "start_time": "2020-03-18T12:49:29.863972Z"
    },
    "scrolled": false
   },
   "outputs": [
    {
     "data": {
      "text/plain": [
       "<matplotlib.axes._subplots.AxesSubplot at 0x7fb1fe020890>"
      ]
     },
     "execution_count": 11,
     "metadata": {},
     "output_type": "execute_result"
    },
    {
     "data": {
      "image/png": "[encoded data removed]",
      "text/plain": [
       "<Figure size 432x288 with 1 Axes>"
      ]
     },
     "metadata": {
      "needs_background": "light"
     },
     "output_type": "display_data"
    }
   ],
   "source": [
    "sns.boxplot(x=\"model\", y=\"mse\", data=performance_df)\n",
    "sns.swarmplot(x=\"model\", y=\"mse\", data=performance_df, color=\".25\")"
   ]
  },
  {
   "cell_type": "code",
   "execution_count": 12,
   "metadata": {
    "ExecuteTime": {
     "end_time": "2020-03-18T12:49:37.356985Z",
     "start_time": "2020-03-18T12:49:36.284896Z"
    }
   },
   "outputs": [
    {
     "data": {
      "text/plain": [
       "<seaborn.axisgrid.JointGrid at 0x7fb1fdfa2410>"
      ]
     },
     "execution_count": 12,
     "metadata": {},
     "output_type": "execute_result"
    },
    {
     "data": {
      "image/png": "[encoded data removed]",
      "text/plain": [
       "<Figure size 432x432 with 3 Axes>"
      ]
     },
     "metadata": {
      "needs_background": "light"
     },
     "output_type": "display_data"
    }
   ],
   "source": [
    "sns.jointplot(labels,y_pred_ensemble)"
   ]
  },
  {
   "cell_type": "markdown",
   "metadata": {},
   "source": [
    "#### classifier ensemble performances\n",
    "Replicating Figure 3C"
   ]
  },
  {
   "cell_type": "code",
   "execution_count": 13,
   "metadata": {
    "ExecuteTime": {
     "end_time": "2020-03-18T12:50:33.623734Z",
     "start_time": "2020-03-18T12:50:33.533907Z"
    },
    "collapsed": true
   },
   "outputs": [],
   "source": [
    "ensemble_class_models = []\n",
    "for k in range(len(ensemble_class_params)):\n",
    "    current_para_dict = ensemble_class_params[k]\n",
    "    if k % 6 == 0:\n",
    "        test_model = DNN_classifier(current_para_dict)\n",
    "    if k % 6 in [1, 2, 3]:\n",
    "        test_model = CNN_classifier(current_para_dict)\n",
    "    if k % 6 in [4, 5]:\n",
    "        test_model = CNNx2_classifier(current_para_dict)\n",
    "        #current_param = test_model.load_param()\n",
    "        #test_model = CNNx2_regressor(current_param)\n",
    "    test_model.net_init()\n",
    "    test_model.load_model()\n",
    "    \n",
    "    ensemble_class_models.append(test_model)"
   ]
  },
  {
   "cell_type": "code",
   "execution_count": 14,
   "metadata": {
    "ExecuteTime": {
     "end_time": "2020-03-18T12:50:37.194844Z",
     "start_time": "2020-03-18T12:50:37.029247Z"
    },
    "collapsed": true
   },
   "outputs": [],
   "source": [
    "test_loader = classifier_loader[1]\n",
    "x = np.concatenate([i for i, _ in test_loader], axis = 0)\n",
    "y = np.concatenate([i for _, i in test_loader], axis = 0).astype(np.int64)"
   ]
  },
  {
   "cell_type": "code",
   "execution_count": 15,
   "metadata": {
    "ExecuteTime": {
     "end_time": "2020-03-18T12:50:40.780733Z",
     "start_time": "2020-03-18T12:50:40.121095Z"
    },
    "collapsed": true
   },
   "outputs": [],
   "source": [
    "from sklearn.metrics import roc_auc_score\n",
    "from sklearn.metrics import roc_curve, auc\n",
    "fpr_store = []\n",
    "tpr_store = []\n",
    "roc_auc = []\n",
    "\n",
    "for k in range(len(ensemble_class_models)):\n",
    "    y_pred_raw = ensemble_class_models[k].predict(test_loader)\n",
    "    y_pred = y_pred_raw[:,1]\n",
    "    fpr, tpr, _ = roc_curve(y, y_pred)\n",
    "    roc_auc.append(auc(fpr, tpr))\n",
    "    fpr_store.append(fpr)\n",
    "    tpr_store.append(tpr)"
   ]
  },
  {
   "cell_type": "code",
   "execution_count": 16,
   "metadata": {
    "ExecuteTime": {
     "end_time": "2020-03-18T12:50:43.824907Z",
     "start_time": "2020-03-18T12:50:43.535141Z"
    }
   },
   "outputs": [
    {
     "data": {
      "image/png": "[encoded data removed]",
      "text/plain": [
       "<Figure size 432x288 with 1 Axes>"
      ]
     },
     "metadata": {
      "needs_background": "light"
     },
     "output_type": "display_data"
    }
   ],
   "source": [
    "import matplotlib.pyplot as plt\n",
    "%matplotlib inline\n",
    "plt.figure()\n",
    "lw = 1.5\n",
    "colors = ['darkorange','red','green','magenta','purple','blue']\n",
    "for k in range(6):\n",
    "    plt.plot(fpr_store[k], tpr_store[k], color=colors[k],\n",
    "             lw=lw, label='%s (area = %0.2f)' % (ensemble_class_models[k].para_dict['model_name'],roc_auc[k]))\n",
    "\n",
    "plt.plot([0, 1], [0, 1], color='navy', lw=1, linestyle='--')\n",
    "plt.xlim([0.0, 1.0])\n",
    "plt.ylim([0.0, 1.05])\n",
    "plt.xlabel('False Positive Rate')\n",
    "plt.ylabel('True Positive Rate')\n",
    "plt.title('Receiver operating characteristic example')\n",
    "plt.legend(loc=\"lower right\")\n",
    "plt.show()"
   ]
  },
  {
   "cell_type": "code",
   "execution_count": null,
   "metadata": {
    "collapsed": true
   },
   "outputs": [],
   "source": []
  },
  {
   "cell_type": "markdown",
   "metadata": {},
   "source": [
    "## optimization"
   ]
  },
  {
   "cell_type": "markdown",
   "metadata": {
    "heading_collapsed": true
   },
   "source": [
    "### prepare seed sequences\n",
    "either non-negative R2-to-R3 enrichment or larger than 5e-5 frequency in R3"
   ]
  },
  {
   "cell_type": "code",
   "execution_count": null,
   "metadata": {
    "ExecuteTime": {
     "end_time": "2020-02-24T15:21:36.348387Z",
     "start_time": "2020-02-24T15:21:36.096757Z"
    },
    "collapsed": true,
    "hidden": true
   },
   "outputs": [],
   "source": [
    "traindat = pd.read_csv('cdr3s.table_Feb10.csv')\n",
    "traindat.head()"
   ]
  },
  {
   "cell_type": "code",
   "execution_count": null,
   "metadata": {
    "ExecuteTime": {
     "end_time": "2020-02-24T15:21:38.915692Z",
     "start_time": "2020-02-24T15:21:38.889399Z"
    },
    "collapsed": true,
    "hidden": true
   },
   "outputs": [],
   "source": [
    "seed_seqs1 = traindat.loc[traindat['log10(R3/R2)'] >= 0]\n",
    "seed_seqs2 = traindat.loc[traindat['round3_freq'] >= 5e-5]"
   ]
  },
  {
   "cell_type": "code",
   "execution_count": null,
   "metadata": {
    "ExecuteTime": {
     "end_time": "2020-02-24T15:21:43.189966Z",
     "start_time": "2020-02-24T15:21:42.673204Z"
    },
    "collapsed": true,
    "hidden": true,
    "scrolled": true
   },
   "outputs": [],
   "source": [
    "import seaborn as sns\n",
    "%matplotlib inline\n",
    "sns.distplot(seed_seqs2['log10(R3/R2)'].values)"
   ]
  },
  {
   "cell_type": "code",
   "execution_count": null,
   "metadata": {
    "ExecuteTime": {
     "end_time": "2020-02-24T15:21:46.159190Z",
     "start_time": "2020-02-24T15:21:46.065450Z"
    },
    "collapsed": true,
    "hidden": true
   },
   "outputs": [],
   "source": [
    "# prepare seed seq data loader\n",
    "x = seed_seqs2['cdr3'].values\n",
    "X_dat = np.array([encode_data(item, gapped = False, seq_len = 18) for item in x])\n",
    "y_reg = seed_seqs2['log10(R3/R2)'].to_numpy()\n",
    "seed_seqs = torch.from_numpy(X_dat).float()\n",
    "#seed_dataset = torch.utils.data.TensorDataset(torch.from_numpy(X_dat).float(), torch.from_numpy(y_reg).float())\n",
    "#seed_loader = torch.utils.data.DataLoader(dataset=seed_dataset, batch_size=128)"
   ]
  },
  {
   "cell_type": "markdown",
   "metadata": {
    "heading_collapsed": true
   },
   "source": [
    "### optimization"
   ]
  },
  {
   "cell_type": "code",
   "execution_count": null,
   "metadata": {
    "ExecuteTime": {
     "end_time": "2020-02-24T15:21:49.045294Z",
     "start_time": "2020-02-24T15:21:49.039536Z"
    },
    "collapsed": true,
    "hidden": true
   },
   "outputs": [],
   "source": [
    "import pickle\n",
    "[ensemble_class_params, ensemble_reg_params] = pickle.load(open('ensemble_params_Feb24_new.p', 'rb'))"
   ]
  },
  {
   "cell_type": "code",
   "execution_count": null,
   "metadata": {
    "ExecuteTime": {
     "end_time": "2020-02-24T15:40:50.693594Z",
     "start_time": "2020-02-24T15:23:43.352013Z"
    },
    "collapsed": true,
    "hidden": true,
    "scrolled": true
   },
   "outputs": [],
   "source": [
    "step_sizes = [1e-4, 5e-4, 1e-3, 5e-3, 1e-2]\n",
    "intervals = [10,20,30,40,50,60,70,80]\n",
    "\n",
    "new_seqs = []\n",
    "for k in range(0, len(ensemble_class_params)):\n",
    "    current_para_dict = ensemble_class_params[k]\n",
    "    current_para_dict['GPU'] = False   # WHY????\n",
    "    print('---- Processing %s -----' % current_para_dict['model_name'])\n",
    "    if k % 6 == 0:\n",
    "        test_model = DNN_classifier(current_para_dict)\n",
    "    if k % 6 in [1, 2, 3]:\n",
    "        test_model = CNN_classifier(current_para_dict)\n",
    "    if k % 6 in [4, 5]:\n",
    "        test_model = CNNx2_classifier(current_para_dict)\n",
    "    \n",
    "    test_model.net_init()\n",
    "    test_model.load_model()\n",
    "    \n",
    "    for i in range(len(step_sizes)):\n",
    "        for j in range(len(intervals)):\n",
    "            new_seqs.append(test_model.optimization(seed_seqs, \n",
    "                                            step_size = step_sizes[i], interval = intervals[j]))"
   ]
  },
  {
   "cell_type": "code",
   "execution_count": null,
   "metadata": {
    "ExecuteTime": {
     "end_time": "2020-02-24T16:28:31.328053Z",
     "start_time": "2020-02-24T15:53:26.093426Z"
    },
    "collapsed": true,
    "hidden": true,
    "scrolled": true
   },
   "outputs": [],
   "source": [
    "new_seqs2 = []\n",
    "for k in range(5, len(ensemble_reg_params)):\n",
    "    current_para_dict = ensemble_reg_params[k]\n",
    "    current_para_dict['GPU'] = False\n",
    "    print('---- Processing %s -----' % current_para_dict['model_name'])\n",
    "    if k % 6 == 0:\n",
    "        test_model = DNN_regressor(current_para_dict)\n",
    "    if k % 6 in [1, 2, 3]:\n",
    "        test_model = CNN_regressor(current_para_dict)\n",
    "    if k % 6 in [4, 5]:\n",
    "        test_model = CNNx2_regressor(current_para_dict)\n",
    "    \n",
    "    test_model.net_init()\n",
    "    test_model.load_model()\n",
    "    \n",
    "    for i in range(len(step_sizes)):\n",
    "        for j in range(len(intervals)):\n",
    "            new_seqs2.append(test_model.optimization(seed_seqs, \n",
    "                                            step_size = step_sizes[i], interval = intervals[j]))"
   ]
  },
  {
   "cell_type": "code",
   "execution_count": null,
   "metadata": {
    "ExecuteTime": {
     "end_time": "2020-02-24T16:29:04.128698Z",
     "start_time": "2020-02-24T16:28:57.356644Z"
    },
    "collapsed": true,
    "hidden": true
   },
   "outputs": [],
   "source": [
    "seq_pool = np.concatenate(new_seqs2, axis = 0)\n",
    "seq_pool.shape"
   ]
  },
  {
   "cell_type": "markdown",
   "metadata": {},
   "source": [
    "## Voting"
   ]
  },
  {
   "cell_type": "markdown",
   "metadata": {
    "heading_collapsed": true
   },
   "source": [
    "### quantitative evaluation using ensemble reg models"
   ]
  },
  {
   "cell_type": "code",
   "execution_count": null,
   "metadata": {
    "ExecuteTime": {
     "end_time": "2020-02-24T16:32:21.711141Z",
     "start_time": "2020-02-24T16:29:26.296015Z"
    },
    "collapsed": true,
    "hidden": true,
    "scrolled": true
   },
   "outputs": [],
   "source": [
    "import pdb\n",
    "evaluate_mat = np.zeros((seq_pool.shape[0], 18))\n",
    "y = np.zeros((seq_pool.shape[0],))\n",
    "seed_dataset = torch.utils.data.TensorDataset(torch.from_numpy(seq_pool).float(),torch.from_numpy(y).float())\n",
    "seed_loader = torch.utils.data.DataLoader(dataset=seed_dataset, batch_size=128)\n",
    "\n",
    "for k in range(len(ensemble_reg_params)):\n",
    "    current_para_dict = ensemble_reg_params[k]\n",
    "    print('---- Processing %s -----' % current_para_dict['model_name'])\n",
    "    if k % 6 == 0:\n",
    "        test_model = DNN_regressor(current_para_dict)\n",
    "    if k % 6 in [1, 2, 3]:\n",
    "        test_model = CNN_regressor(current_para_dict)\n",
    "    if k % 6 in [4, 5]:\n",
    "        test_model = CNNx2_regressor(current_para_dict)\n",
    "    \n",
    "    test_model.net_init()\n",
    "    test_model.load_model()\n",
    "    \n",
    "    evaluate_mat[:, k] = test_model.predict(seed_loader).flatten()"
   ]
  },
  {
   "cell_type": "code",
   "execution_count": null,
   "metadata": {
    "ExecuteTime": {
     "end_time": "2020-02-24T16:34:03.061779Z",
     "start_time": "2020-02-24T16:34:03.054630Z"
    },
    "collapsed": true,
    "hidden": true
   },
   "outputs": [],
   "source": [
    "AA_LS = 'ACDEFGHIKLMNPQRSTVWY-'\n",
    "\n",
    "def mat_2_seq(dat):\n",
    "    seq_pos = dat.transpose().argmax(axis = 0)\n",
    "    return ''.join([AA_LS[item] for item in seq_pos])"
   ]
  },
  {
   "cell_type": "code",
   "execution_count": null,
   "metadata": {
    "ExecuteTime": {
     "end_time": "2020-02-24T16:34:20.410295Z",
     "start_time": "2020-02-24T16:34:15.845875Z"
    },
    "collapsed": true,
    "hidden": true
   },
   "outputs": [],
   "source": [
    "aa_seq_pool = [None for _ in range(seq_pool.shape[0])]\n",
    "for i in range(len(aa_seq_pool)):\n",
    "    aa_seq_pool[i] = mat_2_seq(seq_pool[i,:,:])"
   ]
  },
  {
   "cell_type": "code",
   "execution_count": null,
   "metadata": {
    "ExecuteTime": {
     "end_time": "2020-02-24T16:34:55.189537Z",
     "start_time": "2020-02-24T16:34:33.407829Z"
    },
    "collapsed": true,
    "hidden": true
   },
   "outputs": [],
   "source": [
    "seq_eval_df = pd.DataFrame(evaluate_mat)\n",
    "seq_eval_df.columns = [xx['model_name'] for xx in ensemble_reg_params]\n",
    "seq_eval_df['cdr3'] = aa_seq_pool\n",
    "seq_eval_df.to_csv('seq_pool_reg_Feb24.csv', index = None)"
   ]
  },
  {
   "cell_type": "code",
   "execution_count": null,
   "metadata": {
    "collapsed": true,
    "hidden": true
   },
   "outputs": [],
   "source": []
  },
  {
   "cell_type": "code",
   "execution_count": null,
   "metadata": {
    "collapsed": true,
    "hidden": true
   },
   "outputs": [],
   "source": []
  },
  {
   "cell_type": "markdown",
   "metadata": {},
   "source": [
    "### count for top sequences\n",
    "### Non-negative lower bound --> positive candidates\n",
    "performed in R studio"
   ]
  },
  {
   "cell_type": "code",
   "execution_count": null,
   "metadata": {
    "collapsed": true
   },
   "outputs": [],
   "source": []
  }
 ],
 "metadata": {
  "kernelspec": {
   "display_name": "pytorch",
   "language": "python",
   "name": "pytorch"
  },
  "language_info": {
   "codemirror_mode": {
    "name": "ipython",
    "version": 3
   },
   "file_extension": ".py",
   "mimetype": "text/x-python",
   "name": "python",
   "nbconvert_exporter": "python",
   "pygments_lexer": "ipython3",
   "version": "3.7.4"
  },
  "toc": {
   "base_numbering": 1,
   "nav_menu": {},
   "number_sections": true,
   "sideBar": true,
   "skip_h1_title": false,
   "title_cell": "Table of Contents",
   "title_sidebar": "Contents",
   "toc_cell": false,
   "toc_position": {},
   "toc_section_display": true,
   "toc_window_display": false
  },
  "varInspector": {
   "cols": {
    "lenName": 16,
    "lenType": 16,
    "lenVar": 40
   },
   "kernels_config": {
    "python": {
     "delete_cmd_postfix": "",
     "delete_cmd_prefix": "del ",
     "library": "var_list.py",
     "varRefreshCmd": "print(var_dic_list())"
    },
    "r": {
     "delete_cmd_postfix": ") ",
     "delete_cmd_prefix": "rm(",
     "library": "var_list.r",
     "varRefreshCmd": "cat(var_dic_list()) "
    }
   },
   "types_to_exclude": [
    "module",
    "function",
    "builtin_function_or_method",
    "instance",
    "_Feature"
   ],
   "window_display": false
  }
 },
 "nbformat": 4,
 "nbformat_minor": 2
}
