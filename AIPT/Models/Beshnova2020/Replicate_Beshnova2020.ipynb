{
 "cells": [
  {
   "cell_type": "code",
   "execution_count": 15,
   "metadata": {
    "execution": {
     "iopub.execute_input": "2020-10-21T01:40:52.114114Z",
     "iopub.status.busy": "2020-10-21T01:40:52.113835Z",
     "iopub.status.idle": "2020-10-21T01:40:52.136169Z",
     "shell.execute_reply": "2020-10-21T01:40:52.135551Z",
     "shell.execute_reply.started": "2020-10-21T01:40:52.114083Z"
    }
   },
   "outputs": [
    {
     "name": "stdout",
     "output_type": "stream",
     "text": [
      "current working directory:\n"
     ]
    },
    {
     "data": {
      "text/plain": [
       "'/home/ec2-user/SageMaker/antibody-in-pytorch/AIPT/Models/Beshnova2020'"
      ]
     },
     "execution_count": 15,
     "metadata": {},
     "output_type": "execute_result"
    }
   ],
   "source": [
    "import json\n",
    "import os\n",
    "import pickle as pkl\n",
    "import sys\n",
    "import warnings\n",
    "\n",
    "import matplotlib.pyplot as plt\n",
    "import numpy as np\n",
    "import torch\n",
    "import torch.nn as nn\n",
    "import torch.optim as optim\n",
    "from sklearn.metrics import roc_auc_score, roc_curve\n",
    "\n",
    "warnings.filterwarnings(\"ignore\")\n",
    "\n",
    "import AIPT.Models.Beshnova2020.CNN\n",
    "import AIPT.Utils.logging\n",
    "\n",
    "print( \"current working directory:\")\n",
    "%pwd"
   ]
  },
  {
   "cell_type": "code",
   "execution_count": 16,
   "metadata": {
    "execution": {
     "iopub.execute_input": "2020-10-21T01:40:52.140308Z",
     "iopub.status.busy": "2020-10-21T01:40:52.137353Z",
     "iopub.status.idle": "2020-10-21T01:40:52.145266Z",
     "shell.execute_reply": "2020-10-21T01:40:52.143972Z",
     "shell.execute_reply.started": "2020-10-21T01:40:52.140275Z"
    }
   },
   "outputs": [],
   "source": [
    "import AIPT.Utils.Dev.dev_utils as dev_utils\n",
    "\n",
    "aipt_path = '/home/ec2-user/SageMaker/antibody-in-pytorch/'\n",
    "aipt_reload = dev_utils.get_aipt_reload_fn(aipt_path)"
   ]
  },
  {
   "cell_type": "code",
   "execution_count": 17,
   "metadata": {
    "execution": {
     "iopub.execute_input": "2020-10-21T01:40:52.148538Z",
     "iopub.status.busy": "2020-10-21T01:40:52.147491Z",
     "iopub.status.idle": "2020-10-21T01:40:52.153780Z",
     "shell.execute_reply": "2020-10-21T01:40:52.152964Z",
     "shell.execute_reply.started": "2020-10-21T01:40:52.148507Z"
    }
   },
   "outputs": [
    {
     "name": "stdout",
     "output_type": "stream",
     "text": [
      "entry_point.py\t__main__.py\t__pycache__\tBenchmarks\t.ipynb_checkpoints\t__init__.py\tUtils\tModels\t.gitignore\n"
     ]
    }
   ],
   "source": [
    "'''\n",
    "set up paths\n",
    "'''\n",
    "\n",
    "aipt_dir = '/home/ec2-user/SageMaker/antibody-in-pytorch/AIPT'\n",
    "print(\"\\t\".join(os.listdir(aipt_dir)))"
   ]
  },
  {
   "cell_type": "markdown",
   "metadata": {},
   "source": [
    "## Data Processing"
   ]
  },
  {
   "cell_type": "code",
   "execution_count": 18,
   "metadata": {
    "execution": {
     "iopub.execute_input": "2020-10-21T01:40:52.155835Z",
     "iopub.status.busy": "2020-10-21T01:40:52.155402Z",
     "iopub.status.idle": "2020-10-21T01:40:52.159470Z",
     "shell.execute_reply": "2020-10-21T01:40:52.158843Z",
     "shell.execute_reply.started": "2020-10-21T01:40:52.155806Z"
    }
   },
   "outputs": [],
   "source": [
    "# todo: pca"
   ]
  },
  {
   "cell_type": "code",
   "execution_count": 19,
   "metadata": {
    "execution": {
     "iopub.execute_input": "2020-10-21T01:40:52.160914Z",
     "iopub.status.busy": "2020-10-21T01:40:52.160512Z",
     "iopub.status.idle": "2020-10-21T01:40:52.165859Z",
     "shell.execute_reply": "2020-10-21T01:40:52.163378Z",
     "shell.execute_reply.started": "2020-10-21T01:40:52.160885Z"
    }
   },
   "outputs": [],
   "source": [
    "from AIPT.Benchmarks.OAS_dataset import OAS_data_loader as oas"
   ]
  },
  {
   "cell_type": "code",
   "execution_count": 20,
   "metadata": {
    "execution": {
     "iopub.execute_input": "2020-10-21T01:40:52.167505Z",
     "iopub.status.busy": "2020-10-21T01:40:52.167019Z",
     "iopub.status.idle": "2020-10-21T01:40:52.343061Z",
     "shell.execute_reply": "2020-10-21T01:40:52.342288Z",
     "shell.execute_reply.started": "2020-10-21T01:40:52.167476Z"
    }
   },
   "outputs": [
    {
     "name": "stdout",
     "output_type": "stream",
     "text": [
      "Training data                                            file_name Longitudinal  Chain  \\\n",
      "0  Ellebedy_2016_Day-0_memory-B-cell_IGHA_memory-...        Day-0  Heavy   \n",
      "1  Ellebedy_2016_Day-0_memory-B-cell_IGHA_memory-...        Day-0  Heavy   \n",
      "2  Ellebedy_2016_Day-0_memory-B-cell_IGHG_memory-...        Day-0  Heavy   \n",
      "\n",
      "                    Author Isotype    Age  Size_igblastn Disease  \\\n",
      "0  Ellebedy et al., (2016)    IGHA  18-49          84333    None   \n",
      "1  Ellebedy et al., (2016)    IGHA  18-49          59091    None   \n",
      "2  Ellebedy et al., (2016)    IGHG  18-49          52891    None   \n",
      "\n",
      "                                      Link BSource           BType   Size  \\\n",
      "0  https://www.nature.com/articles/ni.3533    PBMC  Memory-B-Cells  61336   \n",
      "1  https://www.nature.com/articles/ni.3533    PBMC  Memory-B-Cells  43137   \n",
      "2  https://www.nature.com/articles/ni.3533    PBMC  Memory-B-Cells  41221   \n",
      "\n",
      "  Species Vaccine  Subject  valid_entry_num  \n",
      "0   human    None  Donor-6             2019  \n",
      "1   human    None  Donor-5             2123  \n",
      "2   human    None  Donor-4             1028  \n",
      "Testing data                                            file_name Longitudinal  Chain  \\\n",
      "0  Ellebedy_2016_Day-0_memory-B-cell_IGHA_memory-...        Day-0  Heavy   \n",
      "\n",
      "                    Author Isotype    Age  Size_igblastn Disease  \\\n",
      "0  Ellebedy et al., (2016)    IGHA  18-49          50519    None   \n",
      "\n",
      "                                      Link BSource           BType   Size  \\\n",
      "0  https://www.nature.com/articles/ni.3533    PBMC  Memory-B-Cells  34975   \n",
      "\n",
      "  Species Vaccine  Subject  valid_entry_num  \n",
      "0   human    None  Donor-4              839  \n"
     ]
    }
   ],
   "source": [
    "seq_dir = os.path.join(aipt_dir, \"Benchmarks/OAS_dataset/data/seq_db\")\n",
    "\n",
    "index_path = \"OAS_index.txt\"\n",
    "input_seq_type = \"CDR3\"\n",
    "output_field = \"BType\"\n",
    "cell_types = [\n",
    "    \"Naive-B-Cells\",\n",
    "    \"Memory-B-Cells\",\n",
    "]  # todo: this is confusing - doesn't refer to \"Species\"\n",
    "\n",
    "train_loader, train_eval_loader, test_eval_loader, seq_len = oas.OAS_data_loader(\n",
    "    index_path,\n",
    "    output_field,\n",
    "    input_seq_type,\n",
    "    cell_types,\n",
    "    seq_dir=seq_dir,\n",
    "    gapped=True,\n",
    "    pad=False,\n",
    "    batch_size=20,\n",
    "    model_name=\"Beshnova2020\",\n",
    ")"
   ]
  },
  {
   "cell_type": "code",
   "execution_count": null,
   "metadata": {},
   "outputs": [],
   "source": []
  },
  {
   "cell_type": "code",
   "execution_count": 21,
   "metadata": {
    "execution": {
     "iopub.execute_input": "2020-10-21T01:40:52.344494Z",
     "iopub.status.busy": "2020-10-21T01:40:52.344282Z",
     "iopub.status.idle": "2020-10-21T01:40:52.352447Z",
     "shell.execute_reply": "2020-10-21T01:40:52.351720Z",
     "shell.execute_reply.started": "2020-10-21T01:40:52.344465Z"
    }
   },
   "outputs": [],
   "source": [
    "import pandas as pd\n",
    "index_df = pd.read_csv(index_path, sep=\"\\t\")\n",
    "\n",
    "file_names = index_df['file_name']"
   ]
  },
  {
   "cell_type": "code",
   "execution_count": 22,
   "metadata": {
    "execution": {
     "iopub.execute_input": "2020-10-21T01:40:52.354703Z",
     "iopub.status.busy": "2020-10-21T01:40:52.354492Z",
     "iopub.status.idle": "2020-10-21T01:40:52.829224Z",
     "shell.execute_reply": "2020-10-21T01:40:52.828439Z",
     "shell.execute_reply.started": "2020-10-21T01:40:52.354676Z"
    }
   },
   "outputs": [
    {
     "data": {
      "text/html": [
       "<div>\n",
       "<style scoped>\n",
       "    .dataframe tbody tr th:only-of-type {\n",
       "        vertical-align: middle;\n",
       "    }\n",
       "\n",
       "    .dataframe tbody tr th {\n",
       "        vertical-align: top;\n",
       "    }\n",
       "\n",
       "    .dataframe thead th {\n",
       "        text-align: right;\n",
       "    }\n",
       "</style>\n",
       "<table border=\"1\" class=\"dataframe\">\n",
       "  <thead>\n",
       "    <tr style=\"text-align: right;\">\n",
       "      <th></th>\n",
       "      <th>CDR3_aa</th>\n",
       "      <th>BType</th>\n",
       "    </tr>\n",
       "  </thead>\n",
       "  <tbody>\n",
       "    <tr>\n",
       "      <th>1</th>\n",
       "      <td>AREYARHNPGGD</td>\n",
       "      <td>Memory-B-Cells</td>\n",
       "    </tr>\n",
       "    <tr>\n",
       "      <th>2</th>\n",
       "      <td>TRPNGGDYAFDI</td>\n",
       "      <td>Memory-B-Cells</td>\n",
       "    </tr>\n",
       "    <tr>\n",
       "      <th>17</th>\n",
       "      <td>VKDWGGSYHFDR</td>\n",
       "      <td>Memory-B-Cells</td>\n",
       "    </tr>\n",
       "    <tr>\n",
       "      <th>26</th>\n",
       "      <td>ASSWYGGYYFDY</td>\n",
       "      <td>Memory-B-Cells</td>\n",
       "    </tr>\n",
       "    <tr>\n",
       "      <th>27</th>\n",
       "      <td>ARDKGASYYFDY</td>\n",
       "      <td>Memory-B-Cells</td>\n",
       "    </tr>\n",
       "    <tr>\n",
       "      <th>...</th>\n",
       "      <td>...</td>\n",
       "      <td>...</td>\n",
       "    </tr>\n",
       "    <tr>\n",
       "      <th>1527</th>\n",
       "      <td>ARGGTGTTNFGY</td>\n",
       "      <td>Naive-B-Cells</td>\n",
       "    </tr>\n",
       "    <tr>\n",
       "      <th>1530</th>\n",
       "      <td>ARLTGTHPYFDY</td>\n",
       "      <td>Naive-B-Cells</td>\n",
       "    </tr>\n",
       "    <tr>\n",
       "      <th>1533</th>\n",
       "      <td>ARVSVSTGWFDP</td>\n",
       "      <td>Naive-B-Cells</td>\n",
       "    </tr>\n",
       "    <tr>\n",
       "      <th>1535</th>\n",
       "      <td>ARLDRTVYGMDV</td>\n",
       "      <td>Naive-B-Cells</td>\n",
       "    </tr>\n",
       "    <tr>\n",
       "      <th>1537</th>\n",
       "      <td>ARIPGVTSPIDY</td>\n",
       "      <td>Naive-B-Cells</td>\n",
       "    </tr>\n",
       "  </tbody>\n",
       "</table>\n",
       "<p>2650 rows × 2 columns</p>\n",
       "</div>"
      ],
      "text/plain": [
       "           CDR3_aa           BType\n",
       "1     AREYARHNPGGD  Memory-B-Cells\n",
       "2     TRPNGGDYAFDI  Memory-B-Cells\n",
       "17    VKDWGGSYHFDR  Memory-B-Cells\n",
       "26    ASSWYGGYYFDY  Memory-B-Cells\n",
       "27    ARDKGASYYFDY  Memory-B-Cells\n",
       "...            ...             ...\n",
       "1527  ARGGTGTTNFGY   Naive-B-Cells\n",
       "1530  ARLTGTHPYFDY   Naive-B-Cells\n",
       "1533  ARVSVSTGWFDP   Naive-B-Cells\n",
       "1535  ARLDRTVYGMDV   Naive-B-Cells\n",
       "1537  ARIPGVTSPIDY   Naive-B-Cells\n",
       "\n",
       "[2650 rows x 2 columns]"
      ]
     },
     "execution_count": 22,
     "metadata": {},
     "output_type": "execute_result"
    }
   ],
   "source": [
    "\n",
    "data_dfs = []\n",
    "\n",
    "for index, row in index_df.iterrows():\n",
    "    file_name = row['file_name']\n",
    "    df = pd.read_csv(os.path.join(seq_dir, f'{file_name}.txt'), sep='\\t')\n",
    "    length_df = df.apply(lambda row: len(row['CDR3_aa']), axis=1)\n",
    "    data_df = df[length_df == 12]\n",
    "    data_df['BType'] = row['BType']\n",
    "    data_df = data_df[['CDR3_aa', 'BType']]\n",
    "    data_dfs.append(data_df)\n",
    "    \n",
    "data = pd.concat(data_dfs)\n",
    "data"
   ]
  },
  {
   "cell_type": "code",
   "execution_count": 23,
   "metadata": {
    "execution": {
     "iopub.execute_input": "2020-10-21T01:40:52.831097Z",
     "iopub.status.busy": "2020-10-21T01:40:52.830875Z",
     "iopub.status.idle": "2020-10-21T01:40:52.876821Z",
     "shell.execute_reply": "2020-10-21T01:40:52.876062Z",
     "shell.execute_reply.started": "2020-10-21T01:40:52.831069Z"
    }
   },
   "outputs": [
    {
     "name": "stdout",
     "output_type": "stream",
     "text": [
      "cell_type_to_ix: {'Naive-B-Cells': 0, 'Memory-B-Cells': 1}\n"
     ]
    },
    {
     "data": {
      "text/html": [
       "<div>\n",
       "<style scoped>\n",
       "    .dataframe tbody tr th:only-of-type {\n",
       "        vertical-align: middle;\n",
       "    }\n",
       "\n",
       "    .dataframe tbody tr th {\n",
       "        vertical-align: top;\n",
       "    }\n",
       "\n",
       "    .dataframe thead th {\n",
       "        text-align: right;\n",
       "    }\n",
       "</style>\n",
       "<table border=\"1\" class=\"dataframe\">\n",
       "  <thead>\n",
       "    <tr style=\"text-align: right;\">\n",
       "      <th></th>\n",
       "      <th>CDR3_aa</th>\n",
       "      <th>BType</th>\n",
       "      <th>label</th>\n",
       "    </tr>\n",
       "  </thead>\n",
       "  <tbody>\n",
       "    <tr>\n",
       "      <th>1</th>\n",
       "      <td>AREYARHNPGGD</td>\n",
       "      <td>Memory-B-Cells</td>\n",
       "      <td>1</td>\n",
       "    </tr>\n",
       "    <tr>\n",
       "      <th>2</th>\n",
       "      <td>TRPNGGDYAFDI</td>\n",
       "      <td>Memory-B-Cells</td>\n",
       "      <td>1</td>\n",
       "    </tr>\n",
       "    <tr>\n",
       "      <th>17</th>\n",
       "      <td>VKDWGGSYHFDR</td>\n",
       "      <td>Memory-B-Cells</td>\n",
       "      <td>1</td>\n",
       "    </tr>\n",
       "    <tr>\n",
       "      <th>26</th>\n",
       "      <td>ASSWYGGYYFDY</td>\n",
       "      <td>Memory-B-Cells</td>\n",
       "      <td>1</td>\n",
       "    </tr>\n",
       "    <tr>\n",
       "      <th>27</th>\n",
       "      <td>ARDKGASYYFDY</td>\n",
       "      <td>Memory-B-Cells</td>\n",
       "      <td>1</td>\n",
       "    </tr>\n",
       "    <tr>\n",
       "      <th>...</th>\n",
       "      <td>...</td>\n",
       "      <td>...</td>\n",
       "      <td>...</td>\n",
       "    </tr>\n",
       "    <tr>\n",
       "      <th>1527</th>\n",
       "      <td>ARGGTGTTNFGY</td>\n",
       "      <td>Naive-B-Cells</td>\n",
       "      <td>0</td>\n",
       "    </tr>\n",
       "    <tr>\n",
       "      <th>1530</th>\n",
       "      <td>ARLTGTHPYFDY</td>\n",
       "      <td>Naive-B-Cells</td>\n",
       "      <td>0</td>\n",
       "    </tr>\n",
       "    <tr>\n",
       "      <th>1533</th>\n",
       "      <td>ARVSVSTGWFDP</td>\n",
       "      <td>Naive-B-Cells</td>\n",
       "      <td>0</td>\n",
       "    </tr>\n",
       "    <tr>\n",
       "      <th>1535</th>\n",
       "      <td>ARLDRTVYGMDV</td>\n",
       "      <td>Naive-B-Cells</td>\n",
       "      <td>0</td>\n",
       "    </tr>\n",
       "    <tr>\n",
       "      <th>1537</th>\n",
       "      <td>ARIPGVTSPIDY</td>\n",
       "      <td>Naive-B-Cells</td>\n",
       "      <td>0</td>\n",
       "    </tr>\n",
       "  </tbody>\n",
       "</table>\n",
       "<p>2650 rows × 3 columns</p>\n",
       "</div>"
      ],
      "text/plain": [
       "           CDR3_aa           BType  label\n",
       "1     AREYARHNPGGD  Memory-B-Cells      1\n",
       "2     TRPNGGDYAFDI  Memory-B-Cells      1\n",
       "17    VKDWGGSYHFDR  Memory-B-Cells      1\n",
       "26    ASSWYGGYYFDY  Memory-B-Cells      1\n",
       "27    ARDKGASYYFDY  Memory-B-Cells      1\n",
       "...            ...             ...    ...\n",
       "1527  ARGGTGTTNFGY   Naive-B-Cells      0\n",
       "1530  ARLTGTHPYFDY   Naive-B-Cells      0\n",
       "1533  ARVSVSTGWFDP   Naive-B-Cells      0\n",
       "1535  ARLDRTVYGMDV   Naive-B-Cells      0\n",
       "1537  ARIPGVTSPIDY   Naive-B-Cells      0\n",
       "\n",
       "[2650 rows x 3 columns]"
      ]
     },
     "execution_count": 23,
     "metadata": {},
     "output_type": "execute_result"
    }
   ],
   "source": [
    "cell_type_to_ix = {cell_type: ix for ix, cell_type in enumerate(cell_types)}\n",
    "print('cell_type_to_ix:', cell_type_to_ix)\n",
    "\n",
    "data['label'] = data.apply(lambda row: cell_type_to_ix[row['BType']], axis=1)\n",
    "data"
   ]
  },
  {
   "cell_type": "code",
   "execution_count": 24,
   "metadata": {
    "execution": {
     "iopub.execute_input": "2020-10-21T01:40:52.878435Z",
     "iopub.status.busy": "2020-10-21T01:40:52.878148Z",
     "iopub.status.idle": "2020-10-21T01:40:52.909498Z",
     "shell.execute_reply": "2020-10-21T01:40:52.908724Z",
     "shell.execute_reply.started": "2020-10-21T01:40:52.878404Z"
    }
   },
   "outputs": [],
   "source": [
    "from AIPT.Benchmarks.OAS_dataset import OAS_data_loader\n",
    "from sklearn.model_selection import train_test_split\n",
    "\n",
    "# train_data = data[['CDR3_aa', 'label']]\n",
    "# seq_encodings = OAS_data_loader.encode_index(data=train_data['CDR3_aa'])\n",
    "# btypes = train_data['label'].values\n",
    "# train_loader = torch.utils.data.DataLoader(list(zip(seq_encodings, btypes)), shuffle=True, batch_size=32)\n",
    "\n",
    "def get_data_loader(data, batch_size=22):\n",
    "    seq_encodings = OAS_data_loader.encode_index(data=data['CDR3_aa'])\n",
    "    btypes = data['label'].values\n",
    "    loader = torch.utils.data.DataLoader(list(zip(seq_encodings, btypes)), shuffle=True, batch_size=100, drop_last=True)\n",
    "    return loader\n",
    "\n",
    "train_data, test_data = train_test_split(data, train_size=0.8)\n",
    "train_loader = get_data_loader(train_data)\n",
    "test_loader = get_data_loader(test_data)"
   ]
  },
  {
   "cell_type": "markdown",
   "metadata": {},
   "source": [
    "## Load Model"
   ]
  },
  {
   "cell_type": "code",
   "execution_count": 25,
   "metadata": {
    "execution": {
     "iopub.execute_input": "2020-10-21T01:40:52.911047Z",
     "iopub.status.busy": "2020-10-21T01:40:52.910756Z",
     "iopub.status.idle": "2020-10-21T01:40:55.424452Z",
     "shell.execute_reply": "2020-10-21T01:40:55.423653Z",
     "shell.execute_reply.started": "2020-10-21T01:40:52.910996Z"
    }
   },
   "outputs": [
    {
     "name": "stdout",
     "output_type": "stream",
     "text": [
      "\n",
      "File: /home/ec2-user/SageMaker/.persisted_conda/aipt/lib/python3.6/site-packages/AIPT-0.0.1-py3.6.egg/AIPT/Models/Beshnova2020/CNN.py \n",
      " Last modified: 2020-10-21 01:40:53 UTC\n",
      "\n"
     ]
    }
   ],
   "source": [
    "aipt_reload(AIPT.Models.Beshnova2020.CNN)\n",
    "aipt_reload(AIPT.Utils.logging)\n",
    "from AIPT.Models.Beshnova2020.CNN import CNN\n",
    "from AIPT.Utils.logging import today, current_time"
   ]
  },
  {
   "cell_type": "code",
   "execution_count": 26,
   "metadata": {
    "execution": {
     "iopub.execute_input": "2020-10-21T01:40:55.426043Z",
     "iopub.status.busy": "2020-10-21T01:40:55.425793Z",
     "iopub.status.idle": "2020-10-21T01:40:55.439765Z",
     "shell.execute_reply": "2020-10-21T01:40:55.438953Z",
     "shell.execute_reply.started": "2020-10-21T01:40:55.426008Z"
    }
   },
   "outputs": [
    {
     "name": "stdout",
     "output_type": "stream",
     "text": [
      "LOG DIR: /home/ec2-user/SageMaker/logs/tensorboard/2020-10-20/test/20.40.55\n"
     ]
    }
   ],
   "source": [
    "import os\n",
    "\n",
    "log_root_dir = '/home/ec2-user/SageMaker/logs/tensorboard'\n",
    "run_name = 'test'\n",
    "timezone = 'EST'\n",
    "\n",
    "para_dict = {\n",
    "    'seq_len': 12,\n",
    "    'embedding_dim': 15, # paper uses dim 15 PCA features\n",
    "    'epoch': 2000,\n",
    "    'classes': cell_types,\n",
    "    'learning_rate': 10**-4,\n",
    "    'run_name': run_name,\n",
    "    'log_dir': os.path.join(log_root_dir, today(tz=timezone), run_name, current_time(tz=timezone))\n",
    "}\n",
    "\n",
    "embedding_fn = nn.Embedding(21, para_dict['embedding_dim'])\n",
    "\n",
    "model = CNN(para_dict, embedding_fn)\n",
    "print('LOG DIR:', para_dict['log_dir'])"
   ]
  },
  {
   "cell_type": "markdown",
   "metadata": {},
   "source": [
    "## Tensorboard"
   ]
  },
  {
   "cell_type": "code",
   "execution_count": 27,
   "metadata": {
    "execution": {
     "iopub.execute_input": "2020-10-21T01:40:55.441082Z",
     "iopub.status.busy": "2020-10-21T01:40:55.440837Z",
     "iopub.status.idle": "2020-10-21T01:40:55.461911Z",
     "shell.execute_reply": "2020-10-21T01:40:55.461131Z",
     "shell.execute_reply.started": "2020-10-21T01:40:55.441054Z"
    }
   },
   "outputs": [],
   "source": [
    "import subprocess as sp\n",
    "\n",
    "start_tensorboard = True\n",
    "\n",
    "if start_tensorboard:\n",
    "    reload_interval = \"15\"  # seconds\n",
    "    tensorboard_proc = sp.Popen(\n",
    "        [\n",
    "            \"tensorboard\",\n",
    "            \"--logdir\",\n",
    "            para_dict[\"log_dir\"],\n",
    "        ],\n",
    "        universal_newlines=True,\n",
    "        stdout=sp.PIPE,\n",
    "        stderr=sp.PIPE,\n",
    "    )"
   ]
  },
  {
   "cell_type": "markdown",
   "metadata": {},
   "source": [
    "## Train"
   ]
  },
  {
   "cell_type": "code",
   "execution_count": 28,
   "metadata": {
    "execution": {
     "iopub.execute_input": "2020-10-21T01:40:55.467438Z",
     "iopub.status.busy": "2020-10-21T01:40:55.465519Z",
     "iopub.status.idle": "2020-10-21T01:41:07.770179Z",
     "shell.execute_reply": "2020-10-21T01:41:07.768728Z",
     "shell.execute_reply.started": "2020-10-21T01:40:55.467400Z"
    }
   },
   "outputs": [
    {
     "name": "stdout",
     "output_type": "stream",
     "text": [
      "fit called\n",
      "width 2\n",
      "No saved model found.\n",
      "Epoch: 5: Train Loss=11.513\n",
      "Test: \n",
      "[[   0  301]\n",
      " [   0 1799]]\n",
      "Accuracy = 0.857 ,MCC = 0.000\n",
      "\n",
      "Epoch: 5: Test Loss=2.635\n",
      "Test: \n",
      "[[  0  76]\n",
      " [  0 424]]\n",
      "Accuracy = 0.848 ,MCC = 0.000\n",
      "====================\n",
      "\n",
      "\n",
      "Epoch: 10: Train Loss=8.659\n",
      "Test: \n",
      "[[   0  302]\n",
      " [   0 1798]]\n",
      "Accuracy = 0.856 ,MCC = 0.000\n",
      "\n",
      "Epoch: 10: Test Loss=2.100\n",
      "Test: \n",
      "[[  0  75]\n",
      " [  0 425]]\n",
      "Accuracy = 0.850 ,MCC = 0.000\n",
      "====================\n",
      "\n",
      "\n",
      "Epoch: 15: Train Loss=8.422\n",
      "Test: \n",
      "[[   0  300]\n",
      " [   0 1800]]\n",
      "Accuracy = 0.857 ,MCC = 0.000\n",
      "\n",
      "Epoch: 15: Test Loss=2.030\n",
      "Test: \n",
      "[[  0  73]\n",
      " [  0 427]]\n",
      "Accuracy = 0.854 ,MCC = 0.000\n",
      "====================\n",
      "\n",
      "\n",
      "Epoch: 20: Train Loss=8.324\n",
      "Test: \n",
      "[[   0  302]\n",
      " [   0 1798]]\n",
      "Accuracy = 0.856 ,MCC = 0.000\n",
      "\n",
      "Epoch: 20: Test Loss=2.098\n",
      "Test: \n",
      "[[  0  77]\n",
      " [  0 423]]\n",
      "Accuracy = 0.846 ,MCC = 0.000\n",
      "====================\n",
      "\n",
      "\n",
      "Epoch: 25: Train Loss=8.236\n",
      "Test: \n",
      "[[   0  303]\n",
      " [   0 1797]]\n",
      "Accuracy = 0.856 ,MCC = 0.000\n",
      "\n",
      "Epoch: 25: Test Loss=2.065\n",
      "Test: \n",
      "[[  0  76]\n",
      " [  0 424]]\n",
      "Accuracy = 0.848 ,MCC = 0.000\n",
      "====================\n",
      "\n",
      "\n",
      "Epoch: 30: Train Loss=8.171\n",
      "Test: \n",
      "[[   0  303]\n",
      " [   0 1797]]\n",
      "Accuracy = 0.856 ,MCC = 0.000\n",
      "\n",
      "Epoch: 30: Test Loss=2.034\n",
      "Test: \n",
      "[[  0  74]\n",
      " [  0 426]]\n",
      "Accuracy = 0.852 ,MCC = 0.000\n",
      "====================\n",
      "\n",
      "\n",
      "Epoch: 35: Train Loss=8.104\n",
      "Test: \n",
      "[[   0  301]\n",
      " [   0 1799]]\n",
      "Accuracy = 0.857 ,MCC = 0.000\n",
      "\n",
      "Epoch: 35: Test Loss=2.050\n",
      "Test: \n",
      "[[  0  76]\n",
      " [  0 424]]\n",
      "Accuracy = 0.848 ,MCC = 0.000\n",
      "====================\n",
      "\n",
      "\n"
     ]
    },
    {
     "name": "stderr",
     "output_type": "stream",
     "text": [
      "ERROR:root:Internal Python error in the inspect module.\n",
      "Below is the traceback from this internal error.\n",
      "\n"
     ]
    },
    {
     "name": "stdout",
     "output_type": "stream",
     "text": [
      "Traceback (most recent call last):\n",
      "  File \"/home/ec2-user/SageMaker/.persisted_conda/aipt/lib/python3.6/site-packages/IPython/core/interactiveshell.py\", line 2878, in run_code\n",
      "    exec(code_obj, self.user_global_ns, self.user_ns)\n",
      "  File \"<ipython-input-28-32dc66a7547d>\", line 1, in <module>\n",
      "    outputs = model.fit(train_loader, test_loader=test_loader)\n",
      "  File \"/home/ec2-user/SageMaker/.persisted_conda/aipt/lib/python3.6/site-packages/AIPT-0.0.1-py3.6.egg/AIPT/Models/Beshnova2020/CNN.py\", line 247, in fit\n",
      "    logps = self.forward(features)\n",
      "  File \"/home/ec2-user/SageMaker/.persisted_conda/aipt/lib/python3.6/site-packages/AIPT-0.0.1-py3.6.egg/AIPT/Models/Beshnova2020/CNN.py\", line 113, in forward\n",
      "    out = self.conv2(out)\n",
      "  File \"/home/ec2-user/SageMaker/.persisted_conda/aipt/lib/python3.6/site-packages/torch/nn/modules/module.py\", line 722, in _call_impl\n",
      "    result = self.forward(*input, **kwargs)\n",
      "  File \"/home/ec2-user/SageMaker/.persisted_conda/aipt/lib/python3.6/site-packages/torch/nn/modules/conv.py\", line 419, in forward\n",
      "    return self._conv_forward(input, self.weight)\n",
      "  File \"/home/ec2-user/SageMaker/.persisted_conda/aipt/lib/python3.6/site-packages/torch/nn/modules/conv.py\", line 416, in _conv_forward\n",
      "    self.padding, self.dilation, self.groups)\n",
      "KeyboardInterrupt\n",
      "\n",
      "During handling of the above exception, another exception occurred:\n",
      "\n",
      "Traceback (most recent call last):\n",
      "  File \"/home/ec2-user/SageMaker/.persisted_conda/aipt/lib/python3.6/site-packages/IPython/core/interactiveshell.py\", line 1823, in showtraceback\n",
      "    stb = value._render_traceback_()\n",
      "AttributeError: 'KeyboardInterrupt' object has no attribute '_render_traceback_'\n",
      "\n",
      "During handling of the above exception, another exception occurred:\n",
      "\n",
      "Traceback (most recent call last):\n",
      "  File \"/home/ec2-user/SageMaker/.persisted_conda/aipt/lib/python3.6/site-packages/IPython/core/ultratb.py\", line 1132, in get_records\n",
      "    return _fixed_getinnerframes(etb, number_of_lines_of_context, tb_offset)\n",
      "  File \"/home/ec2-user/SageMaker/.persisted_conda/aipt/lib/python3.6/site-packages/IPython/core/ultratb.py\", line 313, in wrapped\n",
      "    return f(*args, **kwargs)\n",
      "  File \"/home/ec2-user/SageMaker/.persisted_conda/aipt/lib/python3.6/site-packages/IPython/core/ultratb.py\", line 358, in _fixed_getinnerframes\n",
      "    records = fix_frame_records_filenames(inspect.getinnerframes(etb, context))\n",
      "  File \"/home/ec2-user/SageMaker/.persisted_conda/aipt/lib/python3.6/inspect.py\", line 1490, in getinnerframes\n",
      "    frameinfo = (tb.tb_frame,) + getframeinfo(tb, context)\n",
      "  File \"/home/ec2-user/SageMaker/.persisted_conda/aipt/lib/python3.6/inspect.py\", line 1448, in getframeinfo\n",
      "    filename = getsourcefile(frame) or getfile(frame)\n",
      "  File \"/home/ec2-user/SageMaker/.persisted_conda/aipt/lib/python3.6/inspect.py\", line 696, in getsourcefile\n",
      "    if getattr(getmodule(object, filename), '__loader__', None) is not None:\n",
      "  File \"/home/ec2-user/SageMaker/.persisted_conda/aipt/lib/python3.6/inspect.py\", line 742, in getmodule\n",
      "    os.path.realpath(f)] = module.__name__\n",
      "  File \"/home/ec2-user/SageMaker/.persisted_conda/aipt/lib/python3.6/posixpath.py\", line 395, in realpath\n",
      "    path, ok = _joinrealpath(filename[:0], filename, {})\n",
      "  File \"/home/ec2-user/SageMaker/.persisted_conda/aipt/lib/python3.6/posixpath.py\", line 429, in _joinrealpath\n",
      "    if not islink(newpath):\n",
      "  File \"/home/ec2-user/SageMaker/.persisted_conda/aipt/lib/python3.6/posixpath.py\", line 171, in islink\n",
      "    st = os.lstat(path)\n",
      "KeyboardInterrupt\n"
     ]
    },
    {
     "ename": "KeyboardInterrupt",
     "evalue": "",
     "output_type": "error",
     "traceback": [
      "\u001b[0;31m---------------------------------------------------------------------------\u001b[0m"
     ]
    }
   ],
   "source": [
    "outputs = model.fit(train_loader, test_loader=test_loader)\n",
    "# print('train outputs', outputs)\n",
    "model"
   ]
  },
  {
   "cell_type": "code",
   "execution_count": null,
   "metadata": {
    "execution": {
     "iopub.status.busy": "2020-10-21T01:41:07.771109Z",
     "iopub.status.idle": "2020-10-21T01:41:07.771634Z"
    }
   },
   "outputs": [],
   "source": [
    "import collections\n",
    "xset = []\n",
    "yset = []\n",
    "with torch.no_grad():\n",
    "    for i, dat in enumerate(train_loader):\n",
    "        x,y = dat\n",
    "#         print(x,y)\n",
    "        result = model.forward(x)\n",
    "        xset.append(result[0][0].item())\n",
    "        yset.append(result[0][1].item())\n",
    "print(collections.Counter(xset))\n",
    "print(collections.Counter(yset))"
   ]
  },
  {
   "cell_type": "code",
   "execution_count": null,
   "metadata": {
    "execution": {
     "iopub.status.busy": "2020-10-21T01:41:07.772551Z",
     "iopub.status.idle": "2020-10-21T01:41:07.774253Z"
    }
   },
   "outputs": [],
   "source": [
    "output, labels, loss = model.predict(train_loader)\n",
    "print(loss)\n",
    "model.evaluate(output, labels)\n",
    "\n",
    "# train_data['label'].values"
   ]
  },
  {
   "cell_type": "markdown",
   "metadata": {},
   "source": [
    "## Test"
   ]
  },
  {
   "cell_type": "code",
   "execution_count": null,
   "metadata": {
    "execution": {
     "iopub.status.busy": "2020-10-21T01:41:07.775154Z",
     "iopub.status.idle": "2020-10-21T01:41:07.776917Z"
    }
   },
   "outputs": [],
   "source": [
    "output, labels, loss = model.predict(test_loader)\n",
    "print(loss)\n",
    "model.evaluate(output, labels)"
   ]
  },
  {
   "cell_type": "markdown",
   "metadata": {},
   "source": [
    "## Tensorboard Output"
   ]
  },
  {
   "cell_type": "code",
   "execution_count": null,
   "metadata": {
    "execution": {
     "iopub.status.busy": "2020-10-21T01:41:07.777936Z",
     "iopub.status.idle": "2020-10-21T01:41:07.782868Z"
    }
   },
   "outputs": [],
   "source": [
    "# for line in iter(tensorboard_proc.stdout):\n",
    "#     print(line)\n",
    "# print(tensorboard_proc.stdout)\n",
    "# print(tensorboard_proc.stderr)\n",
    "# todo: get this output piping to work"
   ]
  }
 ],
 "metadata": {
  "kernelspec": {
   "display_name": "Python 3",
   "language": "python",
   "name": "python3"
  },
  "language_info": {
   "codemirror_mode": {
    "name": "ipython",
    "version": 3
   },
   "file_extension": ".py",
   "mimetype": "text/x-python",
   "name": "python",
   "nbconvert_exporter": "python",
   "pygments_lexer": "ipython3",
   "version": "3.6.11"
  }
 },
 "nbformat": 4,
 "nbformat_minor": 4
}
