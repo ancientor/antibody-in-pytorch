{
 "cells": [
  {
   "cell_type": "code",
   "execution_count": 149,
   "metadata": {},
   "outputs": [
    {
     "data": {
      "text/plain": [
       "'arn:aws:iam::203378532510:role/service-role/AmazonSageMaker-ExecutionRole-Interns'"
      ]
     },
     "execution_count": 149,
     "metadata": {},
     "output_type": "execute_result"
    }
   ],
   "source": [
    "import sagemaker\n",
    "sagemaker.get_execution_role()"
   ]
  },
  {
   "cell_type": "code",
   "execution_count": 150,
   "metadata": {
    "collapsed": false,
    "jupyter": {
     "outputs_hidden": false
    },
    "pycharm": {
     "name": "#%%\n"
    }
   },
   "outputs": [
    {
     "name": "stdout",
     "output_type": "stream",
     "text": [
      "current working directory:\n"
     ]
    },
    {
     "data": {
      "text/plain": [
       "'/home/ec2-user/SageMaker/antibody-in-pytorch'"
      ]
     },
     "execution_count": 150,
     "metadata": {},
     "output_type": "execute_result"
    }
   ],
   "source": [
    "import json\n",
    "import os\n",
    "import pickle as pkl\n",
    "import sys\n",
    "import warnings\n",
    "\n",
    "import matplotlib.pyplot as plt\n",
    "import numpy as np\n",
    "import torch\n",
    "import torch.nn as nn\n",
    "import torch.optim as optim\n",
    "\n",
    "warnings.filterwarnings(\"ignore\")\n",
    "\n",
    "import AIPT.Models.Beshnova2020.CNN\n",
    "import AIPT.Utils.logging\n",
    "import AIPT.Utils.plotting\n",
    "\n",
    "import AIPT.Utils.Dev.dev_utils as dev_utils\n",
    "\n",
    "aipt_path = '/home/ec2-user/SageMaker/antibody-in-pytorch/'\n",
    "aipt_reload = dev_utils.get_aipt_reload_fn(aipt_path)\n",
    "\n",
    "os.chdir(aipt_path)\n",
    "print(\"current working directory:\")\n",
    "%pwd"
   ]
  },
  {
   "cell_type": "code",
   "execution_count": 151,
   "metadata": {
    "collapsed": false,
    "jupyter": {
     "outputs_hidden": false
    },
    "pycharm": {
     "name": "#%%\n"
    }
   },
   "outputs": [
    {
     "name": "stdout",
     "output_type": "stream",
     "text": [
      "Benchmarks\t__init__.py  Models\t  Utils\n",
      "entry_point.py\t__main__.py  __pycache__\n"
     ]
    }
   ],
   "source": [
    "'''\n",
    "set up paths\n",
    "'''\n",
    "\n",
    "aipt_dir = '/home/ec2-user/SageMaker/antibody-in-pytorch/AIPT' # replace with your own aipt path\n",
    "# print(\"\\t\".join(os.listdir(aipt_dir)))\n",
    "!ls {aipt_dir}"
   ]
  },
  {
   "cell_type": "code",
   "execution_count": 152,
   "metadata": {},
   "outputs": [],
   "source": [
    "'''\n",
    "Run settings\n",
    "'''\n",
    "\n",
    "SEQ_LENGTH = 12 # CDR3 AA length\n",
    "toy = True # if True, use smaller dataset\n",
    "toy_rows = 50 # if `toy`, use at most `toy_rows` OAS data files\n",
    "\n",
    "start_tensorboard = True # Start TensorBoard server. TensorBoard logging occurs even if False.\n",
    "\n",
    "seq_dir = os.path.join(aipt_dir, \"Benchmarks/OAS_dataset/data/seq_db\") # Sequence directory\n",
    "model_dir = 'AIPT/Models/Beshnova2020'\n",
    "model_dir_abs = os.path.join(aipt_path, model_dir)"
   ]
  },
  {
   "cell_type": "markdown",
   "metadata": {
    "pycharm": {
     "name": "#%% md\n"
    }
   },
   "source": [
    "## Data Processing"
   ]
  },
  {
   "cell_type": "code",
   "execution_count": 153,
   "metadata": {
    "collapsed": false,
    "jupyter": {
     "outputs_hidden": false
    },
    "pycharm": {
     "name": "#%%\n"
    }
   },
   "outputs": [],
   "source": [
    "import pandas as pd\n",
    "# %cd {model_dir_abs}\n",
    "index_fn = \"OAS_index.txt\"\n",
    "index_path = os.path.join(aipt_path, model_dir, index_fn)\n",
    "full_index_path = os.path.join(aipt_path, 'AIPT', 'Benchmarks', 'OAS_dataset', 'data', 'OAS_meta_info.txt')\n",
    "toy_index_path = os.path.join(model_dir_abs, 'OAS_index_small.txt')\n",
    "input_seq_type = \"CDR3\"\n",
    "output_field = \"BType\"\n",
    "cell_types = [\n",
    "    \"Naive-B-Cells\",\n",
    "    \"Memory-B-Cells\",\n",
    "] \n",
    "\n",
    "index_path_to_read = toy_index_path if toy else full_index_path\n",
    "index_df = pd.read_csv(index_path_to_read, sep='\\t')\n",
    "\n",
    "def index_filter(row):\n",
    "    # filter the data for files with desired cell type annotations\n",
    "    return row['BType'] in cell_types and row['Species'] == 'human'\n",
    "\n",
    "index_df_filtered = index_df[index_df.apply(index_filter, axis=1)]\n",
    "index_df_filtered.to_csv(index_path, sep='\\t')"
   ]
  },
  {
   "cell_type": "code",
   "execution_count": 154,
   "metadata": {
    "collapsed": false,
    "jupyter": {
     "outputs_hidden": false
    },
    "pycharm": {
     "name": "#%%\n"
    }
   },
   "outputs": [
    {
     "data": {
      "text/html": [
       "<div>\n",
       "<style scoped>\n",
       "    .dataframe tbody tr th:only-of-type {\n",
       "        vertical-align: middle;\n",
       "    }\n",
       "\n",
       "    .dataframe tbody tr th {\n",
       "        vertical-align: top;\n",
       "    }\n",
       "\n",
       "    .dataframe thead th {\n",
       "        text-align: right;\n",
       "    }\n",
       "</style>\n",
       "<table border=\"1\" class=\"dataframe\">\n",
       "  <thead>\n",
       "    <tr style=\"text-align: right;\">\n",
       "      <th></th>\n",
       "      <th>CDR3_aa</th>\n",
       "      <th>BType</th>\n",
       "      <th>label</th>\n",
       "    </tr>\n",
       "  </thead>\n",
       "  <tbody>\n",
       "    <tr>\n",
       "      <th>1</th>\n",
       "      <td>AREYARHNPGGD</td>\n",
       "      <td>Memory-B-Cells</td>\n",
       "      <td>1</td>\n",
       "    </tr>\n",
       "    <tr>\n",
       "      <th>2</th>\n",
       "      <td>TRPNGGDYAFDI</td>\n",
       "      <td>Memory-B-Cells</td>\n",
       "      <td>1</td>\n",
       "    </tr>\n",
       "    <tr>\n",
       "      <th>17</th>\n",
       "      <td>VKDWGGSYHFDR</td>\n",
       "      <td>Memory-B-Cells</td>\n",
       "      <td>1</td>\n",
       "    </tr>\n",
       "    <tr>\n",
       "      <th>26</th>\n",
       "      <td>ASSWYGGYYFDY</td>\n",
       "      <td>Memory-B-Cells</td>\n",
       "      <td>1</td>\n",
       "    </tr>\n",
       "    <tr>\n",
       "      <th>27</th>\n",
       "      <td>ARDKGASYYFDY</td>\n",
       "      <td>Memory-B-Cells</td>\n",
       "      <td>1</td>\n",
       "    </tr>\n",
       "    <tr>\n",
       "      <th>...</th>\n",
       "      <td>...</td>\n",
       "      <td>...</td>\n",
       "      <td>...</td>\n",
       "    </tr>\n",
       "    <tr>\n",
       "      <th>1527</th>\n",
       "      <td>ARGGTGTTNFGY</td>\n",
       "      <td>Naive-B-Cells</td>\n",
       "      <td>0</td>\n",
       "    </tr>\n",
       "    <tr>\n",
       "      <th>1530</th>\n",
       "      <td>ARLTGTHPYFDY</td>\n",
       "      <td>Naive-B-Cells</td>\n",
       "      <td>0</td>\n",
       "    </tr>\n",
       "    <tr>\n",
       "      <th>1533</th>\n",
       "      <td>ARVSVSTGWFDP</td>\n",
       "      <td>Naive-B-Cells</td>\n",
       "      <td>0</td>\n",
       "    </tr>\n",
       "    <tr>\n",
       "      <th>1535</th>\n",
       "      <td>ARLDRTVYGMDV</td>\n",
       "      <td>Naive-B-Cells</td>\n",
       "      <td>0</td>\n",
       "    </tr>\n",
       "    <tr>\n",
       "      <th>1537</th>\n",
       "      <td>ARIPGVTSPIDY</td>\n",
       "      <td>Naive-B-Cells</td>\n",
       "      <td>0</td>\n",
       "    </tr>\n",
       "  </tbody>\n",
       "</table>\n",
       "<p>2650 rows × 3 columns</p>\n",
       "</div>"
      ],
      "text/plain": [
       "           CDR3_aa           BType  label\n",
       "1     AREYARHNPGGD  Memory-B-Cells      1\n",
       "2     TRPNGGDYAFDI  Memory-B-Cells      1\n",
       "17    VKDWGGSYHFDR  Memory-B-Cells      1\n",
       "26    ASSWYGGYYFDY  Memory-B-Cells      1\n",
       "27    ARDKGASYYFDY  Memory-B-Cells      1\n",
       "...            ...             ...    ...\n",
       "1527  ARGGTGTTNFGY   Naive-B-Cells      0\n",
       "1530  ARLTGTHPYFDY   Naive-B-Cells      0\n",
       "1533  ARVSVSTGWFDP   Naive-B-Cells      0\n",
       "1535  ARLDRTVYGMDV   Naive-B-Cells      0\n",
       "1537  ARIPGVTSPIDY   Naive-B-Cells      0\n",
       "\n",
       "[2650 rows x 3 columns]"
      ]
     },
     "execution_count": 154,
     "metadata": {},
     "output_type": "execute_result"
    }
   ],
   "source": [
    "from AIPT.Models.Beshnova2020.data import load_data, get_train_test_loaders\n",
    "\n",
    "index_df = pd.read_csv(index_path, sep=\"\\t\")\n",
    "file_names = index_df['file_name']\n",
    "file_names\n",
    "data = load_data(index_df, seq_dir, cell_types, seq_len=SEQ_LENGTH)\n",
    "train_loader, test_loader = get_train_test_loaders(data)\n",
    "data"
   ]
  },
  {
   "cell_type": "markdown",
   "metadata": {},
   "source": [
    "## Load Model"
   ]
  },
  {
   "cell_type": "code",
   "execution_count": 155,
   "metadata": {
    "collapsed": false,
    "jupyter": {
     "outputs_hidden": false
    },
    "pycharm": {
     "name": "#%%\n"
    }
   },
   "outputs": [
    {
     "name": "stdout",
     "output_type": "stream",
     "text": [
      "\n",
      "File: /home/ec2-user/SageMaker/.persisted_conda/aipt/lib/python3.6/site-packages/AIPT-0.0.1-py3.6.egg/AIPT/Models/Beshnova2020/CNN.py \n",
      " Last modified: 2020-11-11 11:38:50 UTC\n",
      "\n",
      "\n"
     ]
    }
   ],
   "source": [
    "aipt_reload(AIPT.Models.Beshnova2020.CNN)\n",
    "aipt_reload(AIPT.Utils.logging)\n",
    "aipt_reload(AIPT.Utils.plotting)\n",
    "from AIPT.Models.Beshnova2020.CNN import CNN\n",
    "import AIPT.Models.Beshnova2020.pca_embedding as pca_embedding\n",
    "from AIPT.Utils.logging import today, current_time\n",
    "from AIPT.Utils.plotting import plot_roc_curves, roc_from_models"
   ]
  },
  {
   "cell_type": "code",
   "execution_count": 156,
   "metadata": {
    "collapsed": false,
    "jupyter": {
     "outputs_hidden": false
    },
    "pycharm": {
     "name": "#%%\n"
    }
   },
   "outputs": [
    {
     "name": "stdout",
     "output_type": "stream",
     "text": [
      "LOG DIR: s3://gv20interns/roger/logs/tensorboard/2020-11-11/plots/06.38.54\n"
     ]
    }
   ],
   "source": [
    "import os\n",
    "\n",
    "# log_root_dir = '/home/ec2-user/SageMaker/logs/tensorboard'\n",
    "log_root_dir = 's3://gv20interns/roger/logs/tensorboard'\n",
    "run_name = 'plots'\n",
    "timezone = 'EST'\n",
    "\n",
    "# original para_dict\n",
    "# para_dict = {\n",
    "#     'seq_len': SEQ_LENGTH,\n",
    "#     'embedding_dim': 15, # paper uses dim 15 PCA features\n",
    "#     'epoch': 300,\n",
    "#     'classes': cell_types,\n",
    "#     'learning_rate': 10**-3,\n",
    "#     'run_name': run_name,\n",
    "#     'log_dir': os.path.join(log_root_dir, today(tz=timezone), run_name, current_time(tz=timezone)),\n",
    "# }\n",
    "\n",
    "para_dict = {\n",
    "    'seq_len': SEQ_LENGTH,\n",
    "    'classes': cell_types,\n",
    "    'embedding_dim': 15,  # paper uses dim 15 PCA features\n",
    "    'index_file': 'OAS_index_small.txt',\n",
    "    'batch_size': 100,\n",
    "    'epoch': 1000,\n",
    "    'run_name': run_name,\n",
    "    'work_path': os.path.join(model_dir_abs, 'models'),\n",
    "    # tuned hyperparameters from https://us-east-2.console.aws.amazon.com/sagemaker/home?region=us-east-2#/hyper-tuning-jobs/roger-beshnova2020-t-201103-0809\n",
    "    'learning_rate': 0.000125245489276611,\n",
    "    'dropout_rate': 0.1554058115760688,\n",
    "    'conv1_filter_dim1': 2,\n",
    "    'conv1_n_filters': 17,\n",
    "    'conv2_filter_dim1': 1,\n",
    "    'conv2_n_filters': 16,\n",
    "    'max_pool_filter_dim1': 1,\n",
    "    'fc_hidden_dim': 83,\n",
    "    'log_dir': os.path.join(log_root_dir, today(tz=timezone), run_name, current_time(tz=timezone)),\n",
    "}\n",
    "print('LOG DIR:', para_dict['log_dir'])\n",
    "\n",
    "pca_model = CNN.pca_model({'model_name': 'pca', **para_dict})\n",
    "general_model = CNN.general_model({'model_name': 'general', **para_dict})"
   ]
  },
  {
   "cell_type": "markdown",
   "metadata": {},
   "source": [
    "## Tensorboard"
   ]
  },
  {
   "cell_type": "code",
   "execution_count": 157,
   "metadata": {
    "collapsed": false,
    "jupyter": {
     "outputs_hidden": false
    },
    "pycharm": {
     "name": "#%%\n"
    }
   },
   "outputs": [],
   "source": [
    "import subprocess as sp\n",
    "\n",
    "\n",
    "if start_tensorboard:\n",
    "    tensorboard_proc = sp.Popen(\n",
    "        [\n",
    "            \"tensorboard\",\n",
    "            \"--logdir\",\n",
    "            para_dict[\"log_dir\"],\n",
    "        ],\n",
    "        universal_newlines=True,\n",
    "        stdout=sp.PIPE,\n",
    "        stderr=sp.PIPE,\n",
    "    )"
   ]
  },
  {
   "cell_type": "markdown",
   "metadata": {},
   "source": [
    "## Train"
   ]
  },
  {
   "cell_type": "code",
   "execution_count": 158,
   "metadata": {
    "collapsed": false,
    "jupyter": {
     "outputs_hidden": false
    },
    "pycharm": {
     "name": "#%%\n"
    }
   },
   "outputs": [
    {
     "name": "stdout",
     "output_type": "stream",
     "text": [
      "PCA\n",
      "Found saved model from: Epoch 1000\n",
      "\n",
      "==================================================\n",
      "EPOCH 1000:\n",
      "\n",
      "TRAIN:\n",
      "Total Loss=67.43 Average Loss=1.02e-02\n",
      "[[  59  245]\n",
      " [  11 1797]]\n",
      "Accuracy = 0.879, MCC = 0.369\n",
      "------------------------------\n",
      "TEST:\n",
      "Total Loss=18.97 Average Loss=1.19e-02\n",
      "[[ 16  58]\n",
      " [  5 433]]\n",
      "Accuracy = 0.877, MCC = 0.363\n",
      "------------------------------\n",
      "\n",
      "best_epoch=1000; best_test_mcc=0.3631064299379335;\n",
      "==================================================\n",
      "\n",
      "\n",
      "\n",
      "\n",
      "\n",
      "\n",
      "GENERAL\n",
      "Found saved model from: Epoch 1000\n",
      "\n",
      "==================================================\n",
      "EPOCH 1000:\n",
      "\n",
      "TRAIN:\n",
      "Total Loss=58.26 Average Loss=8.83e-03\n",
      "[[  66  236]\n",
      " [  13 1797]]\n",
      "Accuracy = 0.882, MCC = 0.390\n",
      "------------------------------\n",
      "TEST:\n",
      "Total Loss=18.86 Average Loss=1.18e-02\n",
      "[[  8  66]\n",
      " [  3 435]]\n",
      "Accuracy = 0.865, MCC = 0.246\n",
      "------------------------------\n",
      "\n",
      "best_epoch=1000; best_test_mcc=0.24556725526110323;\n",
      "==================================================\n",
      "\n",
      "\n"
     ]
    },
    {
     "data": {
      "text/plain": [
       "{'train': {'loss': tensor(58.2634),\n",
       "  'cm': array([[  66,  236],\n",
       "         [  13, 1797]]),\n",
       "  'acc': 0.8821022727272727,\n",
       "  'mcc': 0.3899283534078383},\n",
       " 'test': {'loss': tensor(18.8640),\n",
       "  'cm': array([[  8,  66],\n",
       "         [  3, 435]]),\n",
       "  'acc': 0.865234375,\n",
       "  'mcc': 0.24556725526110323,\n",
       "  'best_mcc': 0.24556725526110323,\n",
       "  'best_epoch': 1000}}"
      ]
     },
     "execution_count": 158,
     "metadata": {},
     "output_type": "execute_result"
    }
   ],
   "source": [
    "print('PCA')\n",
    "pca_model.fit(train_loader, test_loader=test_loader)\n",
    "print('\\n\\n\\n')\n",
    "print('GENERAL')\n",
    "general_model.fit(train_loader, test_loader=test_loader)"
   ]
  },
  {
   "cell_type": "code",
   "execution_count": 159,
   "metadata": {},
   "outputs": [],
   "source": [
    "# load pretrained best models\n",
    "# pca_model.net_init()\n",
    "# pca_model.load_best()\n",
    "# general_model.net_init()\n",
    "# general_model.load_best()"
   ]
  },
  {
   "cell_type": "markdown",
   "metadata": {},
   "source": [
    "## Evaluation"
   ]
  },
  {
   "cell_type": "code",
   "execution_count": 160,
   "metadata": {
    "collapsed": false,
    "jupyter": {
     "outputs_hidden": false
    },
    "pycharm": {
     "name": "#%%\n"
    }
   },
   "outputs": [],
   "source": [
    "def model_evaluation(data_loader, data_name, figure_dir, figure_basename, title_basename):\n",
    "    figure_path = os.path.join(figure_dir, f'{figure_basename}_{data_name}.png')\n",
    "    roc_from_models(\n",
    "        {\n",
    "            pca_model.name.upper(): pca_model,\n",
    "            general_model.name.capitalize(): general_model,\n",
    "        },\n",
    "        {\n",
    "            pca_model.name.upper(): data_loader,\n",
    "            general_model.name.capitalize(): data_loader,\n",
    "        },\n",
    "        title=f\"{title_basename} ({data_name.capitalize()})\",\n",
    "        save_path=figure_path\n",
    "    )\n",
    "\n",
    "figure_dir = os.path.join(model_dir_abs, 'figures')\n",
    "figure_basename = 'memory_naive_roc'\n",
    "title_basename = 'Memory vs. Naive B-Cell Classification'"
   ]
  },
  {
   "cell_type": "markdown",
   "metadata": {},
   "source": [
    "### Train Eval"
   ]
  },
  {
   "cell_type": "code",
   "execution_count": 161,
   "metadata": {
    "collapsed": false,
    "jupyter": {
     "outputs_hidden": false
    },
    "pycharm": {
     "name": "#%%\n"
    }
   },
   "outputs": [
    {
     "name": "stdout",
     "output_type": "stream",
     "text": [
      "PCA:\n",
      "Total Loss=67.43 Average Loss=1.02e-02\n",
      "[[  59  245]\n",
      " [  11 1797]]\n",
      "Accuracy = 0.879, MCC = 0.369\n",
      "------------------------------\n",
      "General:\n",
      "Total Loss=58.46 Average Loss=8.86e-03\n",
      "[[  66  237]\n",
      " [  13 1796]]\n",
      "Accuracy = 0.882, MCC = 0.389\n",
      "------------------------------\n",
      "Saved to: /home/ec2-user/SageMaker/antibody-in-pytorch/AIPT/Models/Beshnova2020/figures/memory_naive_roc_train.png\n"
     ]
    },
    {
     "data": {
      "image/png": "[encoded data removed]",
      "text/plain": [
       "<Figure size 432x288 with 1 Axes>"
      ]
     },
     "metadata": {
      "needs_background": "light"
     },
     "output_type": "display_data"
    },
    {
     "data": {
      "text/plain": [
       "<Figure size 432x288 with 0 Axes>"
      ]
     },
     "metadata": {},
     "output_type": "display_data"
    }
   ],
   "source": [
    "model_evaluation(train_loader, 'train', figure_dir, figure_basename, title_basename)"
   ]
  },
  {
   "cell_type": "markdown",
   "metadata": {},
   "source": [
    "### Test Eval"
   ]
  },
  {
   "cell_type": "code",
   "execution_count": 162,
   "metadata": {
    "collapsed": false,
    "jupyter": {
     "outputs_hidden": false
    },
    "pycharm": {
     "name": "#%%\n"
    }
   },
   "outputs": [
    {
     "name": "stdout",
     "output_type": "stream",
     "text": [
      "PCA:\n",
      "Total Loss=18.97 Average Loss=1.19e-02\n",
      "[[ 16  58]\n",
      " [  5 433]]\n",
      "Accuracy = 0.877, MCC = 0.363\n",
      "------------------------------\n",
      "General:\n",
      "Total Loss=18.86 Average Loss=1.18e-02\n",
      "[[  8  66]\n",
      " [  3 435]]\n",
      "Accuracy = 0.865, MCC = 0.246\n",
      "------------------------------\n",
      "Saved to: /home/ec2-user/SageMaker/antibody-in-pytorch/AIPT/Models/Beshnova2020/figures/memory_naive_roc_test.png\n"
     ]
    },
    {
     "data": {
      "image/png": "[encoded data removed]",
      "text/plain": [
       "<Figure size 432x288 with 1 Axes>"
      ]
     },
     "metadata": {
      "needs_background": "light"
     },
     "output_type": "display_data"
    },
    {
     "data": {
      "text/plain": [
       "<Figure size 432x288 with 0 Axes>"
      ]
     },
     "metadata": {},
     "output_type": "display_data"
    }
   ],
   "source": [
    "model_evaluation(test_loader, 'test', figure_dir, figure_basename, title_basename)"
   ]
  },
  {
   "cell_type": "markdown",
   "metadata": {},
   "source": [
    "## The Effect of Length"
   ]
  },
  {
   "cell_type": "code",
   "execution_count": 163,
   "metadata": {},
   "outputs": [
    {
     "name": "stdout",
     "output_type": "stream",
     "text": [
      "\n"
     ]
    }
   ],
   "source": [
    "import os\n",
    "aipt_reload(AIPT.Utils.plotting)\n",
    "from AIPT.Utils.plotting import roc_from_models\n",
    "from AIPT.Models.Beshnova2020.data import seed_random\n",
    "\n",
    "def length_roc(para_dict, embedding_name, model_getter, len_range=range(12,17)):\n",
    "    models = {}\n",
    "    test_loaders = {}\n",
    "    length_dir = os.path.join(model_dir_abs, \"results\", \"length\")\n",
    "    for length in len_range:\n",
    "        print(f'Processing length {length} seqs...')\n",
    "        para_dict = para_dict.copy()\n",
    "        para_dict[\"seq_len\"] = length\n",
    "        data = load_data(index_df, seq_dir, cell_types, seq_len=length)\n",
    "        seed_random()\n",
    "        _, test_loader = get_train_test_loaders(data)\n",
    "        test_loaders[str(length)] = test_loader\n",
    "        model_weights_path = os.path.join(\n",
    "            length_dir, str(length), f\"{embedding_name}_100\", \"model\", \"best\"\n",
    "        )\n",
    "        para_dict = para_dict.copy()\n",
    "        para_dict['model_name'] = f'embedding_name_length'\n",
    "        model = model_getter(para_dict)\n",
    "        model.net_init()\n",
    "        model.load_state_dict(torch.load(model_weights_path))\n",
    "        models[str(length)] = model\n",
    "    save_path = os.path.join(length_dir, f\"{embedding_name}.png\")\n",
    "    roc_from_models(\n",
    "        models, test_loaders, title=f\"Effect of CDR3 Length\", save_path=save_path\n",
    "    )"
   ]
  },
  {
   "cell_type": "markdown",
   "metadata": {
    "pycharm": {
     "name": "#%% md\n"
    }
   },
   "source": [
    "### PCA"
   ]
  },
  {
   "cell_type": "code",
   "execution_count": 164,
   "metadata": {
    "collapsed": false,
    "jupyter": {
     "outputs_hidden": false
    },
    "pycharm": {
     "name": "#%%\n"
    }
   },
   "outputs": [
    {
     "name": "stdout",
     "output_type": "stream",
     "text": [
      "Processing length 12 seqs...\n",
      "Processing length 13 seqs...\n",
      "Processing length 14 seqs...\n",
      "Processing length 15 seqs...\n",
      "Processing length 16 seqs...\n",
      "12:\n",
      "Total Loss=6.40 Average Loss=4.00e-03\n",
      "[[ 78   3]\n",
      " [ 39 392]]\n",
      "Accuracy = 0.918, MCC = 0.758\n",
      "------------------------------\n",
      "13:\n",
      "Total Loss=8.14 Average Loss=5.43e-03\n",
      "[[ 76   3]\n",
      " [ 80 321]]\n",
      "Accuracy = 0.827, MCC = 0.604\n",
      "------------------------------\n",
      "14:\n",
      "Total Loss=10.37 Average Loss=5.76e-03\n",
      "[[ 77   9]\n",
      " [ 74 416]]\n",
      "Accuracy = 0.856, MCC = 0.603\n",
      "------------------------------\n",
      "15:\n",
      "Total Loss=8.28 Average Loss=5.17e-03\n",
      "[[114   8]\n",
      " [101 289]]\n",
      "Accuracy = 0.787, MCC = 0.583\n",
      "------------------------------\n",
      "16:\n",
      "Total Loss=10.93 Average Loss=9.94e-03\n",
      "[[ 66   0]\n",
      " [ 41 245]]\n",
      "Accuracy = 0.884, MCC = 0.727\n",
      "------------------------------\n",
      "Saved to: /home/ec2-user/SageMaker/antibody-in-pytorch/AIPT/Models/Beshnova2020/results/length/pca.png\n"
     ]
    },
    {
     "data": {
      "image/png": "[encoded data removed]",
      "text/plain": [
       "<Figure size 432x288 with 1 Axes>"
      ]
     },
     "metadata": {
      "needs_background": "light"
     },
     "output_type": "display_data"
    },
    {
     "data": {
      "text/plain": [
       "<Figure size 432x288 with 0 Axes>"
      ]
     },
     "metadata": {},
     "output_type": "display_data"
    }
   ],
   "source": [
    "length_roc(para_dict, 'pca', CNN.pca_model)"
   ]
  },
  {
   "cell_type": "markdown",
   "metadata": {
    "pycharm": {
     "name": "#%% md\n"
    }
   },
   "source": [
    "### General"
   ]
  },
  {
   "cell_type": "code",
   "execution_count": 165,
   "metadata": {
    "pycharm": {
     "name": "#%% md\n"
    }
   },
   "outputs": [
    {
     "name": "stdout",
     "output_type": "stream",
     "text": [
      "Processing length 12 seqs...\n",
      "Processing length 13 seqs...\n",
      "Processing length 14 seqs...\n",
      "Processing length 15 seqs...\n",
      "Processing length 16 seqs...\n",
      "12:\n",
      "Total Loss=5.70 Average Loss=3.56e-03\n",
      "[[ 75   6]\n",
      " [ 31 400]]\n",
      "Accuracy = 0.928, MCC = 0.769\n",
      "------------------------------\n",
      "13:\n",
      "Total Loss=6.99 Average Loss=4.66e-03\n",
      "[[ 76   3]\n",
      " [ 71 330]]\n",
      "Accuracy = 0.846, MCC = 0.631\n",
      "------------------------------\n",
      "14:\n",
      "Total Loss=9.83 Average Loss=5.46e-03\n",
      "[[ 81   5]\n",
      " [105 385]]\n",
      "Accuracy = 0.809, MCC = 0.555\n",
      "------------------------------\n",
      "15:\n",
      "Total Loss=8.47 Average Loss=5.30e-03\n",
      "[[114   8]\n",
      " [109 281]]\n",
      "Accuracy = 0.771, MCC = 0.563\n",
      "------------------------------\n",
      "16:\n",
      "Total Loss=11.01 Average Loss=1.00e-02\n",
      "[[ 66   0]\n",
      " [ 19 267]]\n",
      "Accuracy = 0.946, MCC = 0.851\n",
      "------------------------------\n",
      "Saved to: /home/ec2-user/SageMaker/antibody-in-pytorch/AIPT/Models/Beshnova2020/results/length/general.png\n"
     ]
    },
    {
     "data": {
      "image/png": "[encoded data removed]",
      "text/plain": [
       "<Figure size 432x288 with 1 Axes>"
      ]
     },
     "metadata": {
      "needs_background": "light"
     },
     "output_type": "display_data"
    },
    {
     "data": {
      "text/plain": [
       "<Figure size 432x288 with 0 Axes>"
      ]
     },
     "metadata": {},
     "output_type": "display_data"
    }
   ],
   "source": [
    "length_roc(para_dict, 'general', CNN.general_model)"
   ]
  },
  {
   "cell_type": "markdown",
   "metadata": {},
   "source": [
    "## Test on DeepCAT dataset"
   ]
  },
  {
   "cell_type": "code",
   "execution_count": 166,
   "metadata": {},
   "outputs": [
    {
     "name": "stdout",
     "output_type": "stream",
     "text": [
      "\n",
      "File: /home/ec2-user/SageMaker/.persisted_conda/aipt/lib/python3.6/site-packages/AIPT-0.0.1-py3.6.egg/AIPT/Models/Beshnova2020/CNN.py \n",
      " Last modified: 2020-11-11 11:39:09 UTC\n",
      "\n",
      "\n"
     ]
    }
   ],
   "source": [
    "aipt_reload(AIPT.Models.Beshnova2020.CNN)\n",
    "aipt_reload(AIPT.Utils.logging)\n",
    "aipt_reload(AIPT.Utils.plotting)\n",
    "from AIPT.Models.Beshnova2020.CNN import CNN\n",
    "from AIPT.Models.Beshnova2020.data import get_data_loader\n",
    "import AIPT.Models.Beshnova2020.pca_embedding as pca_embedding\n",
    "from AIPT.Utils.logging import today, current_time\n",
    "from AIPT.Utils.plotting import plot_roc_curves"
   ]
  },
  {
   "cell_type": "code",
   "execution_count": 167,
   "metadata": {},
   "outputs": [],
   "source": [
    "log_root_dir = 's3://gv20interns/roger/logs/tensorboard'\n",
    "run_name = 'deepcat_test'\n",
    "timezone = 'EST'\n",
    "\n",
    "para_dict = {\n",
    "#     'seq_len': 12,\n",
    "    'embedding_dim': 15, # paper uses dim 15 PCA features\n",
    "#     'epoch': 1000,\n",
    "    'classes': ['normal', 'tumor'],\n",
    "    'learning_rate': 10**-3,\n",
    "    'run_name': run_name,\n",
    "    'log_dir': os.path.join(log_root_dir, today(tz=timezone), run_name, current_time(tz=timezone)),\n",
    "    'work_path': os.path.join(model_dir_abs, 'work/DeepCAT')\n",
    "}\n",
    "\n"
   ]
  },
  {
   "cell_type": "code",
   "execution_count": 168,
   "metadata": {
    "collapsed": false,
    "jupyter": {
     "outputs_hidden": false
    },
    "pycharm": {
     "name": "#%%\n"
    }
   },
   "outputs": [],
   "source": [
    "import pandas as pd\n",
    "\n",
    "# data is copied from https://github.com/s175573/DeepCAT/tree/master/TrainingData\n",
    "data_dir = os.path.join(model_dir_abs, 'data')\n",
    "fnormal = os.path.join(data_dir, 'NormalCDR3.txt')\n",
    "ftumor = os.path.join(data_dir, 'TumorCDR3.txt')\n",
    "\n",
    "def load_deepcat_data(ftumor, fnormal, seq_len = 12):\n",
    "    # copied from https://github.com/s175573/DeepCAT/blob/master/DeepCAT.py\n",
    "    tumorCDR3s=[]\n",
    "    g=open(ftumor)\n",
    "    for ll in g.readlines():\n",
    "        rr=ll.strip()\n",
    "        if not rr.startswith('C') or not rr.endswith('F'):\n",
    "            print(\"Non-standard CDR3s. Skipping.\")\n",
    "            continue\n",
    "        if len(rr) != seq_len:\n",
    "            continue\n",
    "        tumorCDR3s.append(rr)\n",
    "    normalCDR3s=[]\n",
    "    g=open(fnormal)\n",
    "    for ll in g.readlines():\n",
    "        rr=ll.strip()\n",
    "        if not rr.startswith('C') or not rr.endswith('F'):\n",
    "            print(\"Non-standard CDR3s. Skipping.\")\n",
    "            continue\n",
    "        if len(rr) != seq_len:\n",
    "            continue\n",
    "        normalCDR3s.append(rr)\n",
    "        \n",
    "    normal_df = pd.DataFrame(normalCDR3s)\n",
    "    normal_df.columns = ['CDR3_aa']\n",
    "    normal_df['label'] = 0\n",
    "\n",
    "    tumor_df = pd.DataFrame(tumorCDR3s)\n",
    "    tumor_df.columns = ['CDR3_aa']\n",
    "    tumor_df['label'] = 1\n",
    "\n",
    "    data_df = pd.concat([normal_df, tumor_df])\n",
    "    return data_df\n",
    "    "
   ]
  },
  {
   "cell_type": "code",
   "execution_count": 169,
   "metadata": {},
   "outputs": [
    {
     "name": "stdout",
     "output_type": "stream",
     "text": [
      "           CDR3_aa  label\n",
      "0     CASSLAVGGYTF      0\n",
      "1     CASSSRGETQYF      0\n",
      "2     CASSRTAGELFF      0\n",
      "3     CASSLAVETQYF      0\n",
      "4     CASSIIGNEQYF      0\n",
      "...            ...    ...\n",
      "2901  CASSSGDSRYTF      1\n",
      "2902  CSAGAGGDEQYF      1\n",
      "2903  CATVSSAGELFF      1\n",
      "2904  CSVATGEYEQYF      1\n",
      "2905  CASRGATETQYF      1\n",
      "\n",
      "[7379 rows x 2 columns]\n",
      "Found saved model from: Epoch 170\n",
      "\n",
      "==================================================\n",
      "EPOCH 170:\n",
      "\n",
      "TRAIN:\n",
      "Total Loss=69.51 Average Loss=1.51e-02\n",
      "[[4270  195]\n",
      " [ 737 2158]]\n",
      "Accuracy = 0.873, MCC = 0.735\n",
      "------------------------------\n",
      "==================================================\n",
      "\n",
      "\n",
      "            CDR3_aa  label\n",
      "0     CASSLKPNTEAFF      0\n",
      "1     CASSPRPNTEAFF      0\n",
      "2     CASSLDMNYGYTF      0\n",
      "3     CASSFTGGETQYF      0\n",
      "4     CASSGGGPTEAFF      0\n",
      "...             ...    ...\n",
      "5862  CASSRFAAEKLFF      1\n",
      "5863  CASSTGVYQPQHF      1\n",
      "5864  CASTKGGANEQFF      1\n",
      "5865  CASSTGPLYGYTF      1\n",
      "5866  CASSLGGYREQYF      1\n",
      "\n",
      "[14953 rows x 2 columns]\n",
      "Found saved model from: Epoch 80\n",
      "\n",
      "==================================================\n",
      "EPOCH 80:\n",
      "\n",
      "TRAIN:\n",
      "Total Loss=163.51 Average Loss=1.75e-02\n",
      "[[8216  863]\n",
      " [1466 4399]]\n",
      "Accuracy = 0.844, MCC = 0.670\n",
      "------------------------------\n",
      "==================================================\n",
      "\n",
      "\n",
      "             CDR3_aa  label\n",
      "0     CASSAHIANYGYTF      0\n",
      "1     CASTLAGVEETQYF      0\n",
      "2     CASSRDGPSYEQYF      0\n",
      "3     CASSWRQGHTEAFF      0\n",
      "4     CASSTGGSNTEAFF      0\n",
      "...              ...    ...\n",
      "7253  CSVTSGTGDYGYTF      1\n",
      "7254  CASNPGTSKETQYF      1\n",
      "7255  CASSYDRGPYEQHF      1\n",
      "7256  CATSRDLEISPQHF      1\n",
      "7257  CASSSMGGSDEQYF      1\n",
      "\n",
      "[19451 rows x 2 columns]\n",
      "Found saved model from: Epoch 60\n",
      "\n",
      "==================================================\n",
      "EPOCH 60:\n",
      "\n",
      "TRAIN:\n",
      "Total Loss=250.20 Average Loss=2.06e-02\n",
      "[[11210   964]\n",
      " [ 2703  4547]]\n",
      "Accuracy = 0.811, MCC = 0.588\n",
      "------------------------------\n",
      "==================================================\n",
      "\n",
      "\n",
      "              CDR3_aa  label\n",
      "0     CASSQTSGSYNEQFF      0\n",
      "1     CASSQVGGSGNTIYF      0\n",
      "2     CASSSLGDSGNTIYF      0\n",
      "3     CASSEVGQGAYEQYF      0\n",
      "4     CASSSGAGGPETQYF      0\n",
      "...               ...    ...\n",
      "7137  CASSEDSPGANVLTF      1\n",
      "7138  CASSQEGGPGNEQFF      1\n",
      "7139  CASSMDRGQTYGYTF      1\n",
      "7140  CASSSPFKGQRELFF      1\n",
      "7141  CASSLKFDDYQPQHF      1\n",
      "\n",
      "[16393 rows x 2 columns]\n",
      "Found saved model from: Epoch 70\n",
      "\n",
      "==================================================\n",
      "EPOCH 70:\n",
      "\n",
      "TRAIN:\n",
      "Total Loss=212.51 Average Loss=2.08e-02\n",
      "[[8148 1100]\n",
      " [1872 5264]]\n",
      "Accuracy = 0.819, MCC = 0.629\n",
      "------------------------------\n",
      "==================================================\n",
      "\n",
      "\n",
      "               CDR3_aa  label\n",
      "0     CASSQDPGVGANVLTF      0\n",
      "1     CASSILTGMNTGELFF      0\n",
      "2     CASSQEGTGQAYEQYF      0\n",
      "3     CASSYSGLAGGETQYF      0\n",
      "4     CASSDGSAGDTGELFF      0\n",
      "...                ...    ...\n",
      "3959  CASSPIGATGANIQYF      1\n",
      "3960  CASSQVPWDKNTEAFF      1\n",
      "3961  CASSQESTGIWNEQFF      1\n",
      "3962  CASSLGTSGISDEQYF      1\n",
      "3963  CASSRGDRGITDTQYF      1\n",
      "\n",
      "[7048 rows x 2 columns]\n",
      "Found saved model from: Epoch 180\n",
      "\n",
      "==================================================\n",
      "EPOCH 180:\n",
      "\n",
      "TRAIN:\n",
      "Total Loss=60.26 Average Loss=1.37e-02\n",
      "[[2818  263]\n",
      " [ 527 3432]]\n",
      "Accuracy = 0.888, MCC = 0.776\n",
      "------------------------------\n",
      "==================================================\n",
      "\n",
      "\n"
     ]
    }
   ],
   "source": [
    "seq_lengths = range(12, 17)\n",
    "accs = {}\n",
    "for seq_length in seq_lengths:\n",
    "    \n",
    "    dc_para_dict = para_dict.copy()\n",
    "    dc_para_dict['seq_len'] = seq_length\n",
    "    \n",
    "    data_df = load_deepcat_data(ftumor, fnormal, seq_len=seq_length)\n",
    "    print(data_df)\n",
    "    dc_train_loader = get_data_loader(data_df)\n",
    "    \n",
    "    num_batches = len(dc_train_loader)\n",
    "    dc_steps = 40000\n",
    "    dc_para_dict['epoch'] = dc_steps//num_batches\n",
    "    dc_para_dict['model_name'] = f'deepcat_torch_seqlen{seq_length}'\n",
    "    dc_model = CNN.pca_model(dc_para_dict)\n",
    "    \n",
    "    results = dc_model.fit(dc_train_loader)\n",
    "    accs[seq_length] = results['train']['acc']"
   ]
  },
  {
   "cell_type": "code",
   "execution_count": 170,
   "metadata": {},
   "outputs": [
    {
     "name": "stdout",
     "output_type": "stream",
     "text": [
      "{12: 0.8733695652173913, 13: 0.8441514989293362, 14: 0.8112129324546952, 15: 0.818603515625, 16: 0.8877840909090909}\n"
     ]
    }
   ],
   "source": [
    "print(accs)"
   ]
  },
  {
   "cell_type": "code",
   "execution_count": 171,
   "metadata": {},
   "outputs": [
    {
     "name": "stdout",
     "output_type": "stream",
     "text": [
      "   Unnamed: 0  seq_len       acc   Framework\n",
      "0           0       12  0.914266     PyTorch\n",
      "1           1       13  0.853854     PyTorch\n",
      "2           2       14  0.825062     PyTorch\n",
      "3           3       15  0.832214     PyTorch\n",
      "4           4       16  0.940199     PyTorch\n",
      "5           0       12  0.861046  TensorFlow\n",
      "6           1       13  0.830846  TensorFlow\n",
      "7           2       14  0.786519  TensorFlow\n",
      "8           3       15  0.828754  TensorFlow\n",
      "9           4       16  0.852309  TensorFlow\n"
     ]
    },
    {
     "data": {
      "image/png": "[encoded data removed]",
      "text/plain": [
       "<Figure size 432x288 with 1 Axes>"
      ]
     },
     "metadata": {
      "needs_background": "light"
     },
     "output_type": "display_data"
    }
   ],
   "source": [
    "import pandas as pd\n",
    "import seaborn as sns\n",
    "\n",
    "pt_results = accs\n",
    "tf_results = {\n",
    "    12: 0.8610463741917541,\n",
    "    13: 0.8308455045175356,\n",
    "    14: 0.7865194836315643,\n",
    "    15: 0.82875444017,\n",
    "    16: 0.85230856924342,\n",
    "}\n",
    "def get_results_df(results_dict, framework):\n",
    "    lengths = results_dict.keys()\n",
    "    accs = results_dict.values()\n",
    "    df = pd.DataFrame.from_dict({'seq_len': lengths, 'acc': accs})\n",
    "    df['Framework'] = framework\n",
    "    return df\n",
    "\n",
    "\n",
    "df_path = os.path.join(model_dir_abs, 'comparison.csv')\n",
    "if os.path.isfile(df_path):\n",
    "    df = pd.read_csv(df_path)\n",
    "else:\n",
    "    pt_df = get_results_df(pt_results, framework='PyTorch')\n",
    "    tf_df = get_results_df(tf_results, framework='TensorFlow')\n",
    "    df = pd.concat([pt_df, tf_df])\n",
    "    df.to_csv(df_path)\n",
    "print(df)\n",
    "\n",
    "sns.color_palette('bright')\n",
    "fig = sns.barplot(data=df, x='seq_len', y='acc', hue='Framework')\n",
    "fig.set(xlabel='Sequence Length', ylabel='Accuracy', title='DeepCAT Reimplementation Accuracies')\n",
    "fig_path = os.path.join(model_dir_abs, 'comparision.png')\n",
    "fig.figure.savefig(fig_path, dpi=300)"
   ]
  }
 ],
 "metadata": {
  "kernelspec": {
   "display_name": "SSH ec2-user@0.tcp.ngrok.io:10507 roger-aipt2-2020-10-25-1603693660",
   "language": "python",
   "name": "rik_ssh_ec2_user_0_tcp_ngrok_io_10507_rogeraipt2202010251603693660"
  },
  "language_info": {
   "codemirror_mode": {
    "name": "ipython",
    "version": 3
   },
   "file_extension": ".py",
   "mimetype": "text/x-python",
   "name": "python",
   "nbconvert_exporter": "python",
   "pygments_lexer": "ipython3",
   "version": "3.6.11"
  },
  "pycharm": {
   "stem_cell": {
    "cell_type": "raw",
    "metadata": {
     "collapsed": false
    },
    "source": []
   }
  }
 },
 "nbformat": 4,
 "nbformat_minor": 4
}
