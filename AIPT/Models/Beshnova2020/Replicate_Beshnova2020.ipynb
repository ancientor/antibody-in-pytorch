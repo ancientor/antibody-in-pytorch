{
 "cells": [
  {
   "cell_type": "code",
   "execution_count": 2,
   "metadata": {},
   "outputs": [
    {
     "data": {
      "text/plain": [
       "'arn:aws:iam::203378532510:role/service-role/AmazonSageMaker-ExecutionRole-Interns'"
      ]
     },
     "execution_count": 2,
     "metadata": {},
     "output_type": "execute_result"
    }
   ],
   "source": [
    "import sagemaker\n",
    "sagemaker.get_execution_role()"
   ]
  },
  {
   "cell_type": "code",
   "execution_count": 3,
   "metadata": {
    "collapsed": false,
    "jupyter": {
     "outputs_hidden": false
    },
    "pycharm": {
     "name": "#%%\n"
    }
   },
   "outputs": [
    {
     "name": "stdout",
     "output_type": "stream",
     "text": [
      "File: /home/ec2-user/SageMaker/.persisted_conda/aipt/lib/python3.6/site-packages/AIPT-0.0.1-py3.6.egg/AIPT/Models/Beshnova2020/CNN.py \n",
      " Last modified: 2020-11-08 15:57:34 UTC\n",
      "current working directory:\n"
     ]
    },
    {
     "data": {
      "text/plain": [
       "'/home/ec2-user/SageMaker/antibody-in-pytorch'"
      ]
     },
     "execution_count": 3,
     "metadata": {},
     "output_type": "execute_result"
    }
   ],
   "source": [
    "import json\n",
    "import os\n",
    "import pickle as pkl\n",
    "import sys\n",
    "import warnings\n",
    "\n",
    "import matplotlib.pyplot as plt\n",
    "import numpy as np\n",
    "import torch\n",
    "import torch.nn as nn\n",
    "import torch.optim as optim\n",
    "\n",
    "warnings.filterwarnings(\"ignore\")\n",
    "\n",
    "import AIPT.Models.Beshnova2020.CNN\n",
    "import AIPT.Utils.logging\n",
    "import AIPT.Utils.plotting\n",
    "\n",
    "import AIPT.Utils.Dev.dev_utils as dev_utils\n",
    "\n",
    "aipt_path = '/home/ec2-user/SageMaker/antibody-in-pytorch/'\n",
    "aipt_reload = dev_utils.get_aipt_reload_fn(aipt_path)\n",
    "\n",
    "os.chdir(aipt_path)\n",
    "print(\"current working directory:\")\n",
    "%pwd"
   ]
  },
  {
   "cell_type": "code",
   "execution_count": 4,
   "metadata": {
    "collapsed": false,
    "jupyter": {
     "outputs_hidden": false
    },
    "pycharm": {
     "name": "#%%\n"
    }
   },
   "outputs": [
    {
     "name": "stdout",
     "output_type": "stream",
     "text": [
      "Benchmarks\t__init__.py  Models\t  Utils\n",
      "entry_point.py\t__main__.py  __pycache__\n"
     ]
    }
   ],
   "source": [
    "'''\n",
    "set up paths\n",
    "'''\n",
    "\n",
    "aipt_dir = '/home/ec2-user/SageMaker/antibody-in-pytorch/AIPT' # replace with your own aipt path\n",
    "# print(\"\\t\".join(os.listdir(aipt_dir)))\n",
    "!ls {aipt_dir}"
   ]
  },
  {
   "cell_type": "code",
   "execution_count": 5,
   "metadata": {},
   "outputs": [],
   "source": [
    "SEQ_LENGTH = 12\n",
    "toy = False"
   ]
  },
  {
   "cell_type": "markdown",
   "metadata": {
    "pycharm": {
     "name": "#%% md\n"
    }
   },
   "source": [
    "## Data Processing"
   ]
  },
  {
   "cell_type": "code",
   "execution_count": 6,
   "metadata": {
    "collapsed": false,
    "jupyter": {
     "outputs_hidden": false
    },
    "pycharm": {
     "name": "#%%\n"
    }
   },
   "outputs": [],
   "source": [
    "# todo: pca"
   ]
  },
  {
   "cell_type": "code",
   "execution_count": 7,
   "metadata": {
    "collapsed": false,
    "jupyter": {
     "outputs_hidden": false
    },
    "pycharm": {
     "name": "#%%\n"
    }
   },
   "outputs": [],
   "source": [
    "from AIPT.Benchmarks.OAS_dataset import OAS_data_loader as oas"
   ]
  },
  {
   "cell_type": "code",
   "execution_count": 8,
   "metadata": {
    "collapsed": false,
    "jupyter": {
     "outputs_hidden": false
    },
    "pycharm": {
     "name": "#%%\n"
    }
   },
   "outputs": [],
   "source": [
    "import pandas as pd\n",
    "\n",
    "seq_dir = os.path.join(aipt_dir, \"Benchmarks/OAS_dataset/data/seq_db\")\n",
    "model_dir = 'AIPT/Models/Beshnova2020'\n",
    "model_dir_abs = os.path.join(aipt_path, model_dir)\n",
    "# %cd {model_dir_abs}\n",
    "index_fn = \"OAS_index_large.txt\"\n",
    "index_path = os.path.join(aipt_path, model_dir, index_fn)\n",
    "full_index_path = os.path.join(aipt_path, 'AIPT', 'Benchmarks', 'OAS_dataset', 'data', 'OAS_meta_info.txt')\n",
    "toy_index_path = os.path.join(model_dir_abs, 'OAS_index_small.txt')\n",
    "input_seq_type = \"CDR3\"\n",
    "output_field = \"BType\"\n",
    "cell_types = [\n",
    "    \"Naive-B-Cells\",\n",
    "    \"Memory-B-Cells\",\n",
    "]  # todo: this is confusing - doesn't refer to \"Species\"\n",
    "\n",
    "def index_filter(row):\n",
    "    return row['BType'] in cell_types and row['Species'] == 'human'\n",
    "\n",
    "index_path_to_read = toy_index_path if toy else full_index_path\n",
    "\n",
    "index_df = pd.read_csv(index_path_to_read, sep='\\t')\n",
    "index_df_filtered = index_df[index_df.apply(index_filter, axis=1)]\n",
    "index_df_filtered.to_csv(index_path, sep='\\t')\n",
    "\n",
    "\n",
    "# train_loader, train_eval_loader, test_eval_loader, seq_len = oas.OAS_data_loader(\n",
    "#     index_path,\n",
    "#     output_field,\n",
    "#     input_seq_type,\n",
    "#     cell_types,\n",
    "#     seq_dir=seq_dir,\n",
    "#     gapped=True,\n",
    "#     pad=False,\n",
    "#     batch_size=SEQ_LENGTH,\n",
    "#     model_name=\"Beshnova2020\",\n",
    "# )"
   ]
  },
  {
   "cell_type": "code",
   "execution_count": 9,
   "metadata": {
    "collapsed": false,
    "jupyter": {
     "outputs_hidden": false
    },
    "pycharm": {
     "name": "#%%\n"
    }
   },
   "outputs": [
    {
     "data": {
      "text/plain": [
       "0      Bonsignori_2016_Hiv_infected_week-264_Bulk_HIV...\n",
       "1      Bonsignori_2016_Hiv_infected_week-264_Bulk_HIV...\n",
       "2      Bonsignori_2016_Hiv_infected_week-323_Bulk_HIV...\n",
       "3      Bonsignori_2016_Hiv_infected_week-323_Bulk_HIV...\n",
       "4      Bonsignori_2016_Hiv_infected_week-323_Bulk_HIV...\n",
       "                             ...                        \n",
       "764    Vander_Heiden_2017_Light_MK04_MK04_Naive_Bcell...\n",
       "765    Vander_Heiden_2017_Light_MK05_MK05_Memory_Bcel...\n",
       "766    Vander_Heiden_2017_Light_MK05_MK05_Naive_Bcell...\n",
       "767    Vander_Heiden_2017_Light_MK08_MK08_Memory_Bcel...\n",
       "768    Vander_Heiden_2017_Light_MK08_MK08_Naive_Bcell...\n",
       "Name: file_name, Length: 769, dtype: object"
      ]
     },
     "execution_count": 9,
     "metadata": {},
     "output_type": "execute_result"
    }
   ],
   "source": [
    "import pandas as pd\n",
    "index_df = pd.read_csv(index_path, sep=\"\\t\")\n",
    "\n",
    "file_names = index_df['file_name']\n",
    "file_names"
   ]
  },
  {
   "cell_type": "code",
   "execution_count": 10,
   "metadata": {},
   "outputs": [],
   "source": [
    "import subprocess as sp\n",
    "download_data = False\n",
    "if download_data:\n",
    "    s3_seq_uri = 's3://gv20interns/OAS_dataset/'\n",
    "    for fn in file_names:\n",
    "        print(fn)\n",
    "        sp.run(['aws', 's3', 'cp', os.path.join(s3_seq_uri, f'{fn}.txt'), seq_dir])"
   ]
  },
  {
   "cell_type": "code",
   "execution_count": 11,
   "metadata": {},
   "outputs": [],
   "source": [
    "from sklearn.model_selection import train_test_split\n",
    "\n",
    "\n",
    "def df_len_fn(row):\n",
    "    try:\n",
    "        return len(row['CDR3_aa'])\n",
    "    except:\n",
    "        return -1\n",
    "\n",
    "toy = False\n",
    "toy_rows = 20\n"
   ]
  },
  {
   "cell_type": "code",
   "execution_count": 12,
   "metadata": {
    "collapsed": false,
    "jupyter": {
     "outputs_hidden": false
    },
    "pycharm": {
     "name": "#%%\n"
    }
   },
   "outputs": [],
   "source": [
    "from AIPT.Benchmarks.OAS_dataset import OAS_data_loader\n",
    "from torch.utils.data import DataLoader, WeightedRandomSampler, TensorDataset\n",
    "\n",
    "np.random.seed(0)\n",
    "torch.manual_seed(0)\n",
    "\n",
    "# train_data = data[['CDR3_aa', 'label']]\n",
    "# seq_encodings = OAS_data_loader.encode_index(data=train_data['CDR3_aa'])\n",
    "# btypes = train_data['label'].values\n",
    "# train_loader = torch.utils.data.DataLoader(list(zip(seq_encodings, btypes)), shuffle=True, batch_size=32)\n",
    "\n",
    "def get_balanced_data_loader(data, batch_size=32):\n",
    "    # useful example: https://discuss.pytorch.org/t/some-problems-with-weightedrandomsampler/23242/20\n",
    "    # Compute samples weight (each sample should get its own weight)\n",
    "    label = torch.Tensor(data['label'].values).type(torch.int8)\n",
    "    class_sample_count = torch.tensor(\n",
    "        [(label == t).sum() for t in torch.unique(label, sorted=True)])\n",
    "    weight = 1. / class_sample_count.float()\n",
    "    samples_weight = torch.tensor([weight[t] for t in label])\n",
    "\n",
    "    # Create sampler, dataset, loader\n",
    "    sampler = WeightedRandomSampler(samples_weight, len(samples_weight))\n",
    "    seq_encodings = OAS_data_loader.encode_index(data=data['CDR3_aa'])\n",
    "#     dataset = TensorDataset(torch.Tensor(seq_encodings), label)\n",
    "    btypes = data['label'].values\n",
    "    dataset = list(zip(seq_encodings, btypes))\n",
    "    loader = DataLoader(\n",
    "        dataset, batch_size=batch_size, sampler=sampler, drop_last=True)\n",
    "    return loader\n",
    "\n",
    "def get_data_loader(data, batch_size=32, shuffle=True):\n",
    "    seq_encodings = OAS_data_loader.encode_index(data=data['CDR3_aa'])\n",
    "    btypes = data['label'].values\n",
    "    loader = DataLoader(list(zip(seq_encodings, btypes)), shuffle=shuffle, batch_size=batch_size, drop_last=True)\n",
    "    return loader\n",
    "\n",
    "def load_data(index_df, seq_len=SEQ_LENGTH):\n",
    "    data_dfs = []\n",
    "    for index, row in index_df.iterrows():\n",
    "        if toy and index > toy_rows:\n",
    "            break\n",
    "        file_name = row['file_name']\n",
    "        df = pd.read_csv(os.path.join(seq_dir, f'{file_name}.txt'), sep='\\t')\n",
    "        length_df = df.apply(df_len_fn, axis=1)\n",
    "        data_df = df[length_df == seq_len]\n",
    "        data_df['BType'] = row['BType']\n",
    "        data_df = data_df[['CDR3_aa', 'BType']]\n",
    "        data_dfs.append(data_df)\n",
    "\n",
    "    data = pd.concat(data_dfs)\n",
    "    data['label'] = data.apply(lambda row: cell_types.index(row['BType']), axis=1)\n",
    "    \n",
    "    return data\n",
    "\n",
    "def get_train_test_loaders(data, train_size=0.8): \n",
    "    train_data, test_data = train_test_split(data, train_size=train_size)\n",
    "    # train_loader = get_balanced_data_loader(train_data)\n",
    "    train_loader = get_data_loader(train_data)\n",
    "    test_loader = get_data_loader(test_data, shuffle=False)\n",
    "    \n",
    "    return train_loader, test_loader\n",
    "\n",
    "data = load_data(index_df)\n",
    "train_loader, test_loader = get_train_test_loaders(data)"
   ]
  },
  {
   "cell_type": "code",
   "execution_count": 13,
   "metadata": {},
   "outputs": [
    {
     "data": {
      "text/html": [
       "<div>\n",
       "<style scoped>\n",
       "    .dataframe tbody tr th:only-of-type {\n",
       "        vertical-align: middle;\n",
       "    }\n",
       "\n",
       "    .dataframe tbody tr th {\n",
       "        vertical-align: top;\n",
       "    }\n",
       "\n",
       "    .dataframe thead th {\n",
       "        text-align: right;\n",
       "    }\n",
       "</style>\n",
       "<table border=\"1\" class=\"dataframe\">\n",
       "  <thead>\n",
       "    <tr style=\"text-align: right;\">\n",
       "      <th></th>\n",
       "      <th>CDR3_aa</th>\n",
       "      <th>BType</th>\n",
       "      <th>label</th>\n",
       "    </tr>\n",
       "  </thead>\n",
       "  <tbody>\n",
       "    <tr>\n",
       "      <th>8</th>\n",
       "      <td>VRVKWEQEDFDF</td>\n",
       "      <td>Memory-B-Cells</td>\n",
       "      <td>1</td>\n",
       "    </tr>\n",
       "    <tr>\n",
       "      <th>9</th>\n",
       "      <td>ASGGYSYGLFDY</td>\n",
       "      <td>Memory-B-Cells</td>\n",
       "      <td>1</td>\n",
       "    </tr>\n",
       "    <tr>\n",
       "      <th>25</th>\n",
       "      <td>TRDPGWGNPVDY</td>\n",
       "      <td>Memory-B-Cells</td>\n",
       "      <td>1</td>\n",
       "    </tr>\n",
       "    <tr>\n",
       "      <th>27</th>\n",
       "      <td>ARRRTWPTPFDY</td>\n",
       "      <td>Memory-B-Cells</td>\n",
       "      <td>1</td>\n",
       "    </tr>\n",
       "    <tr>\n",
       "      <th>74</th>\n",
       "      <td>ARSHSSSWYFDY</td>\n",
       "      <td>Memory-B-Cells</td>\n",
       "      <td>1</td>\n",
       "    </tr>\n",
       "    <tr>\n",
       "      <th>...</th>\n",
       "      <td>...</td>\n",
       "      <td>...</td>\n",
       "      <td>...</td>\n",
       "    </tr>\n",
       "    <tr>\n",
       "      <th>4400</th>\n",
       "      <td>SSYAGSNNFDVV</td>\n",
       "      <td>Naive-B-Cells</td>\n",
       "      <td>0</td>\n",
       "    </tr>\n",
       "    <tr>\n",
       "      <th>4443</th>\n",
       "      <td>AAWDDSLNGFAV</td>\n",
       "      <td>Naive-B-Cells</td>\n",
       "      <td>0</td>\n",
       "    </tr>\n",
       "    <tr>\n",
       "      <th>4457</th>\n",
       "      <td>CSYAGSSTSLYV</td>\n",
       "      <td>Naive-B-Cells</td>\n",
       "      <td>0</td>\n",
       "    </tr>\n",
       "    <tr>\n",
       "      <th>4458</th>\n",
       "      <td>QSHDSSLSGDVV</td>\n",
       "      <td>Naive-B-Cells</td>\n",
       "      <td>0</td>\n",
       "    </tr>\n",
       "    <tr>\n",
       "      <th>4463</th>\n",
       "      <td>QVWDSSSDRPWV</td>\n",
       "      <td>Naive-B-Cells</td>\n",
       "      <td>0</td>\n",
       "    </tr>\n",
       "  </tbody>\n",
       "</table>\n",
       "<p>133868 rows × 3 columns</p>\n",
       "</div>"
      ],
      "text/plain": [
       "           CDR3_aa           BType  label\n",
       "8     VRVKWEQEDFDF  Memory-B-Cells      1\n",
       "9     ASGGYSYGLFDY  Memory-B-Cells      1\n",
       "25    TRDPGWGNPVDY  Memory-B-Cells      1\n",
       "27    ARRRTWPTPFDY  Memory-B-Cells      1\n",
       "74    ARSHSSSWYFDY  Memory-B-Cells      1\n",
       "...            ...             ...    ...\n",
       "4400  SSYAGSNNFDVV   Naive-B-Cells      0\n",
       "4443  AAWDDSLNGFAV   Naive-B-Cells      0\n",
       "4457  CSYAGSSTSLYV   Naive-B-Cells      0\n",
       "4458  QSHDSSLSGDVV   Naive-B-Cells      0\n",
       "4463  QVWDSSSDRPWV   Naive-B-Cells      0\n",
       "\n",
       "[133868 rows x 3 columns]"
      ]
     },
     "execution_count": 13,
     "metadata": {},
     "output_type": "execute_result"
    }
   ],
   "source": [
    "data"
   ]
  },
  {
   "cell_type": "markdown",
   "metadata": {},
   "source": [
    "## Load Model"
   ]
  },
  {
   "cell_type": "code",
   "execution_count": 14,
   "metadata": {
    "collapsed": false,
    "jupyter": {
     "outputs_hidden": false
    },
    "pycharm": {
     "name": "#%%\n"
    }
   },
   "outputs": [
    {
     "name": "stdout",
     "output_type": "stream",
     "text": [
      "\n",
      "File: /home/ec2-user/SageMaker/.persisted_conda/aipt/lib/python3.6/site-packages/AIPT-0.0.1-py3.6.egg/AIPT/Models/Beshnova2020/CNN.py \n",
      " Last modified: 2020-11-09 07:46:58 UTC\n",
      "\n",
      "\n",
      "File: /home/ec2-user/SageMaker/.persisted_conda/aipt/lib/python3.6/site-packages/AIPT-0.0.1-py3.6.egg/AIPT/Models/Beshnova2020/pca_embedding.py \n",
      " Last modified: 2020-11-09 07:47:01 UTC\n"
     ]
    }
   ],
   "source": [
    "aipt_reload(AIPT.Models.Beshnova2020.CNN)\n",
    "aipt_reload(AIPT.Utils.logging)\n",
    "aipt_reload(AIPT.Utils.plotting)\n",
    "from AIPT.Models.Beshnova2020.CNN import CNN\n",
    "import AIPT.Models.Beshnova2020.pca_embedding as pca_embedding\n",
    "from AIPT.Utils.logging import today, current_time\n",
    "from AIPT.Utils.plotting import plot_roc_curves"
   ]
  },
  {
   "cell_type": "code",
   "execution_count": 15,
   "metadata": {
    "collapsed": false,
    "jupyter": {
     "outputs_hidden": false
    },
    "pycharm": {
     "name": "#%%\n"
    }
   },
   "outputs": [
    {
     "name": "stdout",
     "output_type": "stream",
     "text": [
      "LOG DIR: s3://gv20interns/roger/logs/tensorboard/2020-11-09/plots/02.47.02\n"
     ]
    }
   ],
   "source": [
    "import os\n",
    "\n",
    "# log_root_dir = '/home/ec2-user/SageMaker/logs/tensorboard'\n",
    "log_root_dir = 's3://gv20interns/roger/logs/tensorboard'\n",
    "run_name = 'plots'\n",
    "timezone = 'EST'\n",
    "\n",
    "# para_dict = {\n",
    "#     'seq_len': SEQ_LENGTH,\n",
    "#     'embedding_dim': 15, # paper uses dim 15 PCA features\n",
    "#     'epoch': 300,\n",
    "#     'classes': cell_types,\n",
    "#     'learning_rate': 10**-3,\n",
    "#     'run_name': run_name,\n",
    "#     'log_dir': os.path.join(log_root_dir, today(tz=timezone), run_name, current_time(tz=timezone)),\n",
    "# }\n",
    "\n",
    "para_dict = {\n",
    "    'seq_len': 12,\n",
    "    'classes': cell_types,\n",
    "    'embedding_dim': 15,  # paper uses dim 15 PCA features\n",
    "    'index_file': 'OAS_index_small.txt',\n",
    "    'batch_size': 100,\n",
    "    'epoch': 1000,\n",
    "    'run_name': run_name,\n",
    "    'work_path': os.path.join(model_dir_abs, 'models'),\n",
    "    # tuned hyperparameters from https://us-east-2.console.aws.amazon.com/sagemaker/home?region=us-east-2#/hyper-tuning-jobs/roger-beshnova2020-t-201103-0809\n",
    "    'learning_rate': 0.000125245489276611,\n",
    "    'dropout_rate': 0.1554058115760688,\n",
    "    'conv1_filter_dim1': 2,\n",
    "    'conv1_n_filters': 17,\n",
    "    'conv2_filter_dim1': 1,\n",
    "    'conv2_n_filters': 16,\n",
    "    'max_pool_filter_dim1': 1,\n",
    "    'fc_hidden_dim': 83,\n",
    "    'log_dir': os.path.join(log_root_dir, today(tz=timezone), run_name, current_time(tz=timezone)),\n",
    "}\n",
    "\n",
    "para_dict['conv1_filter_size'] = (para_dict['embedding_dim'], para_dict['conv1_filter_dim1'])\n",
    "para_dict['conv2_filter_size'] = (1, para_dict['conv2_filter_dim1'])\n",
    "para_dict['max_pool_filter_size'] = (1, para_dict['max_pool_filter_dim1'])\n",
    "\n",
    "def get_pca_model(para_dict):\n",
    "    pca_para_dict = para_dict.copy()\n",
    "    pca_para_dict['model_name'] = 'pca_toy'\n",
    "    pca_embedding_fn = pca_embedding.embedding_fn(20, pca_para_dict['embedding_dim'])\n",
    "    pca_model = CNN(pca_para_dict, pca_embedding_fn)\n",
    "    return pca_model\n",
    "\n",
    "def get_general_model(para_dict):\n",
    "    general_para_dict = para_dict.copy()\n",
    "    general_para_dict['model_name'] = 'general_toy'\n",
    "    general_embedding_fn = nn.Embedding(20, general_para_dict['embedding_dim'])\n",
    "    general_model = CNN(general_para_dict, general_embedding_fn)\n",
    "    return general_model\n",
    "\n",
    "pca_model = get_pca_model(para_dict)\n",
    "general_model = get_general_model(para_dict)\n",
    "\n",
    "print('LOG DIR:', para_dict['log_dir'])"
   ]
  },
  {
   "cell_type": "markdown",
   "metadata": {},
   "source": [
    "## Tensorboard"
   ]
  },
  {
   "cell_type": "code",
   "execution_count": 15,
   "metadata": {
    "collapsed": false,
    "jupyter": {
     "outputs_hidden": false
    },
    "pycharm": {
     "name": "#%%\n"
    }
   },
   "outputs": [],
   "source": [
    "import subprocess as sp\n",
    "\n",
    "start_tensorboard = True\n",
    "\n",
    "if start_tensorboard:\n",
    "    reload_interval = \"15\"  # seconds\n",
    "    tensorboard_proc = sp.Popen(\n",
    "        [\n",
    "            \"tensorboard\",\n",
    "            \"--logdir\",\n",
    "            para_dict[\"log_dir\"],\n",
    "        ],\n",
    "        universal_newlines=True,\n",
    "        stdout=sp.PIPE,\n",
    "        stderr=sp.PIPE,\n",
    "    )"
   ]
  },
  {
   "cell_type": "markdown",
   "metadata": {},
   "source": [
    "## Train"
   ]
  },
  {
   "cell_type": "code",
   "execution_count": null,
   "metadata": {
    "collapsed": false,
    "jupyter": {
     "outputs_hidden": false
    },
    "pycharm": {
     "name": "#%%\n"
    }
   },
   "outputs": [],
   "source": [
    "pca_model.fit(train_loader, test_loader=test_loader)\n",
    "general_model.fit(train_loader, test_loader=test_loader)"
   ]
  },
  {
   "cell_type": "code",
   "execution_count": null,
   "metadata": {},
   "outputs": [],
   "source": [
    "import os\n",
    "pca_model.net_init()\n",
    "pca_model.load_best()\n",
    "general_model.net_init()\n",
    "general_model.load_best()"
   ]
  },
  {
   "cell_type": "code",
   "execution_count": null,
   "metadata": {
    "collapsed": false,
    "jupyter": {
     "outputs_hidden": false
    },
    "pycharm": {
     "name": "#%%\n"
    }
   },
   "outputs": [],
   "source": [
    "figure_dir = os.path.join(model_dir_abs, 'figures')\n",
    "figure_path = os.path.join(figure_dir, 'memory_naive_roc_train.png')\n",
    "\n",
    "pca_output, pca_labels, pca_loss = pca_model.predict(train_loader)\n",
    "print('PCA')\n",
    "print('total loss: ', pca_loss.item())\n",
    "print('average loss: ', pca_loss.item()/len(train_loader))\n",
    "pca_model.evaluate(pca_output, pca_labels)\n",
    "\n",
    "print()\n",
    "\n",
    "general_output, general_labels, general_loss = general_model.predict(train_loader)\n",
    "print('General')\n",
    "print('total loss: ', general_loss.item())\n",
    "print('average loss: ', general_loss.item()/len(train_loader))\n",
    "general_model.evaluate(general_output, general_labels)\n",
    "plot_roc_curves(\n",
    "    [pca_output[:, 1], general_output[:, 1]],\n",
    "    [pca_labels, general_labels],\n",
    "    [\"PCA Embedding\", \"General Embedding\"],\n",
    "    title=\"Memory vs. Naive B-cell Classification (Train)\",\n",
    "    save_path=figure_path\n",
    ")"
   ]
  },
  {
   "cell_type": "markdown",
   "metadata": {},
   "source": [
    "## Test"
   ]
  },
  {
   "cell_type": "code",
   "execution_count": null,
   "metadata": {
    "collapsed": false,
    "jupyter": {
     "outputs_hidden": false
    },
    "pycharm": {
     "name": "#%%\n"
    }
   },
   "outputs": [],
   "source": [
    "figure_dir = os.path.join(model_dir_abs, 'figures')\n",
    "figure_path = os.path.join(figure_dir, 'memory_naive_roc_test.png')\n",
    "\n",
    "pca_output, pca_labels, pca_loss = pca_model.predict(test_loader)\n",
    "print('PCA')\n",
    "print('total loss: ', pca_loss.item())\n",
    "print('average loss: ', pca_loss.item()/len(train_loader))\n",
    "pca_model.evaluate(pca_output, pca_labels)\n",
    "\n",
    "print()\n",
    "\n",
    "general_output, general_labels, general_loss = general_model.predict(test_loader)\n",
    "print('General')\n",
    "print('total loss: ', general_loss.item())\n",
    "print('average loss: ', general_loss.item()/len(train_loader))\n",
    "general_model.evaluate(general_output, general_labels)\n",
    "plot_roc_curves(\n",
    "    [pca_output[:, 1], general_output[:, 1]],\n",
    "    [pca_labels, general_labels],\n",
    "    [\"PCA Embedding\", \"General Embedding\"],\n",
    "    title=\"Memory vs. Naive B-cell Classification (Test)\",\n",
    "    save_path=figure_path\n",
    ")"
   ]
  },
  {
   "cell_type": "markdown",
   "metadata": {},
   "source": [
    "## The Effect of Length"
   ]
  },
  {
   "cell_type": "code",
   "execution_count": 30,
   "metadata": {},
   "outputs": [
    {
     "data": {
      "text/plain": [
       "<generator object DataFrame.iterrows at 0x7f9459f37830>"
      ]
     },
     "execution_count": 30,
     "metadata": {},
     "output_type": "execute_result"
    }
   ],
   "source": [
    "index_df.iterrows()"
   ]
  },
  {
   "cell_type": "code",
   "execution_count": 17,
   "metadata": {},
   "outputs": [
    {
     "name": "stdout",
     "output_type": "stream",
     "text": [
      "\n",
      "12\n",
      "\n",
      "\n",
      "13\n",
      "\n",
      "\n",
      "14\n",
      "\n",
      "\n",
      "15\n",
      "\n",
      "\n",
      "16\n",
      "\n",
      "\n",
      "[[19414  2076]\n",
      " [ 1552  3710]]\n",
      "Accuracy = 0.864, MCC = 0.587\n",
      "[[14381  1707]\n",
      " [ 1592  3472]]\n",
      "Accuracy = 0.844, MCC = 0.575\n",
      "[[14109  1581]\n",
      " [ 1691  3611]]\n",
      "Accuracy = 0.844, MCC = 0.584\n",
      "[[13397  1337]\n",
      " [ 1520  3714]]\n",
      "Accuracy = 0.857, MCC = 0.626\n",
      "[[11321  1309]\n",
      " [  983  3091]]\n",
      "Accuracy = 0.863, MCC = 0.639\n"
     ]
    },
    {
     "data": {
      "image/png": "[encoded data removed]",
      "text/plain": [
       "<Figure size 432x288 with 1 Axes>"
      ]
     },
     "metadata": {
      "needs_background": "light"
     },
     "output_type": "display_data"
    },
    {
     "data": {
      "text/plain": [
       "<AxesSubplot:title={'center':'Effect of CDR3 Length'}, xlabel='FPR', ylabel='TPR'>"
      ]
     },
     "execution_count": 17,
     "metadata": {},
     "output_type": "execute_result"
    }
   ],
   "source": [
    "import os\n",
    "aipt_reload(AIPT.Utils.plotting)\n",
    "from AIPT.Utils.plotting import roc_from_models\n",
    "\n",
    "models = {}\n",
    "test_loaders = {}\n",
    "length_dir = os.path.join(model_dir_abs, \"results\", \"length\")\n",
    "# def length_effect_roc(length_range, embedding_type, model_getter, para_dict, random_seed=0)\n",
    "for length in range(12, 17):\n",
    "    print(length)\n",
    "    para_dict = para_dict.copy()\n",
    "    para_dict[\"seq_len\"] = length\n",
    "    data = load_data(index_df, seq_len=length)\n",
    "    np.random.seed(0)\n",
    "    torch.manual_seed(0)\n",
    "    _, test_loader = get_train_test_loaders(data)\n",
    "    test_loaders[str(length)] = test_loader\n",
    "    embedding_type = \"general\"\n",
    "    model_getter = get_general_model\n",
    "    model_weights_path = os.path.join(\n",
    "        length_dir, str(length), f\"{embedding_type}_100\", \"model\", \"best\"\n",
    "    )\n",
    "    model = model_getter(para_dict)\n",
    "    model.net_init()\n",
    "    model.load_state_dict(torch.load(model_weights_path))\n",
    "    models[str(length)] = model\n",
    "    print('\\n')\n",
    "    \n",
    "save_path = os.path.join(length_dir, f\"{embedding_type}.png\")\n",
    "\n",
    "roc_from_models(\n",
    "    models, test_loaders, title=f\"Effect of CDR3 Length\", save_path=save_path\n",
    ")"
   ]
  },
  {
   "cell_type": "markdown",
   "metadata": {},
   "source": [
    "## Test on DeepCAT dataset"
   ]
  },
  {
   "cell_type": "code",
   "execution_count": null,
   "metadata": {},
   "outputs": [],
   "source": [
    "aipt_reload(AIPT.Models.Beshnova2020.CNN)\n",
    "aipt_reload(AIPT.Utils.logging)\n",
    "aipt_reload(AIPT.Utils.plotting)\n",
    "from AIPT.Models.Beshnova2020.CNN import CNN\n",
    "import AIPT.Models.Beshnova2020.pca_embedding as pca_embedding\n",
    "from AIPT.Utils.logging import today, current_time\n",
    "from AIPT.Utils.plotting import plot_roc_curves"
   ]
  },
  {
   "cell_type": "code",
   "execution_count": null,
   "metadata": {},
   "outputs": [],
   "source": [
    "log_root_dir = 's3://gv20interns/roger/logs/tensorboard'\n",
    "run_name = 'deepcat_test'\n",
    "timezone = 'EST'\n",
    "\n",
    "para_dict = {\n",
    "#     'seq_len': 12,\n",
    "    'embedding_dim': 15, # paper uses dim 15 PCA features\n",
    "#     'epoch': 1000,\n",
    "    'classes': ['normal', 'tumor'],\n",
    "    'learning_rate': 10**-3,\n",
    "    'run_name': run_name,\n",
    "    'log_dir': os.path.join(log_root_dir, today(tz=timezone), run_name, current_time(tz=timezone)),\n",
    "    'work_path': os.path.join(model_dir_abs, 'work/DeepCAT')\n",
    "}\n",
    "\n"
   ]
  },
  {
   "cell_type": "code",
   "execution_count": null,
   "metadata": {
    "collapsed": false,
    "jupyter": {
     "outputs_hidden": false
    },
    "pycharm": {
     "name": "#%%\n"
    }
   },
   "outputs": [],
   "source": [
    "import pandas as pd\n",
    "\n",
    "data_dir = os.path.join(model_dir_abs, 'data')\n",
    "fnormal = os.path.join(data_dir, 'NormalCDR3.txt')\n",
    "ftumor = os.path.join(data_dir, 'TumorCDR3.txt')\n",
    "\n",
    "def load_deepcat_data(ftumor, fnormal, seq_len = 12):\n",
    "    tumorCDR3s=[]\n",
    "    g=open(ftumor)\n",
    "    for ll in g.readlines():\n",
    "        rr=ll.strip()\n",
    "        if not rr.startswith('C') or not rr.endswith('F'):\n",
    "            print(\"Non-standard CDR3s. Skipping.\")\n",
    "            continue\n",
    "        if len(rr) != seq_len:\n",
    "            continue\n",
    "        tumorCDR3s.append(rr)\n",
    "    normalCDR3s=[]\n",
    "    g=open(fnormal)\n",
    "    for ll in g.readlines():\n",
    "        rr=ll.strip()\n",
    "        if not rr.startswith('C') or not rr.endswith('F'):\n",
    "            print(\"Non-standard CDR3s. Skipping.\")\n",
    "            continue\n",
    "        if len(rr) != seq_len:\n",
    "            continue\n",
    "        normalCDR3s.append(rr)\n",
    "        \n",
    "    normal_df = pd.DataFrame(normalCDR3s)\n",
    "    normal_df.columns = ['CDR3_aa']\n",
    "    normal_df['label'] = 0\n",
    "\n",
    "    tumor_df = pd.DataFrame(tumorCDR3s)\n",
    "    tumor_df.columns = ['CDR3_aa']\n",
    "    tumor_df['label'] = 1\n",
    "\n",
    "    data_df = pd.concat([normal_df, tumor_df])\n",
    "    return data_df\n",
    "    "
   ]
  },
  {
   "cell_type": "code",
   "execution_count": null,
   "metadata": {},
   "outputs": [],
   "source": [
    "seq_lengths = range(12, 17)\n",
    "accs = {}\n",
    "for seq_length in seq_lengths:\n",
    "    \n",
    "    dc_para_dict = para_dict.copy()\n",
    "    dc_para_dict['seq_len'] = seq_length\n",
    "    \n",
    "    data_df = load_deepcat_data(ftumor, fnormal, seq_len=seq_length)\n",
    "    print(data_df)\n",
    "    dc_train_loader = get_data_loader(data_df)\n",
    "    \n",
    "    num_batches = len(dc_train_loader)\n",
    "    dc_steps = 40000\n",
    "    dc_para_dict['epoch'] = dc_steps//num_batches\n",
    "    dc_para_dict['model_name'] = f'deepcat_torch_seqlen{seq_length}'\n",
    "    pca_embedding_fn = pca_embedding.embedding_fn(20, dc_para_dict['embedding_dim'])\n",
    "    dc_model = CNN(dc_para_dict, pca_embedding_fn)\n",
    "    \n",
    "    results = dc_model.fit(dc_train_loader)\n",
    "    accs[seq_length] = results['train']['acc']"
   ]
  },
  {
   "cell_type": "code",
   "execution_count": null,
   "metadata": {},
   "outputs": [],
   "source": [
    "print(accs)"
   ]
  },
  {
   "cell_type": "code",
   "execution_count": null,
   "metadata": {},
   "outputs": [],
   "source": [
    "import pandas as pd\n",
    "import seaborn as sns\n",
    "import matplotlib.pyplot as plt\n",
    "\n",
    "pt_results = accs\n",
    "tf_results = {\n",
    "    12: 0.8610463741917541,\n",
    "    13: 0.8308455045175356,\n",
    "    14: 0.7865194836315643,\n",
    "    15: 0.82875444017,\n",
    "    16: 0.85230856924342,\n",
    "}\n",
    "def get_results_df(results_dict, framework):\n",
    "    lengths = results_dict.keys()\n",
    "    accs = results_dict.values()\n",
    "    df = pd.DataFrame.from_dict({'seq_len': lengths, 'acc': accs})\n",
    "    df['Framework'] = framework\n",
    "    return df\n",
    "\n",
    "\n",
    "df_path = os.path.join(model_dir_abs, 'comparison.csv')\n",
    "if os.path.isfile(df_path):\n",
    "    df = pd.read_csv(df_path)\n",
    "else:\n",
    "    pt_df = get_results_df(pt_results, framework='PyTorch')\n",
    "    tf_df = get_results_df(tf_results, framework='TensorFlow')\n",
    "    df = pd.concat([pt_df, tf_df])\n",
    "    df.to_csv(df_path)\n",
    "print(df)\n",
    "\n",
    "sns.color_palette('bright')\n",
    "fig = sns.barplot(data=df, x='seq_len', y='acc', hue='Framework')\n",
    "fig.set(xlabel='Sequence Length', ylabel='Accuracy', title='DeepCAT Reimplementation Accuracies')\n",
    "fig_path = os.path.join(model_dir_abs, 'comparision.png')\n",
    "fig.figure.savefig(fig_path, dpi=300)"
   ]
  },
  {
   "cell_type": "code",
   "execution_count": null,
   "metadata": {},
   "outputs": [],
   "source": []
  }
 ],
 "metadata": {
  "kernelspec": {
   "display_name": "SSH ec2-user@0.tcp.ngrok.io:10507 roger-aipt2-2020-10-25-1603693660",
   "language": "",
   "name": "rik_ssh_ec2_user_0_tcp_ngrok_io_10507_rogeraipt2202010251603693660"
  },
  "language_info": {
   "codemirror_mode": {
    "name": "ipython",
    "version": 3
   },
   "file_extension": ".py",
   "mimetype": "text/x-python",
   "name": "python",
   "nbconvert_exporter": "python",
   "pygments_lexer": "ipython3",
   "version": "3.6.11"
  },
  "pycharm": {
   "stem_cell": {
    "cell_type": "raw",
    "metadata": {
     "collapsed": false
    },
    "source": []
   }
  }
 },
 "nbformat": 4,
 "nbformat_minor": 4
}
