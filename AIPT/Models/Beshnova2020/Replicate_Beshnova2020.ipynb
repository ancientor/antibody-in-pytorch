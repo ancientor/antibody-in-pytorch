{
 "cells": [
  {
   "cell_type": "code",
   "execution_count": 126,
   "metadata": {},
   "outputs": [
    {
     "name": "stdout",
     "output_type": "stream",
     "text": [
      "current working directory:\n"
     ]
    },
    {
     "data": {
      "text/plain": [
       "'/home/ec2-user/SageMaker/antibody-in-pytorch/AIPT/Models/Beshnova2020'"
      ]
     },
     "execution_count": 126,
     "metadata": {},
     "output_type": "execute_result"
    }
   ],
   "source": [
    "import json\n",
    "import os\n",
    "import pickle as pkl\n",
    "import sys\n",
    "import warnings\n",
    "\n",
    "import matplotlib.pyplot as plt\n",
    "import numpy as np\n",
    "import torch\n",
    "import torch.nn as nn\n",
    "import torch.optim as optim\n",
    "\n",
    "warnings.filterwarnings(\"ignore\")\n",
    "\n",
    "import AIPT.Models.Beshnova2020.CNN\n",
    "import AIPT.Models.Beshnova2020.pca_embedding\n",
    "import AIPT.Utils.logging\n",
    "import AIPT.Utils.plotting\n",
    "\n",
    "print(\"current working directory:\")\n",
    "%pwd"
   ]
  },
  {
   "cell_type": "code",
   "execution_count": 127,
   "metadata": {},
   "outputs": [],
   "source": [
    "import AIPT.Utils.Dev.dev_utils as dev_utils\n",
    "\n",
    "aipt_path = '/home/ec2-user/SageMaker/antibody-in-pytorch/'\n",
    "aipt_reload = dev_utils.get_aipt_reload_fn(aipt_path)"
   ]
  },
  {
   "cell_type": "code",
   "execution_count": 128,
   "metadata": {},
   "outputs": [
    {
     "name": "stdout",
     "output_type": "stream",
     "text": [
      "Benchmarks\t__init__.py  Models\t  Utils\n",
      "entry_point.py\t__main__.py  __pycache__\n"
     ]
    }
   ],
   "source": [
    "'''\n",
    "set up paths\n",
    "'''\n",
    "\n",
    "aipt_dir = '/home/ec2-user/SageMaker/antibody-in-pytorch/AIPT' # replace with your own aipt path\n",
    "# print(\"\\t\".join(os.listdir(aipt_dir)))\n",
    "!ls {aipt_dir}"
   ]
  },
  {
   "cell_type": "markdown",
   "metadata": {},
   "source": [
    "## Data Processing"
   ]
  },
  {
   "cell_type": "code",
   "execution_count": 129,
   "metadata": {},
   "outputs": [],
   "source": [
    "# todo: pca"
   ]
  },
  {
   "cell_type": "code",
   "execution_count": 130,
   "metadata": {},
   "outputs": [],
   "source": [
    "from AIPT.Benchmarks.OAS_dataset import OAS_data_loader as oas"
   ]
  },
  {
   "cell_type": "code",
   "execution_count": 131,
   "metadata": {},
   "outputs": [
    {
     "name": "stdout",
     "output_type": "stream",
     "text": [
      "/home/ec2-user/SageMaker/antibody-in-pytorch/AIPT/Models/Beshnova2020\n",
      "Training data                                            file_name Longitudinal  Chain  \\\n",
      "0  Ellebedy_2016_Day-0_memory-B-cell_IGHA_memory-...        Day-0  Heavy   \n",
      "1  Ellebedy_2016_Day-0_memory-B-cell_IGHA_memory-...        Day-0  Heavy   \n",
      "2  Ellebedy_2016_Day-0_memory-B-cell_IGHG_memory-...        Day-0  Heavy   \n",
      "\n",
      "                    Author Isotype    Age  Size_igblastn Disease  \\\n",
      "0  Ellebedy et al., (2016)    IGHA  18-49          84333    None   \n",
      "1  Ellebedy et al., (2016)    IGHA  18-49          59091    None   \n",
      "2  Ellebedy et al., (2016)    IGHG  18-49          52891    None   \n",
      "\n",
      "                                      Link BSource           BType   Size  \\\n",
      "0  https://www.nature.com/articles/ni.3533    PBMC  Memory-B-Cells  61336   \n",
      "1  https://www.nature.com/articles/ni.3533    PBMC  Memory-B-Cells  43137   \n",
      "2  https://www.nature.com/articles/ni.3533    PBMC  Memory-B-Cells  41221   \n",
      "\n",
      "  Species Vaccine  Subject  valid_entry_num  \n",
      "0   human    None  Donor-6             2019  \n",
      "1   human    None  Donor-5             2123  \n",
      "2   human    None  Donor-4             1028  \n",
      "Testing data                                            file_name Longitudinal  Chain  \\\n",
      "0  Ellebedy_2016_Day-0_memory-B-cell_IGHA_memory-...        Day-0  Heavy   \n",
      "\n",
      "                    Author Isotype    Age  Size_igblastn Disease  \\\n",
      "0  Ellebedy et al., (2016)    IGHA  18-49          50519    None   \n",
      "\n",
      "                                      Link BSource           BType   Size  \\\n",
      "0  https://www.nature.com/articles/ni.3533    PBMC  Memory-B-Cells  34975   \n",
      "\n",
      "  Species Vaccine  Subject  valid_entry_num  \n",
      "0   human    None  Donor-4              839  \n"
     ]
    }
   ],
   "source": [
    "seq_dir = os.path.join(aipt_dir, \"Benchmarks/OAS_dataset/data/seq_db\")\n",
    "model_dir = 'AIPT/Models/Beshnova2020'\n",
    "model_dir_abs = os.path.join(aipt_path, model_dir)\n",
    "%cd {model_dir_abs}\n",
    "index_fn = \"OAS_index.txt\"\n",
    "index_path = os.path.join(aipt_path, model_dir, index_fn)\n",
    "input_seq_type = \"CDR3\"\n",
    "output_field = \"BType\"\n",
    "cell_types = [\n",
    "    \"Naive-B-Cells\",\n",
    "    \"Memory-B-Cells\",\n",
    "]  # todo: this is confusing - doesn't refer to \"Species\"\n",
    "\n",
    "train_loader, train_eval_loader, test_eval_loader, seq_len = oas.OAS_data_loader(\n",
    "    index_path,\n",
    "    output_field,\n",
    "    input_seq_type,\n",
    "    cell_types,\n",
    "    seq_dir=seq_dir,\n",
    "    gapped=True,\n",
    "    pad=False,\n",
    "    batch_size=20,\n",
    "    model_name=\"Beshnova2020\",\n",
    ")"
   ]
  },
  {
   "cell_type": "code",
   "execution_count": 132,
   "metadata": {},
   "outputs": [],
   "source": [
    "import pandas as pd\n",
    "index_df = pd.read_csv(index_path, sep=\"\\t\")\n",
    "\n",
    "file_names = index_df['file_name']"
   ]
  },
  {
   "cell_type": "code",
   "execution_count": 133,
   "metadata": {},
   "outputs": [
    {
     "data": {
      "text/html": [
       "<div>\n",
       "<style scoped>\n",
       "    .dataframe tbody tr th:only-of-type {\n",
       "        vertical-align: middle;\n",
       "    }\n",
       "\n",
       "    .dataframe tbody tr th {\n",
       "        vertical-align: top;\n",
       "    }\n",
       "\n",
       "    .dataframe thead th {\n",
       "        text-align: right;\n",
       "    }\n",
       "</style>\n",
       "<table border=\"1\" class=\"dataframe\">\n",
       "  <thead>\n",
       "    <tr style=\"text-align: right;\">\n",
       "      <th></th>\n",
       "      <th>CDR3_aa</th>\n",
       "      <th>BType</th>\n",
       "    </tr>\n",
       "  </thead>\n",
       "  <tbody>\n",
       "    <tr>\n",
       "      <th>1</th>\n",
       "      <td>AREYARHNPGGD</td>\n",
       "      <td>Memory-B-Cells</td>\n",
       "    </tr>\n",
       "    <tr>\n",
       "      <th>2</th>\n",
       "      <td>TRPNGGDYAFDI</td>\n",
       "      <td>Memory-B-Cells</td>\n",
       "    </tr>\n",
       "    <tr>\n",
       "      <th>17</th>\n",
       "      <td>VKDWGGSYHFDR</td>\n",
       "      <td>Memory-B-Cells</td>\n",
       "    </tr>\n",
       "    <tr>\n",
       "      <th>26</th>\n",
       "      <td>ASSWYGGYYFDY</td>\n",
       "      <td>Memory-B-Cells</td>\n",
       "    </tr>\n",
       "    <tr>\n",
       "      <th>27</th>\n",
       "      <td>ARDKGASYYFDY</td>\n",
       "      <td>Memory-B-Cells</td>\n",
       "    </tr>\n",
       "    <tr>\n",
       "      <th>...</th>\n",
       "      <td>...</td>\n",
       "      <td>...</td>\n",
       "    </tr>\n",
       "    <tr>\n",
       "      <th>1527</th>\n",
       "      <td>ARGGTGTTNFGY</td>\n",
       "      <td>Naive-B-Cells</td>\n",
       "    </tr>\n",
       "    <tr>\n",
       "      <th>1530</th>\n",
       "      <td>ARLTGTHPYFDY</td>\n",
       "      <td>Naive-B-Cells</td>\n",
       "    </tr>\n",
       "    <tr>\n",
       "      <th>1533</th>\n",
       "      <td>ARVSVSTGWFDP</td>\n",
       "      <td>Naive-B-Cells</td>\n",
       "    </tr>\n",
       "    <tr>\n",
       "      <th>1535</th>\n",
       "      <td>ARLDRTVYGMDV</td>\n",
       "      <td>Naive-B-Cells</td>\n",
       "    </tr>\n",
       "    <tr>\n",
       "      <th>1537</th>\n",
       "      <td>ARIPGVTSPIDY</td>\n",
       "      <td>Naive-B-Cells</td>\n",
       "    </tr>\n",
       "  </tbody>\n",
       "</table>\n",
       "<p>2650 rows × 2 columns</p>\n",
       "</div>"
      ],
      "text/plain": [
       "           CDR3_aa           BType\n",
       "1     AREYARHNPGGD  Memory-B-Cells\n",
       "2     TRPNGGDYAFDI  Memory-B-Cells\n",
       "17    VKDWGGSYHFDR  Memory-B-Cells\n",
       "26    ASSWYGGYYFDY  Memory-B-Cells\n",
       "27    ARDKGASYYFDY  Memory-B-Cells\n",
       "...            ...             ...\n",
       "1527  ARGGTGTTNFGY   Naive-B-Cells\n",
       "1530  ARLTGTHPYFDY   Naive-B-Cells\n",
       "1533  ARVSVSTGWFDP   Naive-B-Cells\n",
       "1535  ARLDRTVYGMDV   Naive-B-Cells\n",
       "1537  ARIPGVTSPIDY   Naive-B-Cells\n",
       "\n",
       "[2650 rows x 2 columns]"
      ]
     },
     "execution_count": 133,
     "metadata": {},
     "output_type": "execute_result"
    }
   ],
   "source": [
    "data_dfs = []\n",
    "\n",
    "for index, row in index_df.iterrows():\n",
    "    file_name = row['file_name']\n",
    "    df = pd.read_csv(os.path.join(seq_dir, f'{file_name}.txt'), sep='\\t')\n",
    "    length_df = df.apply(lambda row: len(row['CDR3_aa']), axis=1)\n",
    "    data_df = df[length_df == 12]\n",
    "    data_df['BType'] = row['BType']\n",
    "    data_df = data_df[['CDR3_aa', 'BType']]\n",
    "    data_dfs.append(data_df)\n",
    "    \n",
    "data = pd.concat(data_dfs)\n",
    "data"
   ]
  },
  {
   "cell_type": "code",
   "execution_count": 134,
   "metadata": {},
   "outputs": [
    {
     "name": "stdout",
     "output_type": "stream",
     "text": [
      "cell_type_to_ix: {'Naive-B-Cells': 0, 'Memory-B-Cells': 1}\n"
     ]
    },
    {
     "data": {
      "text/html": [
       "<div>\n",
       "<style scoped>\n",
       "    .dataframe tbody tr th:only-of-type {\n",
       "        vertical-align: middle;\n",
       "    }\n",
       "\n",
       "    .dataframe tbody tr th {\n",
       "        vertical-align: top;\n",
       "    }\n",
       "\n",
       "    .dataframe thead th {\n",
       "        text-align: right;\n",
       "    }\n",
       "</style>\n",
       "<table border=\"1\" class=\"dataframe\">\n",
       "  <thead>\n",
       "    <tr style=\"text-align: right;\">\n",
       "      <th></th>\n",
       "      <th>CDR3_aa</th>\n",
       "      <th>BType</th>\n",
       "      <th>label</th>\n",
       "    </tr>\n",
       "  </thead>\n",
       "  <tbody>\n",
       "    <tr>\n",
       "      <th>1</th>\n",
       "      <td>AREYARHNPGGD</td>\n",
       "      <td>Memory-B-Cells</td>\n",
       "      <td>1</td>\n",
       "    </tr>\n",
       "    <tr>\n",
       "      <th>2</th>\n",
       "      <td>TRPNGGDYAFDI</td>\n",
       "      <td>Memory-B-Cells</td>\n",
       "      <td>1</td>\n",
       "    </tr>\n",
       "    <tr>\n",
       "      <th>17</th>\n",
       "      <td>VKDWGGSYHFDR</td>\n",
       "      <td>Memory-B-Cells</td>\n",
       "      <td>1</td>\n",
       "    </tr>\n",
       "    <tr>\n",
       "      <th>26</th>\n",
       "      <td>ASSWYGGYYFDY</td>\n",
       "      <td>Memory-B-Cells</td>\n",
       "      <td>1</td>\n",
       "    </tr>\n",
       "    <tr>\n",
       "      <th>27</th>\n",
       "      <td>ARDKGASYYFDY</td>\n",
       "      <td>Memory-B-Cells</td>\n",
       "      <td>1</td>\n",
       "    </tr>\n",
       "    <tr>\n",
       "      <th>...</th>\n",
       "      <td>...</td>\n",
       "      <td>...</td>\n",
       "      <td>...</td>\n",
       "    </tr>\n",
       "    <tr>\n",
       "      <th>1527</th>\n",
       "      <td>ARGGTGTTNFGY</td>\n",
       "      <td>Naive-B-Cells</td>\n",
       "      <td>0</td>\n",
       "    </tr>\n",
       "    <tr>\n",
       "      <th>1530</th>\n",
       "      <td>ARLTGTHPYFDY</td>\n",
       "      <td>Naive-B-Cells</td>\n",
       "      <td>0</td>\n",
       "    </tr>\n",
       "    <tr>\n",
       "      <th>1533</th>\n",
       "      <td>ARVSVSTGWFDP</td>\n",
       "      <td>Naive-B-Cells</td>\n",
       "      <td>0</td>\n",
       "    </tr>\n",
       "    <tr>\n",
       "      <th>1535</th>\n",
       "      <td>ARLDRTVYGMDV</td>\n",
       "      <td>Naive-B-Cells</td>\n",
       "      <td>0</td>\n",
       "    </tr>\n",
       "    <tr>\n",
       "      <th>1537</th>\n",
       "      <td>ARIPGVTSPIDY</td>\n",
       "      <td>Naive-B-Cells</td>\n",
       "      <td>0</td>\n",
       "    </tr>\n",
       "  </tbody>\n",
       "</table>\n",
       "<p>2650 rows × 3 columns</p>\n",
       "</div>"
      ],
      "text/plain": [
       "           CDR3_aa           BType  label\n",
       "1     AREYARHNPGGD  Memory-B-Cells      1\n",
       "2     TRPNGGDYAFDI  Memory-B-Cells      1\n",
       "17    VKDWGGSYHFDR  Memory-B-Cells      1\n",
       "26    ASSWYGGYYFDY  Memory-B-Cells      1\n",
       "27    ARDKGASYYFDY  Memory-B-Cells      1\n",
       "...            ...             ...    ...\n",
       "1527  ARGGTGTTNFGY   Naive-B-Cells      0\n",
       "1530  ARLTGTHPYFDY   Naive-B-Cells      0\n",
       "1533  ARVSVSTGWFDP   Naive-B-Cells      0\n",
       "1535  ARLDRTVYGMDV   Naive-B-Cells      0\n",
       "1537  ARIPGVTSPIDY   Naive-B-Cells      0\n",
       "\n",
       "[2650 rows x 3 columns]"
      ]
     },
     "execution_count": 134,
     "metadata": {},
     "output_type": "execute_result"
    }
   ],
   "source": [
    "cell_type_to_ix = {cell_type: ix for ix, cell_type in enumerate(cell_types)}\n",
    "print('cell_type_to_ix:', cell_type_to_ix)\n",
    "\n",
    "data['label'] = data.apply(lambda row: cell_type_to_ix[row['BType']], axis=1)\n",
    "data"
   ]
  },
  {
   "cell_type": "code",
   "execution_count": 135,
   "metadata": {},
   "outputs": [],
   "source": [
    "from AIPT.Benchmarks.OAS_dataset import OAS_data_loader\n",
    "from sklearn.model_selection import train_test_split\n",
    "\n",
    "# train_data = data[['CDR3_aa', 'label']]\n",
    "# seq_encodings = OAS_data_loader.encode_index(data=train_data['CDR3_aa'])\n",
    "# btypes = train_data['label'].values\n",
    "# train_loader = torch.utils.data.DataLoader(list(zip(seq_encodings, btypes)), shuffle=True, batch_size=32)\n",
    "\n",
    "def get_data_loader(data, batch_size=22):\n",
    "    seq_encodings = OAS_data_loader.encode_index(data=data['CDR3_aa'])\n",
    "    btypes = data['label'].values\n",
    "    loader = torch.utils.data.DataLoader(list(zip(seq_encodings, btypes)), shuffle=True, batch_size=100, drop_last=True)\n",
    "    return loader\n",
    "\n",
    "train_data, test_data = train_test_split(data, train_size=0.8)\n",
    "train_loader = get_data_loader(train_data)\n",
    "test_loader = get_data_loader(test_data)"
   ]
  },
  {
   "cell_type": "markdown",
   "metadata": {},
   "source": [
    "## Load Model"
   ]
  },
  {
   "cell_type": "code",
   "execution_count": 136,
   "metadata": {},
   "outputs": [
    {
     "name": "stdout",
     "output_type": "stream",
     "text": [
      "\n",
      "File: /home/ec2-user/SageMaker/.persisted_conda/aipt/lib/python3.6/site-packages/AIPT-0.0.1-py3.6.egg/AIPT/Models/Beshnova2020/CNN.py \n",
      " Last modified: 2020-10-23 00:00:40 UTC\n",
      "\n",
      "File: /home/ec2-user/SageMaker/.persisted_conda/aipt/lib/python3.6/site-packages/AIPT-0.0.1-py3.6.egg/AIPT/Models/Beshnova2020/pca_embedding.py \n",
      " Last modified: 2020-10-23 00:00:41 UTC\n",
      "\n",
      "\n"
     ]
    }
   ],
   "source": [
    "aipt_reload(AIPT.Models.Beshnova2020.CNN)\n",
    "aipt_reload(AIPT.Models.Beshnova2020.pca_embedding)\n",
    "aipt_reload(AIPT.Utils.logging)\n",
    "aipt_reload(AIPT.Utils.plotting)\n",
    "from AIPT.Models.Beshnova2020.CNN import CNN\n",
    "import AIPT.Models.Beshnova2020.pca_embedding as pca_embedding\n",
    "from AIPT.Utils.logging import today, current_time\n",
    "from AIPT.Utils.plotting import plot_roc_curves"
   ]
  },
  {
   "cell_type": "code",
   "execution_count": 137,
   "metadata": {},
   "outputs": [
    {
     "name": "stdout",
     "output_type": "stream",
     "text": [
      "LOG DIR: /home/ec2-user/SageMaker/logs/tensorboard/2020-10-22/test/19.00.44\n"
     ]
    }
   ],
   "source": [
    "import os\n",
    "\n",
    "log_root_dir = '/home/ec2-user/SageMaker/logs/tensorboard'\n",
    "run_name = 'test'\n",
    "timezone = 'EST'\n",
    "\n",
    "para_dict = {\n",
    "    'seq_len': 12,\n",
    "    'embedding_dim': 15, # paper uses dim 15 PCA features\n",
    "    'epoch': 1000,\n",
    "    'classes': cell_types,\n",
    "    'learning_rate': 10**-4,\n",
    "    'run_name': run_name,\n",
    "    'log_dir': os.path.join(log_root_dir, today(tz=timezone), run_name, current_time(tz=timezone))\n",
    "}\n",
    "\n",
    "pca_para_dict = para_dict.copy()\n",
    "pca_para_dict['model_name'] = 'pca'\n",
    "pca_embedding_fn = pca_embedding.embedding_fn(20, pca_para_dict['embedding_dim'])\n",
    "pca_model = CNN(pca_para_dict, pca_embedding_fn)\n",
    "\n",
    "general_para_dict = para_dict.copy()\n",
    "general_para_dict['model_name'] = 'general'\n",
    "general_embedding_fn = nn.Embedding(20, general_para_dict['embedding_dim'])\n",
    "general_model = CNN(general_para_dict, general_embedding_fn)\n",
    "\n",
    "print('LOG DIR:', para_dict['log_dir'])"
   ]
  },
  {
   "cell_type": "markdown",
   "metadata": {},
   "source": [
    "## Tensorboard"
   ]
  },
  {
   "cell_type": "code",
   "execution_count": 138,
   "metadata": {},
   "outputs": [],
   "source": [
    "import subprocess as sp\n",
    "\n",
    "start_tensorboard = False\n",
    "\n",
    "if start_tensorboard:\n",
    "    reload_interval = \"15\"  # seconds\n",
    "    tensorboard_proc = sp.Popen(\n",
    "        [\n",
    "            \"tensorboard\",\n",
    "            \"--logdir\",\n",
    "            para_dict[\"log_dir\"],\n",
    "        ],\n",
    "        universal_newlines=True,\n",
    "        stdout=sp.PIPE,\n",
    "        stderr=sp.PIPE,\n",
    "    )"
   ]
  },
  {
   "cell_type": "markdown",
   "metadata": {},
   "source": [
    "## Train"
   ]
  },
  {
   "cell_type": "code",
   "execution_count": 139,
   "metadata": {},
   "outputs": [
    {
     "name": "stdout",
     "output_type": "stream",
     "text": [
      "fit called\n",
      "width 2\n",
      "Found saved model from Epoch 1000\n",
      "fit called\n",
      "width 2\n",
      "Found saved model from Epoch 1000\n"
     ]
    }
   ],
   "source": [
    "general_model.fit(train_loader, test_loader=test_loader)\n",
    "pca_model.fit(train_loader, test_loader=test_loader)"
   ]
  },
  {
   "cell_type": "code",
   "execution_count": 140,
   "metadata": {},
   "outputs": [
    {
     "name": "stdout",
     "output_type": "stream",
     "text": [
      "[[ 247   65]\n",
      " [  54 1734]]\n",
      "Accuracy = 0.943 ,MCC = 0.773\n",
      "[[ 271   46]\n",
      " [  21 1762]]\n",
      "Accuracy = 0.968 ,MCC = 0.872\n"
     ]
    },
    {
     "data": {
      "image/png": "[encoded data removed]",
      "text/plain": [
       "<Figure size 432x288 with 1 Axes>"
      ]
     },
     "metadata": {
      "needs_background": "light"
     },
     "output_type": "display_data"
    },
    {
     "data": {
      "text/plain": [
       "<AxesSubplot:title={'center':'Memory vs. Naive B-cell Classification (Train)'}, xlabel='FPR', ylabel='TPR'>"
      ]
     },
     "execution_count": 140,
     "metadata": {},
     "output_type": "execute_result"
    }
   ],
   "source": [
    "figure_dir = os.path.join(model_dir_abs, 'figures')\n",
    "figure_path = os.path.join(figure_dir, 'memory_naive_roc_train.png')\n",
    "\n",
    "general_output, general_labels, general_loss = general_model.predict(train_loader)\n",
    "general_model.evaluate(general_output, general_labels)\n",
    "pca_output, pca_labels, pca_loss = pca_model.predict(train_loader)\n",
    "pca_model.evaluate(pca_output, pca_labels)\n",
    "plot_roc_curves(\n",
    "    [pca_output[:, 1], general_output[:, 1]],\n",
    "    [pca_labels, general_labels],\n",
    "    [\"PCA Embedding\", \"General Embedding\"],\n",
    "    title=\"Memory vs. Naive B-cell Classification (Train)\",\n",
    "    save_path=figure_path\n",
    ")"
   ]
  },
  {
   "cell_type": "code",
   "execution_count": null,
   "metadata": {},
   "outputs": [],
   "source": []
  },
  {
   "cell_type": "markdown",
   "metadata": {},
   "source": [
    "## Test"
   ]
  },
  {
   "cell_type": "code",
   "execution_count": 141,
   "metadata": {},
   "outputs": [
    {
     "ename": "ModuleAttributeError",
     "evalue": "'CNN' object has no attribute 'conv1'",
     "output_type": "error",
     "traceback": [
      "\u001b[0;31m---------------------------------------------------------------------------\u001b[0m",
      "\u001b[0;31mModuleAttributeError\u001b[0m                      Traceback (most recent call last)",
      "\u001b[0;32m<ipython-input-141-77a56e1a3a80>\u001b[0m in \u001b[0;36m<module>\u001b[0;34m\u001b[0m\n\u001b[0;32m----> 1\u001b[0;31m \u001b[0moutput\u001b[0m\u001b[0;34m,\u001b[0m \u001b[0mlabels\u001b[0m\u001b[0;34m,\u001b[0m \u001b[0mloss\u001b[0m \u001b[0;34m=\u001b[0m \u001b[0mmodel\u001b[0m\u001b[0;34m.\u001b[0m\u001b[0mpredict\u001b[0m\u001b[0;34m(\u001b[0m\u001b[0mtest_loader\u001b[0m\u001b[0;34m)\u001b[0m\u001b[0;34m\u001b[0m\u001b[0;34m\u001b[0m\u001b[0m\n\u001b[0m\u001b[1;32m      2\u001b[0m \u001b[0mprint\u001b[0m\u001b[0;34m(\u001b[0m\u001b[0mloss\u001b[0m\u001b[0;34m)\u001b[0m\u001b[0;34m\u001b[0m\u001b[0;34m\u001b[0m\u001b[0m\n\u001b[1;32m      3\u001b[0m \u001b[0mmodel\u001b[0m\u001b[0;34m.\u001b[0m\u001b[0mevaluate\u001b[0m\u001b[0;34m(\u001b[0m\u001b[0moutput\u001b[0m\u001b[0;34m,\u001b[0m \u001b[0mlabels\u001b[0m\u001b[0;34m)\u001b[0m\u001b[0;34m\u001b[0m\u001b[0;34m\u001b[0m\u001b[0m\n",
      "\u001b[0;32m~/SageMaker/.persisted_conda/aipt/lib/python3.6/site-packages/AIPT-0.0.1-py3.6.egg/AIPT/Models/Beshnova2020/CNN.py\u001b[0m in \u001b[0;36mpredict\u001b[0;34m(self, data_loader)\u001b[0m\n\u001b[1;32m    326\u001b[0m                 \u001b[0;31m# print(data)\u001b[0m\u001b[0;34m\u001b[0m\u001b[0;34m\u001b[0m\u001b[0;34m\u001b[0m\u001b[0m\n\u001b[1;32m    327\u001b[0m                 \u001b[0minputs\u001b[0m\u001b[0;34m,\u001b[0m \u001b[0mlabel\u001b[0m \u001b[0;34m=\u001b[0m \u001b[0mdata\u001b[0m\u001b[0;34m\u001b[0m\u001b[0;34m\u001b[0m\u001b[0m\n\u001b[0;32m--> 328\u001b[0;31m                 \u001b[0moutputs\u001b[0m \u001b[0;34m=\u001b[0m \u001b[0mself\u001b[0m\u001b[0;34m.\u001b[0m\u001b[0mforward4predict\u001b[0m\u001b[0;34m(\u001b[0m\u001b[0minputs\u001b[0m\u001b[0;34m)\u001b[0m\u001b[0;34m\u001b[0m\u001b[0;34m\u001b[0m\u001b[0m\n\u001b[0m\u001b[1;32m    329\u001b[0m                 \u001b[0mtotal_loss\u001b[0m \u001b[0;34m+=\u001b[0m \u001b[0mloss_func\u001b[0m\u001b[0;34m(\u001b[0m\u001b[0mself\u001b[0m\u001b[0;34m.\u001b[0m\u001b[0mpara_dict\u001b[0m\u001b[0;34m,\u001b[0m \u001b[0moutputs\u001b[0m\u001b[0;34m,\u001b[0m \u001b[0mtorch\u001b[0m\u001b[0;34m.\u001b[0m\u001b[0mtensor\u001b[0m\u001b[0;34m(\u001b[0m\u001b[0mlabel\u001b[0m\u001b[0;34m)\u001b[0m\u001b[0;34m.\u001b[0m\u001b[0mtype\u001b[0m\u001b[0;34m(\u001b[0m\u001b[0mtorch\u001b[0m\u001b[0;34m.\u001b[0m\u001b[0mlong\u001b[0m\u001b[0;34m)\u001b[0m\u001b[0;34m)\u001b[0m\u001b[0;34m\u001b[0m\u001b[0;34m\u001b[0m\u001b[0m\n\u001b[1;32m    330\u001b[0m                 \u001b[0mlabels_test\u001b[0m\u001b[0;34m.\u001b[0m\u001b[0mappend\u001b[0m\u001b[0;34m(\u001b[0m\u001b[0mlabel\u001b[0m\u001b[0;34m)\u001b[0m\u001b[0;34m\u001b[0m\u001b[0;34m\u001b[0m\u001b[0m\n",
      "\u001b[0;32m~/SageMaker/.persisted_conda/aipt/lib/python3.6/site-packages/AIPT-0.0.1-py3.6.egg/AIPT/Models/Beshnova2020/CNN.py\u001b[0m in \u001b[0;36mforward4predict\u001b[0;34m(self, Xs)\u001b[0m\n\u001b[1;32m    147\u001b[0m \u001b[0;31m#         out = torch.sigmoid(self.fc2(out))\u001b[0m\u001b[0;34m\u001b[0m\u001b[0;34m\u001b[0m\u001b[0;34m\u001b[0m\u001b[0m\n\u001b[1;32m    148\u001b[0m \u001b[0;31m#         out = self.forward(Xs)\u001b[0m\u001b[0;34m\u001b[0m\u001b[0;34m\u001b[0m\u001b[0;34m\u001b[0m\u001b[0m\n\u001b[0;32m--> 149\u001b[0;31m         \u001b[0;32mreturn\u001b[0m \u001b[0mself\u001b[0m\u001b[0;34m.\u001b[0m\u001b[0mforward\u001b[0m\u001b[0;34m(\u001b[0m\u001b[0mXs\u001b[0m\u001b[0;34m)\u001b[0m\u001b[0;34m\u001b[0m\u001b[0;34m\u001b[0m\u001b[0m\n\u001b[0m\u001b[1;32m    150\u001b[0m \u001b[0;34m\u001b[0m\u001b[0m\n\u001b[1;32m    151\u001b[0m     \u001b[0;32mdef\u001b[0m \u001b[0mforward4optim\u001b[0m\u001b[0;34m(\u001b[0m\u001b[0mself\u001b[0m\u001b[0;34m,\u001b[0m \u001b[0mXs\u001b[0m\u001b[0;34m)\u001b[0m\u001b[0;34m:\u001b[0m\u001b[0;34m\u001b[0m\u001b[0;34m\u001b[0m\u001b[0m\n",
      "\u001b[0;32m~/SageMaker/.persisted_conda/aipt/lib/python3.6/site-packages/AIPT-0.0.1-py3.6.egg/AIPT/Models/Beshnova2020/CNN.py\u001b[0m in \u001b[0;36mforward\u001b[0;34m(self, Xs, _aa2id)\u001b[0m\n\u001b[1;32m    104\u001b[0m         \u001b[0mout\u001b[0m \u001b[0;34m=\u001b[0m \u001b[0mout\u001b[0m\u001b[0;34m.\u001b[0m\u001b[0munsqueeze\u001b[0m\u001b[0;34m(\u001b[0m\u001b[0;36m1\u001b[0m\u001b[0;34m)\u001b[0m \u001b[0;31m# todo: why is this necessary?\u001b[0m\u001b[0;34m\u001b[0m\u001b[0;34m\u001b[0m\u001b[0m\n\u001b[1;32m    105\u001b[0m \u001b[0;31m#         print('reshape', out.shape)\u001b[0m\u001b[0;34m\u001b[0m\u001b[0;34m\u001b[0m\u001b[0;34m\u001b[0m\u001b[0m\n\u001b[0;32m--> 106\u001b[0;31m         \u001b[0mout\u001b[0m \u001b[0;34m=\u001b[0m \u001b[0mself\u001b[0m\u001b[0;34m.\u001b[0m\u001b[0mconv1\u001b[0m\u001b[0;34m(\u001b[0m\u001b[0mout\u001b[0m\u001b[0;34m)\u001b[0m\u001b[0;34m\u001b[0m\u001b[0;34m\u001b[0m\u001b[0m\n\u001b[0m\u001b[1;32m    107\u001b[0m \u001b[0;31m#         print('conv1', out.shape)\u001b[0m\u001b[0;34m\u001b[0m\u001b[0;34m\u001b[0m\u001b[0;34m\u001b[0m\u001b[0m\n\u001b[1;32m    108\u001b[0m         \u001b[0mout\u001b[0m \u001b[0;34m=\u001b[0m \u001b[0mF\u001b[0m\u001b[0;34m.\u001b[0m\u001b[0mrelu\u001b[0m\u001b[0;34m(\u001b[0m\u001b[0mout\u001b[0m\u001b[0;34m)\u001b[0m\u001b[0;34m\u001b[0m\u001b[0;34m\u001b[0m\u001b[0m\n",
      "\u001b[0;32m~/SageMaker/.persisted_conda/aipt/lib/python3.6/site-packages/torch/nn/modules/module.py\u001b[0m in \u001b[0;36m__getattr__\u001b[0;34m(self, name)\u001b[0m\n\u001b[1;32m    770\u001b[0m                 \u001b[0;32mreturn\u001b[0m \u001b[0mmodules\u001b[0m\u001b[0;34m[\u001b[0m\u001b[0mname\u001b[0m\u001b[0;34m]\u001b[0m\u001b[0;34m\u001b[0m\u001b[0;34m\u001b[0m\u001b[0m\n\u001b[1;32m    771\u001b[0m         raise ModuleAttributeError(\"'{}' object has no attribute '{}'\".format(\n\u001b[0;32m--> 772\u001b[0;31m             type(self).__name__, name))\n\u001b[0m\u001b[1;32m    773\u001b[0m \u001b[0;34m\u001b[0m\u001b[0m\n\u001b[1;32m    774\u001b[0m     \u001b[0;32mdef\u001b[0m \u001b[0m__setattr__\u001b[0m\u001b[0;34m(\u001b[0m\u001b[0mself\u001b[0m\u001b[0;34m,\u001b[0m \u001b[0mname\u001b[0m\u001b[0;34m:\u001b[0m \u001b[0mstr\u001b[0m\u001b[0;34m,\u001b[0m \u001b[0mvalue\u001b[0m\u001b[0;34m:\u001b[0m \u001b[0mUnion\u001b[0m\u001b[0;34m[\u001b[0m\u001b[0mTensor\u001b[0m\u001b[0;34m,\u001b[0m \u001b[0;34m'Module'\u001b[0m\u001b[0;34m]\u001b[0m\u001b[0;34m)\u001b[0m \u001b[0;34m->\u001b[0m \u001b[0;32mNone\u001b[0m\u001b[0;34m:\u001b[0m\u001b[0;34m\u001b[0m\u001b[0;34m\u001b[0m\u001b[0m\n",
      "\u001b[0;31mModuleAttributeError\u001b[0m: 'CNN' object has no attribute 'conv1'"
     ]
    }
   ],
   "source": [
    "output, labels, loss = model.predict(test_loader)\n",
    "print(loss)\n",
    "model.evaluate(output, labels)"
   ]
  },
  {
   "cell_type": "markdown",
   "metadata": {},
   "source": [
    "## Tensorboard Output"
   ]
  },
  {
   "cell_type": "code",
   "execution_count": null,
   "metadata": {},
   "outputs": [],
   "source": [
    "# for line in iter(tensorboard_proc.stdout):\n",
    "#     print(line)\n",
    "# print(tensorboard_proc.stdout)\n",
    "# print(tensorboard_proc.stderr)\n",
    "# todo: get this output piping to work"
   ]
  },
  {
   "cell_type": "code",
   "execution_count": null,
   "metadata": {},
   "outputs": [],
   "source": []
  },
  {
   "cell_type": "code",
   "execution_count": null,
   "metadata": {},
   "outputs": [],
   "source": []
  }
 ],
 "metadata": {
  "kernelspec": {
   "display_name": "SSH ec2-user@2.tcp.ngrok.io:13448 roger-aipt-2020-10-22-1603399807",
   "language": "",
   "name": "rik_ssh_ec2_user_2_tcp_ngrok_io_13448_rogeraipt202010221603399807"
  },
  "language_info": {
   "codemirror_mode": {
    "name": "ipython",
    "version": 3
   },
   "file_extension": ".py",
   "mimetype": "text/x-python",
   "name": "python",
   "nbconvert_exporter": "python",
   "pygments_lexer": "ipython3",
   "version": "3.6.11"
  }
 },
 "nbformat": 4,
 "nbformat_minor": 4
}
