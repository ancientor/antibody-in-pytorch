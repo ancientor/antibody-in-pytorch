{
 "cells": [
  {
   "cell_type": "code",
   "execution_count": 22,
   "metadata": {},
   "outputs": [
    {
     "data": {
      "text/plain": [
       "'/home/ec2-user/SageMaker/antibody-in-pytorch/AIPT/Models/Beshnova2020'"
      ]
     },
     "execution_count": 22,
     "metadata": {},
     "output_type": "execute_result"
    }
   ],
   "source": [
    "import os\n",
    "aipt_dir = '/home/ec2-user/SageMaker/antibody-in-pytorch/'\n",
    "model_dir = 'AIPT/Models/Beshnova2020'\n",
    "model_dir_abs = os.path.join(aipt_dir, model_dir)\n",
    "os.chdir(model_dir_abs)\n",
    "%pwd"
   ]
  },
  {
   "cell_type": "code",
   "execution_count": 2,
   "metadata": {},
   "outputs": [],
   "source": [
    "import sagemaker\n",
    "from sagemaker import get_execution_role\n",
    "from sagemaker.pytorch import PyTorch\n",
    "from AIPT.Utils.logging import today, current_time"
   ]
  },
  {
   "cell_type": "code",
   "execution_count": 3,
   "metadata": {
    "collapsed": false,
    "jupyter": {
     "outputs_hidden": false
    },
    "pycharm": {
     "name": "#%%\n"
    }
   },
   "outputs": [],
   "source": [
    "sagemaker_session = sagemaker.Session()"
   ]
  },
  {
   "cell_type": "code",
   "execution_count": 4,
   "metadata": {
    "collapsed": false,
    "jupyter": {
     "outputs_hidden": false
    },
    "pycharm": {
     "name": "#%%\n"
    }
   },
   "outputs": [],
   "source": [
    "# log_root_dir = '/home/ec2-user/SageMaker/logs/tensorboard'\n",
    "run_root_dir = 's3://gv20interns/roger/runs'\n",
    "run_name = 's3_test'\n",
    "timezone = 'EST'\n",
    "run_dir = os.path.join(run_root_dir, today(tz=timezone), run_name, current_time(tz=timezone))\n",
    "out_dir = os.path.join(run_dir, 'out')\n",
    "para_dict = {\n",
    "    'seq_len': 12,\n",
    "    'embedding_dim': 15,  # paper uses dim 15 PCA features\n",
    "    'epoch': 1000,\n",
    "    'learning_rate': 10 ** -4,\n",
    "    'run_name': run_name,\n",
    "    'run_dir': run_dir,\n",
    "    'work_path': '/opt/ml/model',\n",
    "}\n"
   ]
  },
  {
   "cell_type": "code",
   "execution_count": 33,
   "metadata": {
    "collapsed": false,
    "jupyter": {
     "outputs_hidden": false
    },
    "pycharm": {
     "name": "#%%\n"
    }
   },
   "outputs": [],
   "source": [
    "pytorch_estimator = PyTorch(\n",
    "    base_job_name=\"roger-beshnova2020--\",\n",
    "    entry_point=os.path.join(model_dir, 'train_job.py'),\n",
    "    source_dir=\"../../../\",\n",
    "    role=get_execution_role(),\n",
    "    output_path=out_dir,\n",
    "    train_instance_type=\"ml.m5.large\",\n",
    "    train_instance_count=1,\n",
    "    train_use_spot_instances=True,\n",
    "    train_max_run=24 * 60 * 60,\n",
    "    train_max_wait=24 * 60 * 60,\n",
    "    py_version=\"py3\",\n",
    "    framework_version=\"1.6.0\",\n",
    "    hyperparameters=para_dict,\n",
    ")"
   ]
  },
  {
   "cell_type": "code",
   "execution_count": 34,
   "metadata": {
    "collapsed": false,
    "jupyter": {
     "outputs_hidden": false
    },
    "pycharm": {
     "name": "#%%\n"
    }
   },
   "outputs": [
    {
     "name": "stdout",
     "output_type": "stream",
     "text": [
      "2020-10-25 05:53:24 Starting - Starting the training job...\n",
      "2020-10-25 05:53:26 Starting - Launching requested ML instances......\n",
      "2020-10-25 05:54:35 Starting - Preparing the instances for training......\n",
      "2020-10-25 05:55:28 Downloading - Downloading input data............\n",
      "2020-10-25 05:57:51 Training - Training image download completed. Training in progress..bash: cannot set terminal process group (-1): Inappropriate ioctl for device\n",
      "bash: no job control in this shell\n",
      "2020-10-25 05:57:51,701 sagemaker-training-toolkit INFO     Imported framework sagemaker_pytorch_container.training\n",
      "2020-10-25 05:57:51,703 sagemaker-training-toolkit INFO     No GPUs detected (normal if no gpus installed)\n",
      "2020-10-25 05:57:51,712 sagemaker_pytorch_container.training INFO     Block until all host DNS lookups succeed.\n",
      "2020-10-25 05:57:53,176 sagemaker_pytorch_container.training INFO     Invoking user training script.\n",
      "2020-10-25 05:57:54,536 sagemaker-training-toolkit INFO     Installing module with the following command:\n",
      "/opt/conda/bin/python -m pip install . \n",
      "Processing /opt/ml/code\n",
      "Requirement already satisfied: torch in /opt/conda/lib/python3.6/site-packages (from AIPT==0.0.1) (1.6.0)\n",
      "Requirement already satisfied: torchvision in /opt/conda/lib/python3.6/site-packages (from AIPT==0.0.1) (0.7.0)\n",
      "Requirement already satisfied: matplotlib in /opt/conda/lib/python3.6/site-packages (from AIPT==0.0.1) (3.3.2)\n",
      "Requirement already satisfied: pandas in /opt/conda/lib/python3.6/site-packages (from AIPT==0.0.1) (1.1.3)\n",
      "Requirement already satisfied: scipy in /opt/conda/lib/python3.6/site-packages (from AIPT==0.0.1) (1.2.2)\n",
      "Requirement already satisfied: scikit-learn in /opt/conda/lib/python3.6/site-packages (from AIPT==0.0.1) (0.23.2)\n",
      "Collecting seaborn\n",
      "  Downloading seaborn-0.11.0-py3-none-any.whl (283 kB)\n",
      "Requirement already satisfied: ipython in /opt/conda/lib/python3.6/site-packages (from AIPT==0.0.1) (7.16.1)\n",
      "Collecting jupyter\n",
      "  Downloading jupyter-1.0.0-py2.py3-none-any.whl (2.7 kB)\n",
      "Requirement already satisfied: numpy in /opt/conda/lib/python3.6/site-packages (from torch->AIPT==0.0.1) (1.19.1)\n",
      "Requirement already satisfied: future in /opt/conda/lib/python3.6/site-packages (from torch->AIPT==0.0.1) (0.18.2)\n",
      "Requirement already satisfied: pillow>=4.1.1 in /opt/conda/lib/python3.6/site-packages (from torchvision->AIPT==0.0.1) (7.1.0)\n",
      "Requirement already satisfied: pyparsing!=2.0.4,!=2.1.2,!=2.1.6,>=2.0.3 in /opt/conda/lib/python3.6/site-packages (from matplotlib->AIPT==0.0.1) (2.4.7)\n",
      "Requirement already satisfied: python-dateutil>=2.1 in /opt/conda/lib/python3.6/site-packages (from matplotlib->AIPT==0.0.1) (2.8.1)\n",
      "Requirement already satisfied: kiwisolver>=1.0.1 in /opt/conda/lib/python3.6/site-packages (from matplotlib->AIPT==0.0.1) (1.2.0)\n",
      "Requirement already satisfied: cycler>=0.10 in /opt/conda/lib/python3.6/site-packages (from matplotlib->AIPT==0.0.1) (0.10.0)\n",
      "Requirement already satisfied: certifi>=2020.06.20 in /opt/conda/lib/python3.6/site-packages (from matplotlib->AIPT==0.0.1) (2020.6.20)\n",
      "Requirement already satisfied: pytz>=2017.2 in /opt/conda/lib/python3.6/site-packages (from pandas->AIPT==0.0.1) (2020.1)\n",
      "Requirement already satisfied: threadpoolctl>=2.0.0 in /opt/conda/lib/python3.6/site-packages (from scikit-learn->AIPT==0.0.1) (2.1.0)\n",
      "Requirement already satisfied: joblib>=0.11 in /opt/conda/lib/python3.6/site-packages (from scikit-learn->AIPT==0.0.1) (0.17.0)\n",
      "Requirement already satisfied: jedi>=0.10 in /opt/conda/lib/python3.6/site-packages (from ipython->AIPT==0.0.1) (0.17.2)\n",
      "Requirement already satisfied: pexpect; sys_platform != \"win32\" in /opt/conda/lib/python3.6/site-packages (from ipython->AIPT==0.0.1) (4.8.0)\n",
      "Requirement already satisfied: prompt-toolkit!=3.0.0,!=3.0.1,<3.1.0,>=2.0.0 in /opt/conda/lib/python3.6/site-packages (from ipython->AIPT==0.0.1) (3.0.7)\n",
      "Requirement already satisfied: decorator in /opt/conda/lib/python3.6/site-packages (from ipython->AIPT==0.0.1) (4.4.2)\n",
      "Requirement already satisfied: backcall in /opt/conda/lib/python3.6/site-packages (from ipython->AIPT==0.0.1) (0.2.0)\n",
      "Requirement already satisfied: setuptools>=18.5 in /opt/conda/lib/python3.6/site-packages (from ipython->AIPT==0.0.1) (50.3.0.post20201006)\n",
      "Requirement already satisfied: pygments in /opt/conda/lib/python3.6/site-packages (from ipython->AIPT==0.0.1) (2.7.1)\n",
      "Requirement already satisfied: traitlets>=4.2 in /opt/conda/lib/python3.6/site-packages (from ipython->AIPT==0.0.1) (4.3.3)\n",
      "Requirement already satisfied: pickleshare in /opt/conda/lib/python3.6/site-packages (from ipython->AIPT==0.0.1) (0.7.5)\n",
      "Collecting jupyter-console\n",
      "  Downloading jupyter_console-6.2.0-py3-none-any.whl (22 kB)\n",
      "Collecting notebook\n",
      "  Downloading notebook-6.1.4-py3-none-any.whl (9.5 MB)\n",
      "Collecting qtconsole\n",
      "  Downloading qtconsole-4.7.7-py2.py3-none-any.whl (118 kB)\n",
      "Collecting ipywidgets\n",
      "  Downloading ipywidgets-7.5.1-py2.py3-none-any.whl (121 kB)\n",
      "Collecting ipykernel\n",
      "  Downloading ipykernel-5.3.4-py3-none-any.whl (120 kB)\n",
      "Collecting nbconvert\n",
      "  Downloading nbconvert-6.0.7-py3-none-any.whl (552 kB)\n",
      "Requirement already satisfied: six>=1.5 in /opt/conda/lib/python3.6/site-packages (from python-dateutil>=2.1->matplotlib->AIPT==0.0.1) (1.15.0)\n",
      "Requirement already satisfied: parso<0.8.0,>=0.7.0 in /opt/conda/lib/python3.6/site-packages (from jedi>=0.10->ipython->AIPT==0.0.1) (0.7.0)\n",
      "Requirement already satisfied: ptyprocess>=0.5 in /opt/conda/lib/python3.6/site-packages (from pexpect; sys_platform != \"win32\"->ipython->AIPT==0.0.1) (0.6.0)\n",
      "Requirement already satisfied: wcwidth in /opt/conda/lib/python3.6/site-packages (from prompt-toolkit!=3.0.0,!=3.0.1,<3.1.0,>=2.0.0->ipython->AIPT==0.0.1) (0.2.5)\n",
      "Requirement already satisfied: ipython-genutils in /opt/conda/lib/python3.6/site-packages (from traitlets>=4.2->ipython->AIPT==0.0.1) (0.2.0)\n",
      "Collecting jupyter-client\n",
      "  Downloading jupyter_client-6.1.7-py3-none-any.whl (108 kB)\n",
      "Collecting nbformat\n",
      "  Downloading nbformat-5.0.8-py3-none-any.whl (172 kB)\n",
      "Collecting jupyter-core>=4.6.1\n",
      "  Downloading jupyter_core-4.6.3-py2.py3-none-any.whl (83 kB)\n",
      "Collecting Send2Trash\n",
      "  Downloading Send2Trash-1.5.0-py3-none-any.whl (12 kB)\n",
      "Collecting pyzmq>=17\n",
      "  Downloading pyzmq-19.0.2-cp36-cp36m-manylinux1_x86_64.whl (1.1 MB)\n",
      "Collecting terminado>=0.8.3\n",
      "  Downloading terminado-0.9.1-py3-none-any.whl (13 kB)\n",
      "Collecting argon2-cffi\n",
      "  Downloading argon2_cffi-20.1.0-cp35-abi3-manylinux1_x86_64.whl (97 kB)\n",
      "Collecting tornado>=5.0\n",
      "  Downloading tornado-6.0.4.tar.gz (496 kB)\n",
      "Collecting jinja2\n",
      "  Downloading Jinja2-2.11.2-py2.py3-none-any.whl (125 kB)\n",
      "Collecting prometheus-client\n",
      "  Downloading prometheus_client-0.8.0-py2.py3-none-any.whl (53 kB)\n",
      "Collecting qtpy\n",
      "  Downloading QtPy-1.9.0-py2.py3-none-any.whl (54 kB)\n",
      "Collecting widgetsnbextension~=3.5.0\n",
      "  Downloading widgetsnbextension-3.5.1-py2.py3-none-any.whl (2.2 MB)\n",
      "Collecting mistune<2,>=0.8.1\n",
      "  Downloading mistune-0.8.4-py2.py3-none-any.whl (16 kB)\n",
      "Collecting defusedxml\n",
      "  Downloading defusedxml-0.6.0-py2.py3-none-any.whl (23 kB)\n",
      "Collecting entrypoints>=0.2.2\n",
      "  Downloading entrypoints-0.3-py2.py3-none-any.whl (11 kB)\n",
      "Collecting nbclient<0.6.0,>=0.5.0\n",
      "  Downloading nbclient-0.5.1-py3-none-any.whl (65 kB)\n",
      "Collecting testpath\n",
      "  Downloading testpath-0.4.4-py2.py3-none-any.whl (163 kB)\n",
      "Collecting pandocfilters>=1.4.1\n",
      "  Downloading pandocfilters-1.4.3.tar.gz (16 kB)\n",
      "Collecting bleach\n",
      "  Downloading bleach-3.2.1-py2.py3-none-any.whl (145 kB)\n",
      "Collecting jupyterlab-pygments\n",
      "  Downloading jupyterlab_pygments-0.1.2-py2.py3-none-any.whl (4.6 kB)\n",
      "Collecting jsonschema!=2.5.0,>=2.4\n",
      "  Downloading jsonschema-3.2.0-py2.py3-none-any.whl (56 kB)\n",
      "Requirement already satisfied: cffi>=1.0.0 in /opt/conda/lib/python3.6/site-packages (from argon2-cffi->notebook->jupyter->AIPT==0.0.1) (1.14.3)\n",
      "Collecting MarkupSafe>=0.23\n",
      "  Downloading MarkupSafe-1.1.1-cp36-cp36m-manylinux1_x86_64.whl (27 kB)\n",
      "Collecting async-generator\n",
      "  Downloading async_generator-1.10-py3-none-any.whl (18 kB)\n",
      "Collecting nest-asyncio\n",
      "  Downloading nest_asyncio-1.4.1-py3-none-any.whl (5.2 kB)\n",
      "Collecting webencodings\n",
      "  Downloading webencodings-0.5.1-py2.py3-none-any.whl (11 kB)\n",
      "Requirement already satisfied: packaging in /opt/conda/lib/python3.6/site-packages (from bleach->nbconvert->jupyter->AIPT==0.0.1) (20.4)\n",
      "Collecting attrs>=17.4.0\n",
      "  Downloading attrs-20.2.0-py2.py3-none-any.whl (48 kB)\n",
      "Collecting pyrsistent>=0.14.0\n",
      "  Downloading pyrsistent-0.17.3.tar.gz (106 kB)\n",
      "Requirement already satisfied: importlib-metadata; python_version < \"3.8\" in /opt/conda/lib/python3.6/site-packages (from jsonschema!=2.5.0,>=2.4->nbformat->notebook->jupyter->AIPT==0.0.1) (2.0.0)\n",
      "Requirement already satisfied: pycparser in /opt/conda/lib/python3.6/site-packages (from cffi>=1.0.0->argon2-cffi->notebook->jupyter->AIPT==0.0.1) (2.20)\n",
      "Requirement already satisfied: zipp>=0.5 in /opt/conda/lib/python3.6/site-packages (from importlib-metadata; python_version < \"3.8\"->jsonschema!=2.5.0,>=2.4->nbformat->notebook->jupyter->AIPT==0.0.1) (3.3.0)\n",
      "Building wheels for collected packages: AIPT, tornado, pandocfilters, pyrsistent\n",
      "  Building wheel for AIPT (setup.py): started\n",
      "  Building wheel for AIPT (setup.py): finished with status 'done'\n",
      "  Created wheel for AIPT: filename=AIPT-0.0.1-py3-none-any.whl size=70309 sha256=2ea87ce8e85cc3c42dd5ce4fc4629631173759e8e1999ec1b7db66419129e3bf\n",
      "  Stored in directory: /tmp/pip-ephem-wheel-cache-8_jrx4u9/wheels/95/c1/85/65aaf48b35aba88c6e896d2fd04a4b69f1cee0d81ea32993ca\n",
      "  Building wheel for tornado (setup.py): started\n",
      "  Building wheel for tornado (setup.py): finished with status 'done'\n",
      "  Created wheel for tornado: filename=tornado-6.0.4-cp36-cp36m-linux_x86_64.whl size=422980 sha256=4f4fe2dfb582334cfc1e708dba939b74b0112913367f0c2ce6979ff7ec2b79a9\n",
      "  Stored in directory: /root/.cache/pip/wheels/37/a7/db/2d592e44029ef817f3ef63ea991db34191cebaef087a96f505\n",
      "  Building wheel for pandocfilters (setup.py): started\n",
      "  Building wheel for pandocfilters (setup.py): finished with status 'done'\n",
      "  Created wheel for pandocfilters: filename=pandocfilters-1.4.3-py3-none-any.whl size=7991 sha256=f70ca3f45241e4c3bc7c8bfafd00c886fd240048baa7621e174afa66fb91d625\n",
      "  Stored in directory: /root/.cache/pip/wheels/12/12/89/fe63ac4d6ee6440daab4db77b78c63f7f192b700f844b6639f\n",
      "  Building wheel for pyrsistent (setup.py): started\n",
      "  Building wheel for pyrsistent (setup.py): finished with status 'done'\n",
      "  Created wheel for pyrsistent: filename=pyrsistent-0.17.3-cp36-cp36m-linux_x86_64.whl size=112540 sha256=95743e3c649e97fb94415f75d4702047474d3f3fba03d9df61cf4595561a71a3\n",
      "  Stored in directory: /root/.cache/pip/wheels/34/13/19/294da8e11bce7e563afee51251b9fa878185e14f4b5caf00cb\n",
      "Successfully built AIPT tornado pandocfilters pyrsistent\n",
      "Installing collected packages: seaborn, tornado, pyzmq, jupyter-core, jupyter-client, ipykernel, jupyter-console, attrs, pyrsistent, jsonschema, nbformat, Send2Trash, terminado, argon2-cffi, MarkupSafe, jinja2, prometheus-client, mistune, defusedxml, entrypoints, async-generator, nest-asyncio, nbclient, testpath, pandocfilters, webencodings, bleach, jupyterlab-pygments, nbconvert, notebook, qtpy, qtconsole, widgetsnbextension, ipywidgets, jupyter, AIPT\n",
      "Successfully installed AIPT-0.0.1 MarkupSafe-1.1.1 Send2Trash-1.5.0 argon2-cffi-20.1.0 async-generator-1.10 attrs-20.2.0 bleach-3.2.1 defusedxml-0.6.0 entrypoints-0.3 ipykernel-5.3.4 ipywidgets-7.5.1 jinja2-2.11.2 jsonschema-3.2.0 jupyter-1.0.0 jupyter-client-6.1.7 jupyter-console-6.2.0 jupyter-core-4.6.3 jupyterlab-pygments-0.1.2 mistune-0.8.4 nbclient-0.5.1 nbconvert-6.0.7 nbformat-5.0.8 nest-asyncio-1.4.1 notebook-6.1.4 pandocfilters-1.4.3 prometheus-client-0.8.0 pyrsistent-0.17.3 pyzmq-19.0.2 qtconsole-4.7.7 qtpy-1.9.0 seaborn-0.11.0 terminado-0.9.1 testpath-0.4.4 tornado-6.0.4 webencodings-0.5.1 widgetsnbextension-3.5.1\n",
      "2020-10-25 05:58:07,177 sagemaker-training-toolkit INFO     No GPUs detected (normal if no gpus installed)\n",
      "2020-10-25 05:58:07,189 sagemaker-training-toolkit INFO     No GPUs detected (normal if no gpus installed)\n",
      "2020-10-25 05:58:07,200 sagemaker-training-toolkit INFO     No GPUs detected (normal if no gpus installed)\n",
      "2020-10-25 05:58:07,210 sagemaker-training-toolkit INFO     Invoking user script\n",
      "\n",
      "Training Env:\n",
      "\n",
      "{\n",
      "    \"additional_framework_parameters\": {},\n",
      "    \"channel_input_dirs\": {\n",
      "        \"data\": \"/opt/ml/input/data/data\"\n",
      "    },\n",
      "    \"current_host\": \"algo-1\",\n",
      "    \"framework_module\": \"sagemaker_pytorch_container.training:main\",\n",
      "    \"hosts\": [\n",
      "        \"algo-1\"\n",
      "    ],\n",
      "    \"hyperparameters\": {\n",
      "        \"run_dir\": \"s3://gv20interns/roger/runs/2020-10-25/s3_test/00.36.04\",\n",
      "        \"embedding_dim\": 15,\n",
      "        \"epoch\": 1000,\n",
      "        \"learning_rate\": 0.0001,\n",
      "        \"run_name\": \"s3_test\",\n",
      "        \"work_path\": \"/opt/ml/model\",\n",
      "        \"seq_len\": 12\n",
      "    },\n",
      "    \"input_config_dir\": \"/opt/ml/input/config\",\n",
      "    \"input_data_config\": {\n",
      "        \"data\": {\n",
      "            \"TrainingInputMode\": \"File\",\n",
      "            \"S3DistributionType\": \"FullyReplicated\",\n",
      "            \"RecordWrapperType\": \"None\"\n",
      "        }\n",
      "    },\n",
      "    \"input_dir\": \"/opt/ml/input\",\n",
      "    \"is_master\": true,\n",
      "    \"job_name\": \"roger-beshnova2020-2020-10-25-05-53-16-577\",\n",
      "    \"log_level\": 20,\n",
      "    \"master_hostname\": \"algo-1\",\n",
      "    \"model_dir\": \"/opt/ml/model\",\n",
      "    \"module_dir\": \"s3://gv20interns/roger-beshnova2020-2020-10-25-05-53-16-577/source/sourcedir.tar.gz\",\n",
      "    \"module_name\": \"AIPT/Models/Beshnova2020/train_job\",\n",
      "    \"network_interface_name\": \"eth0\",\n",
      "    \"num_cpus\": 2,\n",
      "    \"num_gpus\": 0,\n",
      "    \"output_data_dir\": \"/opt/ml/output/data\",\n",
      "    \"output_dir\": \"/opt/ml/output\",\n",
      "    \"output_intermediate_dir\": \"/opt/ml/output/intermediate\",\n",
      "    \"resource_config\": {\n",
      "        \"current_host\": \"algo-1\",\n",
      "        \"hosts\": [\n",
      "            \"algo-1\"\n",
      "        ],\n",
      "        \"network_interface_name\": \"eth0\"\n",
      "    },\n",
      "    \"user_entry_point\": \"AIPT/Models/Beshnova2020/train_job.py\"\n",
      "}\n",
      "\n",
      "Environment variables:\n",
      "\n",
      "SM_HOSTS=[\"algo-1\"]\n",
      "SM_NETWORK_INTERFACE_NAME=eth0\n",
      "SM_HPS={\"embedding_dim\":15,\"epoch\":1000,\"learning_rate\":0.0001,\"run_dir\":\"s3://gv20interns/roger/runs/2020-10-25/s3_test/00.36.04\",\"run_name\":\"s3_test\",\"seq_len\":12,\"work_path\":\"/opt/ml/model\"}\n",
      "SM_USER_ENTRY_POINT=AIPT/Models/Beshnova2020/train_job.py\n",
      "SM_FRAMEWORK_PARAMS={}\n",
      "SM_RESOURCE_CONFIG={\"current_host\":\"algo-1\",\"hosts\":[\"algo-1\"],\"network_interface_name\":\"eth0\"}\n",
      "SM_INPUT_DATA_CONFIG={\"data\":{\"RecordWrapperType\":\"None\",\"S3DistributionType\":\"FullyReplicated\",\"TrainingInputMode\":\"File\"}}\n",
      "SM_OUTPUT_DATA_DIR=/opt/ml/output/data\n",
      "SM_CHANNELS=[\"data\"]\n",
      "SM_CURRENT_HOST=algo-1\n",
      "SM_MODULE_NAME=AIPT/Models/Beshnova2020/train_job\n",
      "SM_LOG_LEVEL=20\n",
      "SM_FRAMEWORK_MODULE=sagemaker_pytorch_container.training:main\n",
      "SM_INPUT_DIR=/opt/ml/input\n",
      "SM_INPUT_CONFIG_DIR=/opt/ml/input/config\n",
      "SM_OUTPUT_DIR=/opt/ml/output\n",
      "SM_NUM_CPUS=2\n",
      "SM_NUM_GPUS=0\n",
      "SM_MODEL_DIR=/opt/ml/model\n",
      "SM_MODULE_DIR=s3://gv20interns/roger-beshnova2020-2020-10-25-05-53-16-577/source/sourcedir.tar.gz\n",
      "SM_TRAINING_ENV={\"additional_framework_parameters\":{},\"channel_input_dirs\":{\"data\":\"/opt/ml/input/data/data\"},\"current_host\":\"algo-1\",\"framework_module\":\"sagemaker_pytorch_container.training:main\",\"hosts\":[\"algo-1\"],\"hyperparameters\":{\"embedding_dim\":15,\"epoch\":1000,\"learning_rate\":0.0001,\"run_dir\":\"s3://gv20interns/roger/runs/2020-10-25/s3_test/00.36.04\",\"run_name\":\"s3_test\",\"seq_len\":12,\"work_path\":\"/opt/ml/model\"},\"input_config_dir\":\"/opt/ml/input/config\",\"input_data_config\":{\"data\":{\"RecordWrapperType\":\"None\",\"S3DistributionType\":\"FullyReplicated\",\"TrainingInputMode\":\"File\"}},\"input_dir\":\"/opt/ml/input\",\"is_master\":true,\"job_name\":\"roger-beshnova2020-2020-10-25-05-53-16-577\",\"log_level\":20,\"master_hostname\":\"algo-1\",\"model_dir\":\"/opt/ml/model\",\"module_dir\":\"s3://gv20interns/roger-beshnova2020-2020-10-25-05-53-16-577/source/sourcedir.tar.gz\",\"module_name\":\"AIPT/Models/Beshnova2020/train_job\",\"network_interface_name\":\"eth0\",\"num_cpus\":2,\"num_gpus\":0,\"output_data_dir\":\"/opt/ml/output/data\",\"output_dir\":\"/opt/ml/output\",\"output_intermediate_dir\":\"/opt/ml/output/intermediate\",\"resource_config\":{\"current_host\":\"algo-1\",\"hosts\":[\"algo-1\"],\"network_interface_name\":\"eth0\"},\"user_entry_point\":\"AIPT/Models/Beshnova2020/train_job.py\"}\n",
      "SM_USER_ARGS=[\"--embedding_dim\",\"15\",\"--epoch\",\"1000\",\"--learning_rate\",\"0.0001\",\"--run_dir\",\"s3://gv20interns/roger/runs/2020-10-25/s3_test/00.36.04\",\"--run_name\",\"s3_test\",\"--seq_len\",\"12\",\"--work_path\",\"/opt/ml/model\"]\n",
      "SM_OUTPUT_INTERMEDIATE_DIR=/opt/ml/output/intermediate\n",
      "SM_CHANNEL_DATA=/opt/ml/input/data/data\n",
      "SM_HP_RUN_DIR=s3://gv20interns/roger/runs/2020-10-25/s3_test/00.36.04\n",
      "SM_HP_EMBEDDING_DIM=15\n",
      "SM_HP_EPOCH=1000\n",
      "SM_HP_LEARNING_RATE=0.0001\n",
      "SM_HP_RUN_NAME=s3_test\n",
      "SM_HP_WORK_PATH=/opt/ml/model\n",
      "SM_HP_SEQ_LEN=12\n",
      "PYTHONPATH=/opt/ml/code:/opt/conda/bin:/opt/conda/lib/python36.zip:/opt/conda/lib/python3.6:/opt/conda/lib/python3.6/lib-dynload:/opt/conda/lib/python3.6/site-packages\n",
      "\n",
      "Invoking script with the following command:\n",
      "\n",
      "/opt/conda/bin/python -m AIPT/Models/Beshnova2020/train_job --embedding_dim 15 --epoch 1000 --learning_rate 0.0001 --run_dir s3://gv20interns/roger/runs/2020-10-25/s3_test/00.36.04 --run_name s3_test --seq_len 12 --work_path /opt/ml/model\n",
      "\n",
      "\n",
      "2020-10-25 05:58:07,241 sagemaker-training-toolkit ERROR    ExecuteUserScriptError:\n",
      "Command \"/opt/conda/bin/python -m AIPT/Models/Beshnova2020/train_job --embedding_dim 15 --epoch 1000 --learning_rate 0.0001 --run_dir s3://gv20interns/roger/runs/2020-10-25/s3_test/00.36.04 --run_name s3_test --seq_len 12 --work_path /opt/ml/model\"\n",
      "/opt/conda/bin/python: No module named AIPT/Models/Beshnova2020/train_job\n",
      "\n",
      "2020-10-25 05:58:18 Uploading - Uploading generated training model\n",
      "2020-10-25 05:58:18 Failed - Training job failed\n"
     ]
    },
    {
     "ename": "UnexpectedStatusException",
     "evalue": "Error for Training job roger-beshnova2020-2020-10-25-05-53-16-577: Failed. Reason: AlgorithmError: ExecuteUserScriptError:\nCommand \"/opt/conda/bin/python -m AIPT/Models/Beshnova2020/train_job --embedding_dim 15 --epoch 1000 --learning_rate 0.0001 --run_dir s3://gv20interns/roger/runs/2020-10-25/s3_test/00.36.04 --run_name s3_test --seq_len 12 --work_path /opt/ml/model\"\n/opt/conda/bin/python: No module named AIPT/Models/Beshnova2020/train_job",
     "output_type": "error",
     "traceback": [
      "\u001b[0;31m---------------------------------------------------------------------------\u001b[0m",
      "\u001b[0;31mUnexpectedStatusException\u001b[0m                 Traceback (most recent call last)",
      "\u001b[0;32m<ipython-input-34-c8d29736efe6>\u001b[0m in \u001b[0;36m<module>\u001b[0;34m\u001b[0m\n\u001b[0;32m----> 1\u001b[0;31m \u001b[0mpytorch_estimator\u001b[0m\u001b[0;34m.\u001b[0m\u001b[0mfit\u001b[0m\u001b[0;34m(\u001b[0m\u001b[0;34m{\u001b[0m\u001b[0;34m'data'\u001b[0m\u001b[0;34m:\u001b[0m \u001b[0;34m's3://gv20interns/OAS_dataset'\u001b[0m\u001b[0;34m}\u001b[0m\u001b[0;34m)\u001b[0m\u001b[0;34m\u001b[0m\u001b[0;34m\u001b[0m\u001b[0m\n\u001b[0m",
      "\u001b[0;32m~/SageMaker/.persisted_conda/aipt/lib/python3.6/site-packages/sagemaker/estimator.py\u001b[0m in \u001b[0;36mfit\u001b[0;34m(self, inputs, wait, logs, job_name, experiment_config)\u001b[0m\n\u001b[1;32m    533\u001b[0m         \u001b[0mself\u001b[0m\u001b[0;34m.\u001b[0m\u001b[0mjobs\u001b[0m\u001b[0;34m.\u001b[0m\u001b[0mappend\u001b[0m\u001b[0;34m(\u001b[0m\u001b[0mself\u001b[0m\u001b[0;34m.\u001b[0m\u001b[0mlatest_training_job\u001b[0m\u001b[0;34m)\u001b[0m\u001b[0;34m\u001b[0m\u001b[0;34m\u001b[0m\u001b[0m\n\u001b[1;32m    534\u001b[0m         \u001b[0;32mif\u001b[0m \u001b[0mwait\u001b[0m\u001b[0;34m:\u001b[0m\u001b[0;34m\u001b[0m\u001b[0;34m\u001b[0m\u001b[0m\n\u001b[0;32m--> 535\u001b[0;31m             \u001b[0mself\u001b[0m\u001b[0;34m.\u001b[0m\u001b[0mlatest_training_job\u001b[0m\u001b[0;34m.\u001b[0m\u001b[0mwait\u001b[0m\u001b[0;34m(\u001b[0m\u001b[0mlogs\u001b[0m\u001b[0;34m=\u001b[0m\u001b[0mlogs\u001b[0m\u001b[0;34m)\u001b[0m\u001b[0;34m\u001b[0m\u001b[0;34m\u001b[0m\u001b[0m\n\u001b[0m\u001b[1;32m    536\u001b[0m \u001b[0;34m\u001b[0m\u001b[0m\n\u001b[1;32m    537\u001b[0m     \u001b[0;32mdef\u001b[0m \u001b[0m_compilation_job_name\u001b[0m\u001b[0;34m(\u001b[0m\u001b[0mself\u001b[0m\u001b[0;34m)\u001b[0m\u001b[0;34m:\u001b[0m\u001b[0;34m\u001b[0m\u001b[0;34m\u001b[0m\u001b[0m\n",
      "\u001b[0;32m~/SageMaker/.persisted_conda/aipt/lib/python3.6/site-packages/sagemaker/estimator.py\u001b[0m in \u001b[0;36mwait\u001b[0;34m(self, logs)\u001b[0m\n\u001b[1;32m   1207\u001b[0m         \u001b[0;31m# If logs are requested, call logs_for_jobs.\u001b[0m\u001b[0;34m\u001b[0m\u001b[0;34m\u001b[0m\u001b[0;34m\u001b[0m\u001b[0m\n\u001b[1;32m   1208\u001b[0m         \u001b[0;32mif\u001b[0m \u001b[0mlogs\u001b[0m \u001b[0;34m!=\u001b[0m \u001b[0;34m\"None\"\u001b[0m\u001b[0;34m:\u001b[0m\u001b[0;34m\u001b[0m\u001b[0;34m\u001b[0m\u001b[0m\n\u001b[0;32m-> 1209\u001b[0;31m             \u001b[0mself\u001b[0m\u001b[0;34m.\u001b[0m\u001b[0msagemaker_session\u001b[0m\u001b[0;34m.\u001b[0m\u001b[0mlogs_for_job\u001b[0m\u001b[0;34m(\u001b[0m\u001b[0mself\u001b[0m\u001b[0;34m.\u001b[0m\u001b[0mjob_name\u001b[0m\u001b[0;34m,\u001b[0m \u001b[0mwait\u001b[0m\u001b[0;34m=\u001b[0m\u001b[0;32mTrue\u001b[0m\u001b[0;34m,\u001b[0m \u001b[0mlog_type\u001b[0m\u001b[0;34m=\u001b[0m\u001b[0mlogs\u001b[0m\u001b[0;34m)\u001b[0m\u001b[0;34m\u001b[0m\u001b[0;34m\u001b[0m\u001b[0m\n\u001b[0m\u001b[1;32m   1210\u001b[0m         \u001b[0;32melse\u001b[0m\u001b[0;34m:\u001b[0m\u001b[0;34m\u001b[0m\u001b[0;34m\u001b[0m\u001b[0m\n\u001b[1;32m   1211\u001b[0m             \u001b[0mself\u001b[0m\u001b[0;34m.\u001b[0m\u001b[0msagemaker_session\u001b[0m\u001b[0;34m.\u001b[0m\u001b[0mwait_for_job\u001b[0m\u001b[0;34m(\u001b[0m\u001b[0mself\u001b[0m\u001b[0;34m.\u001b[0m\u001b[0mjob_name\u001b[0m\u001b[0;34m)\u001b[0m\u001b[0;34m\u001b[0m\u001b[0;34m\u001b[0m\u001b[0m\n",
      "\u001b[0;32m~/SageMaker/.persisted_conda/aipt/lib/python3.6/site-packages/sagemaker/session.py\u001b[0m in \u001b[0;36mlogs_for_job\u001b[0;34m(self, job_name, wait, poll, log_type)\u001b[0m\n\u001b[1;32m   3273\u001b[0m \u001b[0;34m\u001b[0m\u001b[0m\n\u001b[1;32m   3274\u001b[0m         \u001b[0;32mif\u001b[0m \u001b[0mwait\u001b[0m\u001b[0;34m:\u001b[0m\u001b[0;34m\u001b[0m\u001b[0;34m\u001b[0m\u001b[0m\n\u001b[0;32m-> 3275\u001b[0;31m             \u001b[0mself\u001b[0m\u001b[0;34m.\u001b[0m\u001b[0m_check_job_status\u001b[0m\u001b[0;34m(\u001b[0m\u001b[0mjob_name\u001b[0m\u001b[0;34m,\u001b[0m \u001b[0mdescription\u001b[0m\u001b[0;34m,\u001b[0m \u001b[0;34m\"TrainingJobStatus\"\u001b[0m\u001b[0;34m)\u001b[0m\u001b[0;34m\u001b[0m\u001b[0;34m\u001b[0m\u001b[0m\n\u001b[0m\u001b[1;32m   3276\u001b[0m             \u001b[0;32mif\u001b[0m \u001b[0mdot\u001b[0m\u001b[0;34m:\u001b[0m\u001b[0;34m\u001b[0m\u001b[0;34m\u001b[0m\u001b[0m\n\u001b[1;32m   3277\u001b[0m                 \u001b[0mprint\u001b[0m\u001b[0;34m(\u001b[0m\u001b[0;34m)\u001b[0m\u001b[0;34m\u001b[0m\u001b[0;34m\u001b[0m\u001b[0m\n",
      "\u001b[0;32m~/SageMaker/.persisted_conda/aipt/lib/python3.6/site-packages/sagemaker/session.py\u001b[0m in \u001b[0;36m_check_job_status\u001b[0;34m(self, job, desc, status_key_name)\u001b[0m\n\u001b[1;32m   2865\u001b[0m                 ),\n\u001b[1;32m   2866\u001b[0m                 \u001b[0mallowed_statuses\u001b[0m\u001b[0;34m=\u001b[0m\u001b[0;34m[\u001b[0m\u001b[0;34m\"Completed\"\u001b[0m\u001b[0;34m,\u001b[0m \u001b[0;34m\"Stopped\"\u001b[0m\u001b[0;34m]\u001b[0m\u001b[0;34m,\u001b[0m\u001b[0;34m\u001b[0m\u001b[0;34m\u001b[0m\u001b[0m\n\u001b[0;32m-> 2867\u001b[0;31m                 \u001b[0mactual_status\u001b[0m\u001b[0;34m=\u001b[0m\u001b[0mstatus\u001b[0m\u001b[0;34m,\u001b[0m\u001b[0;34m\u001b[0m\u001b[0;34m\u001b[0m\u001b[0m\n\u001b[0m\u001b[1;32m   2868\u001b[0m             )\n\u001b[1;32m   2869\u001b[0m \u001b[0;34m\u001b[0m\u001b[0m\n",
      "\u001b[0;31mUnexpectedStatusException\u001b[0m: Error for Training job roger-beshnova2020-2020-10-25-05-53-16-577: Failed. Reason: AlgorithmError: ExecuteUserScriptError:\nCommand \"/opt/conda/bin/python -m AIPT/Models/Beshnova2020/train_job --embedding_dim 15 --epoch 1000 --learning_rate 0.0001 --run_dir s3://gv20interns/roger/runs/2020-10-25/s3_test/00.36.04 --run_name s3_test --seq_len 12 --work_path /opt/ml/model\"\n/opt/conda/bin/python: No module named AIPT/Models/Beshnova2020/train_job"
     ]
    }
   ],
   "source": [
    "pytorch_estimator.fit({'data': 's3://gv20interns/OAS_dataset'})"
   ]
  },
  {
   "cell_type": "code",
   "execution_count": 28,
   "metadata": {},
   "outputs": [
    {
     "data": {
      "text/plain": [
       "['__pycache__',\n",
       " 'work',\n",
       " 'Replicate Liu2019.ipynb',\n",
       " '.ipynb_checkpoints',\n",
       " '__init__.py',\n",
       " 'train_job.py',\n",
       " 'pca_embedding.py',\n",
       " 'Replicate_Beshnova2020.ipynb',\n",
       " 'CNN.py',\n",
       " 'figures',\n",
       " 'model.py',\n",
       " 'AAidx_PCA.txt',\n",
       " 'CNNx1_classifier.py',\n",
       " 'submit_train_job.ipynb',\n",
       " 'OAS_index.txt']"
      ]
     },
     "execution_count": 28,
     "metadata": {},
     "output_type": "execute_result"
    }
   ],
   "source": [
    "os.listdir('../../..')\n",
    "os.listdir(os.path.join('../../..', model_dir))"
   ]
  },
  {
   "cell_type": "code",
   "execution_count": null,
   "metadata": {},
   "outputs": [],
   "source": []
  }
 ],
 "metadata": {
  "kernelspec": {
   "display_name": "SSH ec2-user@2.tcp.ngrok.io:13448 roger-aipt-2020-10-22-1603399807",
   "language": "",
   "name": "rik_ssh_ec2_user_2_tcp_ngrok_io_13448_rogeraipt202010221603399807"
  },
  "language_info": {
   "codemirror_mode": {
    "name": "ipython",
    "version": 3
   },
   "file_extension": ".py",
   "mimetype": "text/x-python",
   "name": "python",
   "nbconvert_exporter": "python",
   "pygments_lexer": "ipython3",
   "version": "3.6.11"
  },
  "pycharm": {
   "stem_cell": {
    "cell_type": "raw",
    "source": [],
    "metadata": {
     "collapsed": false
    }
   }
  }
 },
 "nbformat": 4,
 "nbformat_minor": 4
}