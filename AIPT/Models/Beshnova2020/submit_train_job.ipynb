{
 "cells": [
  {
   "cell_type": "code",
   "execution_count": 2,
   "metadata": {},
   "outputs": [
    {
     "data": {
      "text/plain": [
       "'/home/ec2-user/SageMaker/antibody-in-pytorch/AIPT/Models/Beshnova2020'"
      ]
     },
     "execution_count": 2,
     "metadata": {},
     "output_type": "execute_result"
    }
   ],
   "source": [
    "import os\n",
    "aipt_dir = '/home/ec2-user/SageMaker/antibody-in-pytorch/'\n",
    "model_dir = 'AIPT/Models/Beshnova2020'\n",
    "model_dir_abs = os.path.join(aipt_dir, model_dir)\n",
    "os.chdir(model_dir_abs)\n",
    "%pwd"
   ]
  },
  {
   "cell_type": "code",
   "execution_count": 3,
   "metadata": {},
   "outputs": [],
   "source": [
    "import sagemaker\n",
    "from sagemaker import get_execution_role\n",
    "from sagemaker.pytorch import PyTorch\n",
    "from AIPT.Utils.logging import today, current_time"
   ]
  },
  {
   "cell_type": "code",
   "execution_count": 4,
   "metadata": {
    "collapsed": false,
    "jupyter": {
     "outputs_hidden": false
    },
    "pycharm": {
     "name": "#%%\n"
    }
   },
   "outputs": [],
   "source": [
    "sagemaker_session = sagemaker.Session()"
   ]
  },
  {
   "cell_type": "code",
   "execution_count": 5,
   "metadata": {
    "collapsed": false,
    "jupyter": {
     "outputs_hidden": false
    },
    "pycharm": {
     "name": "#%%\n"
    }
   },
   "outputs": [],
   "source": [
    "# log_root_dir = '/home/ec2-user/SageMaker/logs/tensorboard'\n",
    "run_root_dir = 's3://gv20interns/roger/runs'\n",
    "run_name = 's3_test'\n",
    "timezone = 'EST'\n",
    "run_dir = os.path.join(run_root_dir, today(tz=timezone), run_name, current_time(tz=timezone))\n",
    "out_dir = os.path.join(run_dir, 'out')\n",
    "para_dict = {\n",
    "    'seq_len': 12,\n",
    "    'embedding_dim': 15,  # paper uses dim 15 PCA features\n",
    "    'epoch': 1000,\n",
    "    'learning_rate': 10 ** -4,\n",
    "    'run_name': run_name,\n",
    "    'run_dir': run_dir,\n",
    "    'work_path': '/opt/ml/model',\n",
    "}\n"
   ]
  },
  {
   "cell_type": "code",
   "execution_count": 6,
   "metadata": {
    "collapsed": false,
    "jupyter": {
     "outputs_hidden": false
    },
    "pycharm": {
     "name": "#%%\n"
    }
   },
   "outputs": [],
   "source": [
    "pytorch_estimator = PyTorch(\n",
    "    base_job_name=\"roger-beshnova2020--\",\n",
    "    entry_point='submit_beshnova2020.py',\n",
    "    source_dir=\"../../../\",\n",
    "    role=get_execution_role(),\n",
    "    output_path=out_dir,\n",
    "    train_instance_type=\"ml.m5.large\",\n",
    "    train_instance_count=1,\n",
    "    train_use_spot_instances=True,\n",
    "    train_max_run=24 * 60 * 60,\n",
    "    train_max_wait=24 * 60 * 60,\n",
    "    py_version=\"py3\",\n",
    "    framework_version=\"1.6.0\",\n",
    "    hyperparameters=para_dict,\n",
    ")"
   ]
  },
  {
   "cell_type": "code",
   "execution_count": null,
   "metadata": {
    "collapsed": false,
    "jupyter": {
     "outputs_hidden": false
    },
    "pycharm": {
     "name": "#%%\n"
    }
   },
   "outputs": [
    {
     "name": "stdout",
     "output_type": "stream",
     "text": [
      "2020-10-25 07:34:51 Starting - Starting the training job...\n",
      "2020-10-25 07:34:53 Starting - Launching requested ML instances..."
     ]
    }
   ],
   "source": [
    "pytorch_estimator.fit({'data': 's3://gv20interns/OAS_dataset'})"
   ]
  },
  {
   "cell_type": "code",
   "execution_count": null,
   "metadata": {},
   "outputs": [],
   "source": [
    "import os\n",
    "os.listdir('../../..')"
   ]
  },
  {
   "cell_type": "code",
   "execution_count": null,
   "metadata": {},
   "outputs": [],
   "source": []
  }
 ],
 "metadata": {
  "kernelspec": {
   "display_name": "SSH ec2-user@2.tcp.ngrok.io:13448 roger-aipt-2020-10-22-1603399807",
   "language": "",
   "name": "rik_ssh_ec2_user_2_tcp_ngrok_io_13448_rogeraipt202010221603399807"
  },
  "language_info": {
   "codemirror_mode": {
    "name": "ipython",
    "version": 3
   },
   "file_extension": ".py",
   "mimetype": "text/x-python",
   "name": "python",
   "nbconvert_exporter": "python",
   "pygments_lexer": "ipython3",
   "version": "3.6.11"
  },
  "pycharm": {
   "stem_cell": {
    "cell_type": "raw",
    "metadata": {
     "collapsed": false
    },
    "source": []
   }
  }
 },
 "nbformat": 4,
 "nbformat_minor": 4
}
